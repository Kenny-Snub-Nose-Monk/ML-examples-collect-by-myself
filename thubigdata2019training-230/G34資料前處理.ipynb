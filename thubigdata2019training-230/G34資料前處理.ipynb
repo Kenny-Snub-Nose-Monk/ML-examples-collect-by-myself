{
 "cells": [
  {
   "cell_type": "code",
   "execution_count": 1,
   "metadata": {},
   "outputs": [],
   "source": [
    "import numpy as np\n",
    "import pandas as pd\n",
    "import os\n",
    "import re\n",
    "from glob import glob"
   ]
  },
  {
   "cell_type": "code",
   "execution_count": 2,
   "metadata": {},
   "outputs": [],
   "source": [
    "G34_raw_data = sorted(glob('./raw_data/G34/G*.txt'))"
   ]
  },
  {
   "cell_type": "code",
   "execution_count": 3,
   "metadata": {},
   "outputs": [],
   "source": [
    "G34_raw_data_name = list(map(lambda x:x[15:],G34_raw_data))"
   ]
  },
  {
   "cell_type": "code",
   "execution_count": 4,
   "metadata": {},
   "outputs": [
    {
     "name": "stderr",
     "output_type": "stream",
     "text": [
      "C:\\Users\\AutoUser\\Anaconda3\\lib\\site-packages\\ipykernel\\__main__.py:9: FutureWarning: Sorting because non-concatenation axis is not aligned. A future version\n",
      "of pandas will change to not sort by default.\n",
      "\n",
      "To accept the future behavior, pass 'sort=False'.\n",
      "\n",
      "To retain the current behavior and silence the warning, pass 'sort=True'.\n",
      "\n"
     ]
    }
   ],
   "source": [
    "i = 0\n",
    "all_data = pd.DataFrame()\n",
    "for file in G34_raw_data:\n",
    "    data = pd.read_csv(file, sep = '\\t')\n",
    "    data['data_name'] = G34_raw_data_name[i]\n",
    "    data.columns = data.columns.str.replace('  ','')\n",
    "    data.columns = data.columns.str.replace('G34 -','G34-') #有些奇怪的間隔\n",
    "    data['data_point'] = data.index\n",
    "    all_data = pd.concat([data,all_data])\n",
    "    all_data = all_data.drop([0]) #消除單位Deg.\n",
    "    all_data.reset_index(drop = True)\n",
    "    i = i + 1"
   ]
  },
  {
   "cell_type": "code",
   "execution_count": 5,
   "metadata": {},
   "outputs": [
    {
     "data": {
      "text/plain": [
       "Index(['G34-PTC1', 'G34-PTC10', 'G34-PTC11', 'G34-PTC12', 'G34-PTC13',\n",
       "       'G34-PTC14', 'G34-PTC15', 'G34-PTC16', 'G34-PTC17', 'G34-PTC18',\n",
       "       'G34-PTC19', 'G34-PTC2', 'G34-PTC20', 'G34-PTC21', 'G34-PTC22',\n",
       "       'G34-PTC23', 'G34-PTC24', 'G34-PTC25', 'G34-PTC26', 'G34-PTC28',\n",
       "       'G34-PTC29', 'G34-PTC3', 'G34-PTC30', 'G34-PTC31', 'G34-PTC32',\n",
       "       'G34-PTC33', 'G34-PTC34', 'G34-PTC35', 'G34-PTC36', 'G34-PTC37',\n",
       "       'G34-PTC38', 'G34-PTC39', 'G34-PTC4', 'G34-PTC40', 'G34-PTC41',\n",
       "       'G34-PTC42', 'G34-PTC43', 'G34-PTC44', 'G34-PTC45', 'G34-PTC46',\n",
       "       'G34-PTC47', 'G34-PTC48', 'G34-PTC5', 'G34-PTC6', 'G34-PTC7',\n",
       "       'G34-PTC8', 'G34-PTC9', 'Unnamed: 8', 'data_name', 'data_point'],\n",
       "      dtype='object')"
      ]
     },
     "execution_count": 5,
     "metadata": {},
     "output_type": "execute_result"
    }
   ],
   "source": [
    "all_data.columns"
   ]
  },
  {
   "cell_type": "code",
   "execution_count": 6,
   "metadata": {},
   "outputs": [],
   "source": [
    "#drop 'Unnamed: 5', 'Unnamed: 6', 'Unnamed: 8' 的columns\n",
    "#rows出現 Deg的資料 欄位\n",
    "for column in all_data.columns:\n",
    "    if column[0] == 'U':\n",
    "        all_data.drop([column],axis = 1,inplace = True)"
   ]
  },
  {
   "cell_type": "code",
   "execution_count": 7,
   "metadata": {},
   "outputs": [],
   "source": [
    "all_data['data_name'] = all_data['data_name'].apply(lambda x:x[:-11]) #去掉 _Export.txt"
   ]
  },
  {
   "cell_type": "code",
   "execution_count": 8,
   "metadata": {},
   "outputs": [
    {
     "data": {
      "text/plain": [
       "377    G34 -AC(12X30)20170506-001\n",
       "378    G34 -AC(12X30)20170506-001\n",
       "379    G34 -AC(12X30)20170506-001\n",
       "380    G34 -AC(12X30)20170506-001\n",
       "381    G34 -AC(12X30)20170506-001\n",
       "Name: data_name, dtype: object"
      ]
     },
     "execution_count": 8,
     "metadata": {},
     "output_type": "execute_result"
    }
   ],
   "source": [
    "all_data['data_name'].tail()"
   ]
  },
  {
   "cell_type": "code",
   "execution_count": 9,
   "metadata": {},
   "outputs": [],
   "source": [
    "all_data['recipes'] = all_data['data_name'].str.extract(r'(G\\d+)',expand = False) #抓出所屬的Recipes\n",
    "all_data['autoclave'] = all_data['data_name'].str.extract(r'(AC\\(\\d+x\\d+\\))',expand = False,flags=re.IGNORECASE) #用正則抓出 所屬的熱壓爐\n",
    "all_data['date'] = all_data['data_name'].str.extract(r'(\\d{7,8})',expand = False) #抓出日期\n",
    "all_data['number'] = all_data['data_name'].str.extract(r'(00\\d{1,3})',expand = False)#抓出所屬編號\n",
    "all_data.drop(['data_name'],axis = 1,inplace = True)"
   ]
  },
  {
   "cell_type": "code",
   "execution_count": 10,
   "metadata": {},
   "outputs": [],
   "source": [
    "all_data.columns = all_data.columns.str.replace('G34-','')"
   ]
  },
  {
   "cell_type": "code",
   "execution_count": 11,
   "metadata": {},
   "outputs": [],
   "source": [
    "PTC_list = []\n",
    "for column in all_data.columns:\n",
    "    if column[0] == 'P' and column[-1] != 't':\n",
    "        PTC_list.append(column)"
   ]
  },
  {
   "cell_type": "code",
   "execution_count": 12,
   "metadata": {},
   "outputs": [],
   "source": [
    "all_data['PTC_count'] = len(PTC_list) - (all_data.shape[1] - all_data.count(axis = 1)) \n",
    "#每筆資料所收集溫度參數的個數"
   ]
  },
  {
   "cell_type": "code",
   "execution_count": 13,
   "metadata": {},
   "outputs": [
    {
     "data": {
      "text/plain": [
       "Index(['PTC1', 'PTC10', 'PTC11', 'PTC12', 'PTC13', 'PTC14', 'PTC15', 'PTC16',\n",
       "       'PTC17', 'PTC18', 'PTC19', 'PTC2', 'PTC20', 'PTC21', 'PTC22', 'PTC23',\n",
       "       'PTC24', 'PTC25', 'PTC26', 'PTC28', 'PTC29', 'PTC3', 'PTC30', 'PTC31',\n",
       "       'PTC32', 'PTC33', 'PTC34', 'PTC35', 'PTC36', 'PTC37', 'PTC38', 'PTC39',\n",
       "       'PTC4', 'PTC40', 'PTC41', 'PTC42', 'PTC43', 'PTC44', 'PTC45', 'PTC46',\n",
       "       'PTC47', 'PTC48', 'PTC5', 'PTC6', 'PTC7', 'PTC8', 'PTC9', 'data_point',\n",
       "       'recipes', 'autoclave', 'date', 'number', 'PTC_count'],\n",
       "      dtype='object')"
      ]
     },
     "execution_count": 13,
     "metadata": {},
     "output_type": "execute_result"
    }
   ],
   "source": [
    "all_data.columns"
   ]
  },
  {
   "cell_type": "code",
   "execution_count": 14,
   "metadata": {},
   "outputs": [],
   "source": [
    "all_data['TemParameter'] = 0"
   ]
  },
  {
   "cell_type": "code",
   "execution_count": 15,
   "metadata": {},
   "outputs": [],
   "source": [
    "G34_data = pd.DataFrame()"
   ]
  },
  {
   "cell_type": "code",
   "execution_count": 16,
   "metadata": {},
   "outputs": [],
   "source": [
    "for PTC in PTC_list:\n",
    "    data = all_data.loc[~all_data[PTC].isnull(),\n",
    "             ['number', 'date', 'autoclave', 'recipes'\n",
    "              ,'TemParameter', 'PTC_count','data_point',PTC]] #將各別 PTC 非0的數據挑出\n",
    "    data['TemParameter'] = PTC  #建立 TemParameter 對應所屬來的PTC\n",
    "    data['value'] = data[PTC]  # 賦予value值 統一\n",
    "    data.drop([PTC],inplace=True,axis = 1)\n",
    "    G34_data = pd.concat([G34_data,data])"
   ]
  },
  {
   "cell_type": "code",
   "execution_count": 17,
   "metadata": {},
   "outputs": [],
   "source": [
    "G34_data.reset_index(drop=True, inplace=True)"
   ]
  },
  {
   "cell_type": "code",
   "execution_count": 18,
   "metadata": {},
   "outputs": [
    {
     "data": {
      "text/plain": [
       "PTC1     4582\n",
       "PTC32    3834\n",
       "PTC22    3552\n",
       "PTC6     3337\n",
       "PTC44    3079\n",
       "PTC34    3070\n",
       "PTC9     3069\n",
       "PTC7     3067\n",
       "PTC14    2991\n",
       "PTC3     2966\n",
       "PTC16    2738\n",
       "PTC21    2691\n",
       "PTC41    2689\n",
       "PTC25    2683\n",
       "PTC17    2679\n",
       "PTC42    2634\n",
       "PTC40    2628\n",
       "PTC29    2611\n",
       "PTC35    2318\n",
       "PTC5     2317\n",
       "PTC37    2278\n",
       "PTC45    2249\n",
       "PTC26    2229\n",
       "PTC20    2225\n",
       "PTC8     1992\n",
       "PTC15    1944\n",
       "PTC30    1914\n",
       "PTC33    1905\n",
       "PTC13    1885\n",
       "PTC36    1868\n",
       "PTC28    1867\n",
       "PTC43    1844\n",
       "PTC31    1549\n",
       "PTC2     1539\n",
       "PTC38    1518\n",
       "PTC4     1517\n",
       "PTC18    1503\n",
       "PTC12    1501\n",
       "PTC11    1491\n",
       "PTC46    1176\n",
       "PTC48    1138\n",
       "PTC39     768\n",
       "PTC10     761\n",
       "PTC47     747\n",
       "PTC19     738\n",
       "PTC23     387\n",
       "PTC24     380\n",
       "Name: TemParameter, dtype: int64"
      ]
     },
     "execution_count": 18,
     "metadata": {},
     "output_type": "execute_result"
    }
   ],
   "source": [
    "G34_data['TemParameter'].value_counts()"
   ]
  },
  {
   "cell_type": "code",
   "execution_count": 19,
   "metadata": {},
   "outputs": [],
   "source": [
    "G34_data.to_csv('./training_data/G34_data.csv')"
   ]
  },
  {
   "cell_type": "code",
   "execution_count": null,
   "metadata": {},
   "outputs": [],
   "source": []
  }
 ],
 "metadata": {
  "kernelspec": {
   "display_name": "Python [conda env:Anaconda3]",
   "language": "python",
   "name": "conda-env-Anaconda3-py"
  },
  "language_info": {
   "codemirror_mode": {
    "name": "ipython",
    "version": 3
   },
   "file_extension": ".py",
   "mimetype": "text/x-python",
   "name": "python",
   "nbconvert_exporter": "python",
   "pygments_lexer": "ipython3",
   "version": "3.6.6"
  }
 },
 "nbformat": 4,
 "nbformat_minor": 2
}
