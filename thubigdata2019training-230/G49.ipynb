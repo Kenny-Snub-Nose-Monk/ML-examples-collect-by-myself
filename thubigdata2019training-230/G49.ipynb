{
 "cells": [
  {
   "cell_type": "code",
   "execution_count": 1,
   "metadata": {},
   "outputs": [],
   "source": [
    "import numpy as np\n",
    "import pandas as pd\n",
    "import os\n",
    "import re\n",
    "from glob import glob"
   ]
  },
  {
   "cell_type": "code",
   "execution_count": 2,
   "metadata": {},
   "outputs": [],
   "source": [
    "G49_raw_data = sorted(glob('./raw_data/G49/G*.txt'))"
   ]
  },
  {
   "cell_type": "code",
   "execution_count": 3,
   "metadata": {},
   "outputs": [],
   "source": [
    "G49_raw_data_name = list(map(lambda x:x[15:],G49_raw_data))"
   ]
  },
  {
   "cell_type": "code",
   "execution_count": 4,
   "metadata": {},
   "outputs": [
    {
     "name": "stderr",
     "output_type": "stream",
     "text": [
      "C:\\Users\\AutoUser\\Anaconda3\\lib\\site-packages\\ipykernel\\__main__.py:9: FutureWarning: Sorting because non-concatenation axis is not aligned. A future version\n",
      "of pandas will change to not sort by default.\n",
      "\n",
      "To accept the future behavior, pass 'sort=False'.\n",
      "\n",
      "To retain the current behavior and silence the warning, pass 'sort=True'.\n",
      "\n"
     ]
    }
   ],
   "source": [
    "i = 0\n",
    "all_data = pd.DataFrame()\n",
    "for file in G49_raw_data:\n",
    "    data = pd.read_csv(file, sep = '\\t')\n",
    "    data['data_name'] = G49_raw_data_name[i]\n",
    "    data.columns = data.columns.str.replace('  ','')\n",
    "    data.columns = data.columns.str.replace('G49 -','G49-') #有些奇怪的間隔\n",
    "    data['data_point'] = data.index\n",
    "    all_data = pd.concat([data,all_data])\n",
    "    all_data = all_data.drop([0]) #消除單位Deg.\n",
    "    all_data.reset_index(drop = True)\n",
    "    i = i + 1"
   ]
  },
  {
   "cell_type": "code",
   "execution_count": 5,
   "metadata": {},
   "outputs": [
    {
     "data": {
      "text/plain": [
       "Index(['G49-PTC1', 'G49-PTC10', 'G49-PTC11', 'G49-PTC12', 'G49-PTC13',\n",
       "       'G49-PTC14', 'G49-PTC15', 'G49-PTC16', 'G49-PTC17', 'G49-PTC18',\n",
       "       'G49-PTC19', 'G49-PTC2', 'G49-PTC20', 'G49-PTC21', 'G49-PTC22',\n",
       "       'G49-PTC23', 'G49-PTC25', 'G49-PTC26', 'G49-PTC27', 'G49-PTC28',\n",
       "       'G49-PTC29', 'G49-PTC3', 'G49-PTC30', 'G49-PTC31', 'G49-PTC32',\n",
       "       'G49-PTC33', 'G49-PTC34', 'G49-PTC35', 'G49-PTC36', 'G49-PTC37',\n",
       "       'G49-PTC38', 'G49-PTC39', 'G49-PTC4', 'G49-PTC40', 'G49-PTC41',\n",
       "       'G49-PTC42', 'G49-PTC43', 'G49-PTC44', 'G49-PTC45', 'G49-PTC46',\n",
       "       'G49-PTC47', 'G49-PTC48', 'G49-PTC5', 'G49-PTC6', 'G49-PTC7',\n",
       "       'G49-PTC8', 'G49-PTC9', 'Unnamed: 8', 'data_name', 'data_point'],\n",
       "      dtype='object')"
      ]
     },
     "execution_count": 5,
     "metadata": {},
     "output_type": "execute_result"
    }
   ],
   "source": [
    "all_data.columns"
   ]
  },
  {
   "cell_type": "code",
   "execution_count": 6,
   "metadata": {},
   "outputs": [],
   "source": [
    "#drop 'Unnamed: 5', 'Unnamed: 6', 'Unnamed: 8' 的columns\n",
    "#rows出現 Deg的資料 欄位\n",
    "for column in all_data.columns:\n",
    "    if column[0] == 'U':\n",
    "        all_data.drop([column],axis = 1,inplace = True)"
   ]
  },
  {
   "cell_type": "code",
   "execution_count": 7,
   "metadata": {},
   "outputs": [],
   "source": [
    "all_data['data_name'] = all_data['data_name'].apply(lambda x:x[:-11]) #去掉 _Export.txt"
   ]
  },
  {
   "cell_type": "code",
   "execution_count": 8,
   "metadata": {},
   "outputs": [
    {
     "data": {
      "text/plain": [
       "387    G49-AC(12X30)20160629-001\n",
       "388    G49-AC(12X30)20160629-001\n",
       "389    G49-AC(12X30)20160629-001\n",
       "390    G49-AC(12X30)20160629-001\n",
       "391    G49-AC(12X30)20160629-001\n",
       "Name: data_name, dtype: object"
      ]
     },
     "execution_count": 8,
     "metadata": {},
     "output_type": "execute_result"
    }
   ],
   "source": [
    "all_data['data_name'].tail()"
   ]
  },
  {
   "cell_type": "code",
   "execution_count": 9,
   "metadata": {},
   "outputs": [],
   "source": [
    "all_data['recipes'] = all_data['data_name'].str.extract(r'(G\\d+)',expand = False) #抓出所屬的Recipes\n",
    "all_data['autoclave'] = all_data['data_name'].str.extract(r'(AC\\(\\d+x\\d+\\))',expand = False,flags=re.IGNORECASE) #用正則抓出 所屬的熱壓爐\n",
    "all_data['date'] = all_data['data_name'].str.extract(r'(\\d{7,8})',expand = False) #抓出日期\n",
    "all_data['number'] = all_data['data_name'].str.extract(r'(00\\d{1,3})',expand = False)#抓出所屬編號\n",
    "all_data.drop(['data_name'],axis = 1,inplace = True)"
   ]
  },
  {
   "cell_type": "code",
   "execution_count": 10,
   "metadata": {},
   "outputs": [],
   "source": [
    "all_data.columns = all_data.columns.str.replace('G49-','')"
   ]
  },
  {
   "cell_type": "code",
   "execution_count": 11,
   "metadata": {},
   "outputs": [],
   "source": [
    "PTC_list = []\n",
    "for column in all_data.columns:\n",
    "    if column[0] == 'P' and column[-1] != 't':\n",
    "        PTC_list.append(column)"
   ]
  },
  {
   "cell_type": "code",
   "execution_count": 12,
   "metadata": {},
   "outputs": [],
   "source": [
    "all_data['PTC_count'] = len(PTC_list) - (all_data.shape[1] - all_data.count(axis = 1)) \n",
    "#每筆資料所收集溫度參數的個數"
   ]
  },
  {
   "cell_type": "code",
   "execution_count": 13,
   "metadata": {},
   "outputs": [],
   "source": [
    "all_data['TemParameter'] = 0"
   ]
  },
  {
   "cell_type": "code",
   "execution_count": 14,
   "metadata": {},
   "outputs": [],
   "source": [
    "G49_data = pd.DataFrame()"
   ]
  },
  {
   "cell_type": "code",
   "execution_count": 18,
   "metadata": {},
   "outputs": [],
   "source": [
    "for PTC in PTC_list:\n",
    "    data = all_data.loc[~all_data[PTC].isnull(),\n",
    "             ['number', 'date', 'autoclave', 'recipes'\n",
    "              ,'TemParameter', 'PTC_count','data_point',PTC]] #將各別 PTC 非0的數據挑出\n",
    "    data['TemParameter'] = PTC  #建立 TemParameter 對應所屬來的PTC\n",
    "    data['value'] = data[PTC]  # 賦予value值 統一\n",
    "    data.drop([PTC],inplace=True,axis = 1)\n",
    "    G49_data = pd.concat([G49_data,data])"
   ]
  },
  {
   "cell_type": "code",
   "execution_count": 19,
   "metadata": {},
   "outputs": [],
   "source": [
    "G49_data.reset_index(drop=True, inplace=True)"
   ]
  },
  {
   "cell_type": "code",
   "execution_count": 20,
   "metadata": {},
   "outputs": [
    {
     "data": {
      "text/plain": [
       "PTC4     5502\n",
       "PTC11    4699\n",
       "PTC34    4337\n",
       "PTC20    4294\n",
       "PTC8     4231\n",
       "PTC32    3965\n",
       "PTC26    3920\n",
       "PTC3     3902\n",
       "PTC5     3555\n",
       "PTC2     3420\n",
       "PTC37    3185\n",
       "PTC28    3113\n",
       "PTC12    3084\n",
       "PTC36    3083\n",
       "PTC44    2752\n",
       "PTC17    2737\n",
       "PTC33    2725\n",
       "PTC40    2722\n",
       "PTC29    2708\n",
       "PTC19    2459\n",
       "PTC13    2446\n",
       "PTC38    2330\n",
       "PTC39    2010\n",
       "PTC25    1982\n",
       "PTC18    1939\n",
       "PTC9     1881\n",
       "PTC30    1651\n",
       "PTC6     1648\n",
       "PTC10    1601\n",
       "PTC14    1572\n",
       "PTC15    1569\n",
       "PTC43    1557\n",
       "PTC31    1524\n",
       "PTC22    1218\n",
       "PTC42    1196\n",
       "PTC21    1187\n",
       "PTC7     1182\n",
       "PTC1     1171\n",
       "PTC27    1156\n",
       "PTC45    1152\n",
       "PTC48     821\n",
       "PTC46     787\n",
       "PTC47     786\n",
       "PTC41     779\n",
       "PTC16     407\n",
       "PTC35     391\n",
       "PTC23     384\n",
       "Name: TemParameter, dtype: int64"
      ]
     },
     "execution_count": 20,
     "metadata": {},
     "output_type": "execute_result"
    }
   ],
   "source": [
    "G49_data['TemParameter'].value_counts()"
   ]
  },
  {
   "cell_type": "code",
   "execution_count": 21,
   "metadata": {},
   "outputs": [],
   "source": [
    "G49_data.to_csv('./training_data/G49_data.csv')"
   ]
  },
  {
   "cell_type": "code",
   "execution_count": 22,
   "metadata": {},
   "outputs": [
    {
     "data": {
      "text/html": [
       "<div>\n",
       "<style scoped>\n",
       "    .dataframe tbody tr th:only-of-type {\n",
       "        vertical-align: middle;\n",
       "    }\n",
       "\n",
       "    .dataframe tbody tr th {\n",
       "        vertical-align: top;\n",
       "    }\n",
       "\n",
       "    .dataframe thead th {\n",
       "        text-align: right;\n",
       "    }\n",
       "</style>\n",
       "<table border=\"1\" class=\"dataframe\">\n",
       "  <thead>\n",
       "    <tr style=\"text-align: right;\">\n",
       "      <th></th>\n",
       "      <th>number</th>\n",
       "      <th>date</th>\n",
       "      <th>autoclave</th>\n",
       "      <th>recipes</th>\n",
       "      <th>TemParameter</th>\n",
       "      <th>PTC_count</th>\n",
       "      <th>data_point</th>\n",
       "      <th>value</th>\n",
       "    </tr>\n",
       "  </thead>\n",
       "  <tbody>\n",
       "    <tr>\n",
       "      <th>0</th>\n",
       "      <td>001</td>\n",
       "      <td>20160602</td>\n",
       "      <td>AC(12x30)</td>\n",
       "      <td>G49</td>\n",
       "      <td>PTC1</td>\n",
       "      <td>8</td>\n",
       "      <td>1</td>\n",
       "      <td>85.1</td>\n",
       "    </tr>\n",
       "    <tr>\n",
       "      <th>1</th>\n",
       "      <td>001</td>\n",
       "      <td>20160602</td>\n",
       "      <td>AC(12x30)</td>\n",
       "      <td>G49</td>\n",
       "      <td>PTC1</td>\n",
       "      <td>8</td>\n",
       "      <td>2</td>\n",
       "      <td>85.1</td>\n",
       "    </tr>\n",
       "    <tr>\n",
       "      <th>2</th>\n",
       "      <td>001</td>\n",
       "      <td>20160602</td>\n",
       "      <td>AC(12x30)</td>\n",
       "      <td>G49</td>\n",
       "      <td>PTC1</td>\n",
       "      <td>8</td>\n",
       "      <td>3</td>\n",
       "      <td>85.1</td>\n",
       "    </tr>\n",
       "    <tr>\n",
       "      <th>3</th>\n",
       "      <td>001</td>\n",
       "      <td>20160602</td>\n",
       "      <td>AC(12x30)</td>\n",
       "      <td>G49</td>\n",
       "      <td>PTC1</td>\n",
       "      <td>8</td>\n",
       "      <td>4</td>\n",
       "      <td>85.5</td>\n",
       "    </tr>\n",
       "    <tr>\n",
       "      <th>4</th>\n",
       "      <td>001</td>\n",
       "      <td>20160602</td>\n",
       "      <td>AC(12x30)</td>\n",
       "      <td>G49</td>\n",
       "      <td>PTC1</td>\n",
       "      <td>8</td>\n",
       "      <td>5</td>\n",
       "      <td>85.6</td>\n",
       "    </tr>\n",
       "  </tbody>\n",
       "</table>\n",
       "</div>"
      ],
      "text/plain": [
       "  number      date  autoclave recipes TemParameter  PTC_count  data_point  \\\n",
       "0    001  20160602  AC(12x30)     G49         PTC1          8           1   \n",
       "1    001  20160602  AC(12x30)     G49         PTC1          8           2   \n",
       "2    001  20160602  AC(12x30)     G49         PTC1          8           3   \n",
       "3    001  20160602  AC(12x30)     G49         PTC1          8           4   \n",
       "4    001  20160602  AC(12x30)     G49         PTC1          8           5   \n",
       "\n",
       "    value  \n",
       "0  85.1    \n",
       "1  85.1    \n",
       "2  85.1    \n",
       "3  85.5    \n",
       "4  85.6    "
      ]
     },
     "execution_count": 22,
     "metadata": {},
     "output_type": "execute_result"
    }
   ],
   "source": [
    "G49_data.head()"
   ]
  }
 ],
 "metadata": {
  "kernelspec": {
   "display_name": "Python [conda env:Anaconda3]",
   "language": "python",
   "name": "conda-env-Anaconda3-py"
  },
  "language_info": {
   "codemirror_mode": {
    "name": "ipython",
    "version": 3
   },
   "file_extension": ".py",
   "mimetype": "text/x-python",
   "name": "python",
   "nbconvert_exporter": "python",
   "pygments_lexer": "ipython3",
   "version": "3.6.6"
  }
 },
 "nbformat": 4,
 "nbformat_minor": 2
}
