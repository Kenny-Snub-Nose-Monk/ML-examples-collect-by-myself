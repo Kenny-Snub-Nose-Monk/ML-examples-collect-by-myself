{
 "cells": [
  {
   "cell_type": "code",
   "execution_count": 1,
   "metadata": {},
   "outputs": [],
   "source": [
    "import numpy as np\n",
    "import pandas as pd\n",
    "import os\n",
    "import re\n",
    "from glob import glob"
   ]
  },
  {
   "cell_type": "code",
   "execution_count": 2,
   "metadata": {},
   "outputs": [],
   "source": [
    "G19_raw_data = sorted(glob('./raw_data/G19/G*.txt'))"
   ]
  },
  {
   "cell_type": "code",
   "execution_count": 3,
   "metadata": {},
   "outputs": [],
   "source": [
    "G19_raw_data_name = list(map(lambda x:x[15:],G19_raw_data))"
   ]
  },
  {
   "cell_type": "code",
   "execution_count": 4,
   "metadata": {},
   "outputs": [
    {
     "name": "stderr",
     "output_type": "stream",
     "text": [
      "C:\\Users\\AutoUser\\Anaconda3\\lib\\site-packages\\ipykernel\\__main__.py:9: FutureWarning: Sorting because non-concatenation axis is not aligned. A future version\n",
      "of pandas will change to not sort by default.\n",
      "\n",
      "To accept the future behavior, pass 'sort=False'.\n",
      "\n",
      "To retain the current behavior and silence the warning, pass 'sort=True'.\n",
      "\n"
     ]
    }
   ],
   "source": [
    "i = 0\n",
    "all_data = pd.DataFrame()\n",
    "for file in G19_raw_data:\n",
    "    data = pd.read_csv(file, sep = '\\t')\n",
    "    data['data_name'] = G19_raw_data_name[i]\n",
    "    data.columns = data.columns.str.replace('  ','')\n",
    "    data.columns = data.columns.str.replace('G19 -','G19-') #有些奇怪的間隔\n",
    "    data['data_point'] = data.index\n",
    "    all_data = pd.concat([data,all_data])\n",
    "    all_data = all_data.drop([0]) #消除單位Deg.\n",
    "    all_data.reset_index(drop = True)\n",
    "    i = i + 1"
   ]
  },
  {
   "cell_type": "code",
   "execution_count": 5,
   "metadata": {},
   "outputs": [
    {
     "data": {
      "text/plain": [
       "Index(['G19-PTC1', 'G19-PTC10', 'G19-PTC11', 'G19-PTC12', 'G19-PTC13',\n",
       "       'G19-PTC14', 'G19-PTC15', 'G19-PTC16', 'G19-PTC17', 'G19-PTC18',\n",
       "       'G19-PTC19', 'G19-PTC2', 'G19-PTC20', 'G19-PTC21', 'G19-PTC22',\n",
       "       'G19-PTC23', 'G19-PTC24', 'G19-PTC25', 'G19-PTC26', 'G19-PTC27',\n",
       "       'G19-PTC28', 'G19-PTC29', 'G19-PTC3', 'G19-PTC30', 'G19-PTC31',\n",
       "       'G19-PTC32', 'G19-PTC33', 'G19-PTC34', 'G19-PTC35', 'G19-PTC36',\n",
       "       'G19-PTC37', 'G19-PTC38', 'G19-PTC39', 'G19-PTC4', 'G19-PTC40',\n",
       "       'G19-PTC41', 'G19-PTC42', 'G19-PTC43', 'G19-PTC44', 'G19-PTC45',\n",
       "       'G19-PTC46', 'G19-PTC47', 'G19-PTC48', 'G19-PTC5', 'G19-PTC6',\n",
       "       'G19-PTC7', 'G19-PTC8', 'G19-PTC9', 'Unnamed: 6', 'Unnamed: 8',\n",
       "       'data_name', 'data_point'],\n",
       "      dtype='object')"
      ]
     },
     "execution_count": 5,
     "metadata": {},
     "output_type": "execute_result"
    }
   ],
   "source": [
    "all_data.columns"
   ]
  },
  {
   "cell_type": "code",
   "execution_count": 6,
   "metadata": {},
   "outputs": [],
   "source": [
    "#drop 'Unnamed: 5', 'Unnamed: 6', 'Unnamed: 8' 的columns\n",
    "#rows出現 Deg的資料 欄位\n",
    "for column in all_data.columns:\n",
    "    if column[0] == 'U':\n",
    "        all_data.drop([column],axis = 1,inplace = True)"
   ]
  },
  {
   "cell_type": "code",
   "execution_count": 7,
   "metadata": {},
   "outputs": [],
   "source": [
    "all_data['data_name'] = all_data['data_name'].apply(lambda x:x[:-11]) #去掉 _Export.txt"
   ]
  },
  {
   "cell_type": "code",
   "execution_count": 8,
   "metadata": {},
   "outputs": [
    {
     "data": {
      "text/plain": [
       "258    G19-AC(12X30)20160412-004\n",
       "259    G19-AC(12X30)20160412-004\n",
       "260    G19-AC(12X30)20160412-004\n",
       "261    G19-AC(12X30)20160412-004\n",
       "262    G19-AC(12X30)20160412-004\n",
       "Name: data_name, dtype: object"
      ]
     },
     "execution_count": 8,
     "metadata": {},
     "output_type": "execute_result"
    }
   ],
   "source": [
    "all_data['data_name'].tail()"
   ]
  },
  {
   "cell_type": "code",
   "execution_count": 9,
   "metadata": {},
   "outputs": [],
   "source": [
    "all_data['recipes'] = all_data['data_name'].str.extract(r'(G\\d+)',expand = False) #抓出所屬的Recipes\n",
    "all_data['autoclave'] = all_data['data_name'].str.extract(r'(AC\\(\\d+x\\d+\\))',expand = False,flags=re.IGNORECASE) #用正則抓出 所屬的熱壓爐\n",
    "all_data['date'] = all_data['data_name'].str.extract(r'(\\d{7,8})',expand = False) #抓出日期\n",
    "all_data['number'] = all_data['data_name'].str.extract(r'(00\\d{1,3})',expand = False)#抓出所屬編號\n",
    "all_data.drop(['data_name'],axis = 1,inplace = True)"
   ]
  },
  {
   "cell_type": "code",
   "execution_count": 10,
   "metadata": {},
   "outputs": [],
   "source": [
    "all_data.columns = all_data.columns.str.replace('G19-','')"
   ]
  },
  {
   "cell_type": "code",
   "execution_count": 11,
   "metadata": {},
   "outputs": [],
   "source": [
    "PTC_list = []\n",
    "for column in all_data.columns:\n",
    "    if column[0] == 'P' and column[-1] != 't':\n",
    "        PTC_list.append(column)"
   ]
  },
  {
   "cell_type": "code",
   "execution_count": 12,
   "metadata": {},
   "outputs": [],
   "source": [
    "all_data['PTC_count'] = len(PTC_list) - (all_data.shape[1] - all_data.count(axis = 1)) \n",
    "#每筆資料所收集溫度參數的個數"
   ]
  },
  {
   "cell_type": "code",
   "execution_count": 13,
   "metadata": {},
   "outputs": [
    {
     "data": {
      "text/plain": [
       "Index(['PTC1', 'PTC10', 'PTC11', 'PTC12', 'PTC13', 'PTC14', 'PTC15', 'PTC16',\n",
       "       'PTC17', 'PTC18', 'PTC19', 'PTC2', 'PTC20', 'PTC21', 'PTC22', 'PTC23',\n",
       "       'PTC24', 'PTC25', 'PTC26', 'PTC27', 'PTC28', 'PTC29', 'PTC3', 'PTC30',\n",
       "       'PTC31', 'PTC32', 'PTC33', 'PTC34', 'PTC35', 'PTC36', 'PTC37', 'PTC38',\n",
       "       'PTC39', 'PTC4', 'PTC40', 'PTC41', 'PTC42', 'PTC43', 'PTC44', 'PTC45',\n",
       "       'PTC46', 'PTC47', 'PTC48', 'PTC5', 'PTC6', 'PTC7', 'PTC8', 'PTC9',\n",
       "       'data_point', 'recipes', 'autoclave', 'date', 'number', 'PTC_count'],\n",
       "      dtype='object')"
      ]
     },
     "execution_count": 13,
     "metadata": {},
     "output_type": "execute_result"
    }
   ],
   "source": [
    "all_data.columns"
   ]
  },
  {
   "cell_type": "code",
   "execution_count": 14,
   "metadata": {},
   "outputs": [],
   "source": [
    "all_data['TemParameter'] = 0"
   ]
  },
  {
   "cell_type": "code",
   "execution_count": 15,
   "metadata": {},
   "outputs": [],
   "source": [
    "G19_data = pd.DataFrame()"
   ]
  },
  {
   "cell_type": "code",
   "execution_count": 16,
   "metadata": {},
   "outputs": [],
   "source": [
    "for PTC in PTC_list:\n",
    "    data = all_data.loc[~all_data[PTC].isnull(),\n",
    "             ['number', 'date', 'autoclave', 'recipes'\n",
    "              ,'TemParameter', 'PTC_count','data_point',PTC]] #將各別 PTC 非0的數據挑出\n",
    "    data['TemParameter'] = PTC  #建立 TemParameter 對應所屬來的PTC\n",
    "    data['value'] = data[PTC]  # 賦予value值 統一\n",
    "    data.drop([PTC],inplace=True,axis = 1)\n",
    "    G19_data = pd.concat([G19_data,data])"
   ]
  },
  {
   "cell_type": "code",
   "execution_count": 17,
   "metadata": {},
   "outputs": [],
   "source": [
    "G19_data.reset_index(drop=True, inplace=True)"
   ]
  },
  {
   "cell_type": "code",
   "execution_count": 18,
   "metadata": {
    "scrolled": true
   },
   "outputs": [
    {
     "data": {
      "text/plain": [
       "PTC8     2632\n",
       "PTC9     2297\n",
       "PTC26    2287\n",
       "PTC12    2266\n",
       "PTC44    2121\n",
       "PTC31    2065\n",
       "PTC11    1992\n",
       "PTC4     1873\n",
       "PTC29    1842\n",
       "PTC45    1835\n",
       "PTC25    1820\n",
       "PTC10    1778\n",
       "PTC7     1772\n",
       "PTC28    1585\n",
       "PTC19    1582\n",
       "PTC18    1575\n",
       "PTC3     1559\n",
       "PTC27    1539\n",
       "PTC17    1355\n",
       "PTC5     1348\n",
       "PTC30    1344\n",
       "PTC34    1328\n",
       "PTC38    1312\n",
       "PTC2     1296\n",
       "PTC20    1275\n",
       "PTC32    1273\n",
       "PTC23    1060\n",
       "PTC37    1059\n",
       "PTC42    1055\n",
       "PTC48    1049\n",
       "PTC16    1043\n",
       "PTC39    1028\n",
       "PTC15    1023\n",
       "PTC33    1008\n",
       "PTC6      982\n",
       "PTC43     816\n",
       "PTC35     815\n",
       "PTC22     806\n",
       "PTC36     798\n",
       "PTC46     797\n",
       "PTC13     775\n",
       "PTC24     546\n",
       "PTC41     532\n",
       "PTC14     516\n",
       "PTC47     515\n",
       "PTC1      285\n",
       "PTC40     259\n",
       "PTC21     256\n",
       "Name: TemParameter, dtype: int64"
      ]
     },
     "execution_count": 18,
     "metadata": {},
     "output_type": "execute_result"
    }
   ],
   "source": [
    "G19_data['TemParameter'].value_counts()"
   ]
  },
  {
   "cell_type": "code",
   "execution_count": 19,
   "metadata": {},
   "outputs": [],
   "source": [
    "G19_data.to_csv('./training_data/G19_data.csv')"
   ]
  },
  {
   "cell_type": "code",
   "execution_count": null,
   "metadata": {},
   "outputs": [],
   "source": []
  }
 ],
 "metadata": {
  "kernelspec": {
   "display_name": "Python [conda env:Anaconda3]",
   "language": "python",
   "name": "conda-env-Anaconda3-py"
  },
  "language_info": {
   "codemirror_mode": {
    "name": "ipython",
    "version": 3
   },
   "file_extension": ".py",
   "mimetype": "text/x-python",
   "name": "python",
   "nbconvert_exporter": "python",
   "pygments_lexer": "ipython3",
   "version": "3.6.6"
  }
 },
 "nbformat": 4,
 "nbformat_minor": 2
}
