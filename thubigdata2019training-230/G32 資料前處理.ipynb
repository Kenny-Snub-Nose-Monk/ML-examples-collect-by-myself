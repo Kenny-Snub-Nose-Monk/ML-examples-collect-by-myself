{
 "cells": [
  {
   "cell_type": "code",
   "execution_count": 1,
   "metadata": {},
   "outputs": [],
   "source": [
    "import numpy as np\n",
    "import pandas as pd\n",
    "import os\n",
    "import re\n",
    "from glob import glob"
   ]
  },
  {
   "cell_type": "code",
   "execution_count": 11,
   "metadata": {},
   "outputs": [],
   "source": [
    "G32_raw_data = sorted(glob('./raw_data/G32/G*.txt'))"
   ]
  },
  {
   "cell_type": "code",
   "execution_count": 12,
   "metadata": {},
   "outputs": [],
   "source": [
    "G32_raw_data_name = list(map(lambda x:x[15:],G32_raw_data))"
   ]
  },
  {
   "cell_type": "code",
   "execution_count": 13,
   "metadata": {},
   "outputs": [
    {
     "name": "stderr",
     "output_type": "stream",
     "text": [
      "C:\\Users\\AutoUser\\Anaconda3\\lib\\site-packages\\ipykernel\\__main__.py:9: FutureWarning: Sorting because non-concatenation axis is not aligned. A future version\n",
      "of pandas will change to not sort by default.\n",
      "\n",
      "To accept the future behavior, pass 'sort=False'.\n",
      "\n",
      "To retain the current behavior and silence the warning, pass 'sort=True'.\n",
      "\n"
     ]
    }
   ],
   "source": [
    "i = 0\n",
    "all_data = pd.DataFrame()\n",
    "for file in G32_raw_data:\n",
    "    data = pd.read_csv(file, sep = '\\t')\n",
    "    data['data_name'] = G32_raw_data_name[i]\n",
    "    data.columns = data.columns.str.replace('  ','')\n",
    "    data.columns = data.columns.str.replace('G32 -','G32-') #有些奇怪的間隔\n",
    "    data['data_point'] = data.index\n",
    "    all_data = pd.concat([data,all_data])\n",
    "    all_data = all_data.drop([0]) #消除單位Deg.\n",
    "    all_data.reset_index(drop = True)\n",
    "    i = i + 1"
   ]
  },
  {
   "cell_type": "code",
   "execution_count": 14,
   "metadata": {},
   "outputs": [
    {
     "data": {
      "text/plain": [
       "Index(['G32-PTC1', 'G32-PTC10', 'G32-PTC11', 'G32-PTC12', 'G32-PTC13',\n",
       "       'G32-PTC14', 'G32-PTC15', 'G32-PTC16', 'G32-PTC17', 'G32-PTC18',\n",
       "       'G32-PTC19', 'G32-PTC2', 'G32-PTC20', 'G32-PTC21', 'G32-PTC22',\n",
       "       'G32-PTC23', 'G32-PTC24', 'G32-PTC25', 'G32-PTC26', 'G32-PTC27',\n",
       "       'G32-PTC28', 'G32-PTC29', 'G32-PTC3', 'G32-PTC30', 'G32-PTC31',\n",
       "       'G32-PTC32', 'G32-PTC33', 'G32-PTC34', 'G32-PTC35', 'G32-PTC36',\n",
       "       'G32-PTC37', 'G32-PTC38', 'G32-PTC39', 'G32-PTC4', 'G32-PTC40',\n",
       "       'G32-PTC41', 'G32-PTC42', 'G32-PTC43', 'G32-PTC44', 'G32-PTC45',\n",
       "       'G32-PTC47', 'G32-PTC5', 'G32-PTC6', 'G32-PTC7', 'G32-PTC8', 'G32-PTC9',\n",
       "       'Unnamed: 8', 'data_name', 'data_point'],\n",
       "      dtype='object')"
      ]
     },
     "execution_count": 14,
     "metadata": {},
     "output_type": "execute_result"
    }
   ],
   "source": [
    "all_data.columns"
   ]
  },
  {
   "cell_type": "code",
   "execution_count": 15,
   "metadata": {},
   "outputs": [],
   "source": [
    "#drop 'Unnamed: 5', 'Unnamed: 6', 'Unnamed: 8' 的columns\n",
    "#rows出現 Deg的資料 欄位\n",
    "for column in all_data.columns:\n",
    "    if column[0] == 'U':\n",
    "        all_data.drop([column],axis = 1,inplace = True)"
   ]
  },
  {
   "cell_type": "code",
   "execution_count": 16,
   "metadata": {},
   "outputs": [],
   "source": [
    "all_data['data_name'] = all_data['data_name'].apply(lambda x:x[:-11]) #去掉 _Export.txt"
   ]
  },
  {
   "cell_type": "code",
   "execution_count": 17,
   "metadata": {},
   "outputs": [
    {
     "data": {
      "text/plain": [
       "345    G32-AC(12X30)20160411-002\n",
       "346    G32-AC(12X30)20160411-002\n",
       "347    G32-AC(12X30)20160411-002\n",
       "348    G32-AC(12X30)20160411-002\n",
       "349    G32-AC(12X30)20160411-002\n",
       "Name: data_name, dtype: object"
      ]
     },
     "execution_count": 17,
     "metadata": {},
     "output_type": "execute_result"
    }
   ],
   "source": [
    "all_data['data_name'].tail()"
   ]
  },
  {
   "cell_type": "code",
   "execution_count": 18,
   "metadata": {},
   "outputs": [],
   "source": [
    "all_data['recipes'] = all_data['data_name'].str.extract(r'(G\\d+)',expand = False) #抓出所屬的Recipes\n",
    "all_data['autoclave'] = all_data['data_name'].str.extract(r'(AC\\(\\d+x\\d+\\))',expand = False,flags=re.IGNORECASE) #用正則抓出 所屬的熱壓爐\n",
    "all_data['date'] = all_data['data_name'].str.extract(r'(\\d{7,8})',expand = False) #抓出日期\n",
    "all_data['number'] = all_data['data_name'].str.extract(r'(00\\d{1,3})',expand = False)#抓出所屬編號\n",
    "all_data.drop(['data_name'],axis = 1,inplace = True)"
   ]
  },
  {
   "cell_type": "code",
   "execution_count": 19,
   "metadata": {},
   "outputs": [],
   "source": [
    "all_data.columns = all_data.columns.str.replace('G32-','')"
   ]
  },
  {
   "cell_type": "code",
   "execution_count": 20,
   "metadata": {},
   "outputs": [],
   "source": [
    "PTC_list = []\n",
    "for column in all_data.columns:\n",
    "    if column[0] == 'P' and column[-1] != 't':\n",
    "        PTC_list.append(column)"
   ]
  },
  {
   "cell_type": "code",
   "execution_count": 21,
   "metadata": {},
   "outputs": [],
   "source": [
    "all_data['PTC_count'] = len(PTC_list) - (all_data.shape[1] - all_data.count(axis = 1)) \n",
    "#每筆資料所收集溫度參數的個數"
   ]
  },
  {
   "cell_type": "code",
   "execution_count": 22,
   "metadata": {},
   "outputs": [
    {
     "data": {
      "text/plain": [
       "Index(['PTC1', 'PTC10', 'PTC11', 'PTC12', 'PTC13', 'PTC14', 'PTC15', 'PTC16',\n",
       "       'PTC17', 'PTC18', 'PTC19', 'PTC2', 'PTC20', 'PTC21', 'PTC22', 'PTC23',\n",
       "       'PTC24', 'PTC25', 'PTC26', 'PTC27', 'PTC28', 'PTC29', 'PTC3', 'PTC30',\n",
       "       'PTC31', 'PTC32', 'PTC33', 'PTC34', 'PTC35', 'PTC36', 'PTC37', 'PTC38',\n",
       "       'PTC39', 'PTC4', 'PTC40', 'PTC41', 'PTC42', 'PTC43', 'PTC44', 'PTC45',\n",
       "       'PTC47', 'PTC5', 'PTC6', 'PTC7', 'PTC8', 'PTC9', 'data_point',\n",
       "       'recipes', 'autoclave', 'date', 'number', 'PTC_count'],\n",
       "      dtype='object')"
      ]
     },
     "execution_count": 22,
     "metadata": {},
     "output_type": "execute_result"
    }
   ],
   "source": [
    "all_data.columns"
   ]
  },
  {
   "cell_type": "code",
   "execution_count": 23,
   "metadata": {},
   "outputs": [],
   "source": [
    "all_data['TemParameter'] = 0"
   ]
  },
  {
   "cell_type": "code",
   "execution_count": 24,
   "metadata": {},
   "outputs": [],
   "source": [
    "G32_data = pd.DataFrame()"
   ]
  },
  {
   "cell_type": "code",
   "execution_count": 25,
   "metadata": {},
   "outputs": [],
   "source": [
    "for PTC in PTC_list:\n",
    "    data = all_data.loc[~all_data[PTC].isnull(),\n",
    "             ['number', 'date', 'autoclave', 'recipes'\n",
    "              ,'TemParameter', 'PTC_count','data_point',PTC]] #將各別 PTC 非0的數據挑出\n",
    "    data['TemParameter'] = PTC  #建立 TemParameter 對應所屬來的PTC\n",
    "    data['value'] = data[PTC]  # 賦予value值 統一\n",
    "    data.drop([PTC],inplace=True,axis = 1)\n",
    "    G32_data = pd.concat([G32_data,data])"
   ]
  },
  {
   "cell_type": "code",
   "execution_count": 26,
   "metadata": {},
   "outputs": [],
   "source": [
    "G32_data.reset_index(drop=True, inplace=True)"
   ]
  },
  {
   "cell_type": "code",
   "execution_count": 27,
   "metadata": {
    "scrolled": true
   },
   "outputs": [
    {
     "data": {
      "text/plain": [
       "PTC33    4224\n",
       "PTC11    3589\n",
       "PTC9     3519\n",
       "PTC31    3225\n",
       "PTC26    3198\n",
       "PTC17    3177\n",
       "PTC2     3096\n",
       "PTC8     3075\n",
       "PTC14    2794\n",
       "PTC29    2789\n",
       "PTC32    2535\n",
       "PTC23    2510\n",
       "PTC25    2480\n",
       "PTC36    2469\n",
       "PTC37    2441\n",
       "PTC4     2421\n",
       "PTC42    2188\n",
       "PTC30    2138\n",
       "PTC6     2134\n",
       "PTC13    2112\n",
       "PTC22    2102\n",
       "PTC3     2083\n",
       "PTC12    2080\n",
       "PTC34    2075\n",
       "PTC41    1813\n",
       "PTC7     1770\n",
       "PTC1     1770\n",
       "PTC15    1760\n",
       "PTC19    1757\n",
       "PTC28    1712\n",
       "PTC5     1454\n",
       "PTC27    1435\n",
       "PTC39    1412\n",
       "PTC38    1401\n",
       "PTC18    1400\n",
       "PTC16    1367\n",
       "PTC45    1042\n",
       "PTC44    1040\n",
       "PTC21     742\n",
       "PTC10     724\n",
       "PTC20     722\n",
       "PTC40     719\n",
       "PTC43     714\n",
       "PTC47     393\n",
       "PTC24     340\n",
       "PTC35     339\n",
       "Name: TemParameter, dtype: int64"
      ]
     },
     "execution_count": 27,
     "metadata": {},
     "output_type": "execute_result"
    }
   ],
   "source": [
    "G32_data['TemParameter'].value_counts()"
   ]
  },
  {
   "cell_type": "code",
   "execution_count": 28,
   "metadata": {},
   "outputs": [],
   "source": [
    "G32_data.to_csv('./training_data/G32_data.csv')"
   ]
  },
  {
   "cell_type": "code",
   "execution_count": null,
   "metadata": {},
   "outputs": [],
   "source": []
  }
 ],
 "metadata": {
  "kernelspec": {
   "display_name": "Python [conda env:Anaconda3]",
   "language": "python",
   "name": "conda-env-Anaconda3-py"
  },
  "language_info": {
   "codemirror_mode": {
    "name": "ipython",
    "version": 3
   },
   "file_extension": ".py",
   "mimetype": "text/x-python",
   "name": "python",
   "nbconvert_exporter": "python",
   "pygments_lexer": "ipython3",
   "version": "3.6.6"
  }
 },
 "nbformat": 4,
 "nbformat_minor": 2
}
