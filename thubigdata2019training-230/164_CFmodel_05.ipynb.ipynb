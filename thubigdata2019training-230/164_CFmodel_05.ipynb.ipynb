{
 "cells": [
  {
   "cell_type": "markdown",
   "metadata": {
    "colab_type": "text",
    "id": "lDfJLv5Ca_q2"
   },
   "source": [
    "<< Thu Big Data Challenge 2019 >>\n",
    "\n",
    "Author : Andy RK Chang & 陳宇修\n",
    "\n",
    "Date : Jul 20, 2019\n",
    "\n",
    "Version : 1.01\n"
   ]
  },
  {
   "cell_type": "markdown",
   "metadata": {
    "colab_type": "text",
    "id": "dDySPWdbZQ9I"
   },
   "source": [
    "G11-1-AC(7X15)20160126-002_Export.txt  ===> G11-1-AC(7X15)20160126-002Export.txt\n",
    "\n",
    "G15-AC(7X15)20160707-003_Export.txt ====> G15 -AC(7X15)20160707-003_Export.txt\n"
   ]
  },
  {
   "cell_type": "markdown",
   "metadata": {
    "colab_type": "text",
    "id": "m7ccFr3o_bTX"
   },
   "source": [
    "## (*****) Setup Python Training Environment"
   ]
  },
  {
   "cell_type": "code",
   "execution_count": 0,
   "metadata": {
    "colab": {},
    "colab_type": "code",
    "id": "Uo5chQazXyHx"
   },
   "outputs": [],
   "source": [
    "import numpy as np\n",
    "import pandas as pd\n",
    "import matplotlib.pyplot as plt\n",
    "import matplotlib.pylab as plts\n",
    "import math\n",
    "import glob\n",
    "import os.path\n",
    "from operator import mod\n",
    "\n",
    "from scipy import stats\n",
    "\n",
    "%matplotlib inline"
   ]
  },
  {
   "cell_type": "markdown",
   "metadata": {
    "colab_type": "text",
    "id": "nqNezzCj_nGP"
   },
   "source": [
    "## (*****) Read file from Google Drive"
   ]
  },
  {
   "cell_type": "code",
   "execution_count": 23,
   "metadata": {
    "colab": {
     "base_uri": "https://localhost:8080/",
     "height": 34
    },
    "colab_type": "code",
    "executionInfo": {
     "elapsed": 976,
     "status": "ok",
     "timestamp": 1563863594956,
     "user": {
      "displayName": "張仁寬@go.thu",
      "photoUrl": "",
      "userId": "00629718865293591950"
     },
     "user_tz": -480
    },
    "id": "CNnN6mZMarwq",
    "outputId": "07998282-dc9c-4998-c0a5-980777e6b098"
   },
   "outputs": [
    {
     "name": "stdout",
     "output_type": "stream",
     "text": [
      "Drive already mounted at /content/gdrive; to attempt to forcibly remount, call drive.mount(\"/content/gdrive\", force_remount=True).\n"
     ]
    }
   ],
   "source": [
    "# Read file from Google Drive\n",
    "\n",
    "from google.colab import drive\n",
    "drive.mount('/content/gdrive')"
   ]
  },
  {
   "cell_type": "markdown",
   "metadata": {
    "colab_type": "text",
    "id": "PGCr9gUKFKSt"
   },
   "source": [
    "##  (*****) Function Definition"
   ]
  },
  {
   "cell_type": "code",
   "execution_count": 0,
   "metadata": {
    "colab": {},
    "colab_type": "code",
    "id": "6jjw8nFaFJCH"
   },
   "outputs": [],
   "source": [
    "# global variable definition and initial\n",
    "\n",
    "myDriveFilePath = '/content/gdrive/My Drive/thubigdata2019/training230/'\n",
    "recipeGroup = ['G11','G15', 'G17', 'G19', 'G32', 'G34', 'G48', 'G49']\n",
    "examFilePath =  '/content/gdrive/My Drive/thubigdata2019/exam/'\n",
    "\n",
    "# color definition refer to https://www.cnblogs.com/darkknightzh/p/6117528.html\n",
    "PTCcolor = ['purple','red','coral','saddlebrown','orange','olive','limegreen','blue','cyan','yellow'] \n",
    "\n",
    "rgColumns = ['filename','groupid','eqpid','date','sno','PTCno',\n",
    "             'count','mean','std','min','Q1','Q2','Q3','max','median']\n",
    "\n",
    "## ,'start2max_time','stable_time','max2end_time','totaltime' ]\n"
   ]
  },
  {
   "cell_type": "code",
   "execution_count": 8,
   "metadata": {
    "colab": {},
    "colab_type": "code",
    "id": "oyf0PbwBHcvi"
   },
   "outputs": [],
   "source": [
    "## Function Module\n",
    "\n",
    "#\n",
    "# get RecipeGroup File List function \n",
    "#\n",
    "def getRecipeGroupFileList(aRecipeGroup):\n",
    "\n",
    "  aFileList = glob.glob( myDriveFilePath + aRecipeGroup +  \"/*.txt\")\n",
    "    \n",
    "  return aFileList\n",
    "\n",
    "#\n",
    "# get exam File List function \n",
    "#\n",
    "def getExamFileList():\n",
    "\n",
    "  aFileList = glob.glob( examFilePath +  \"*.txt\")\n",
    "    \n",
    "  return aFileList\n",
    "\n",
    "\n",
    "#\n",
    "# get file attribute function\n",
    "#\n",
    "def getFileAttributeList(aFile, aTraining):\n",
    "\n",
    "  #filename : G11-1-AC(7X15)20160126-002_Export\n",
    "  #groupid : G11\n",
    "  #eqpid : AC(7X15)\n",
    "  #date : 20160126\n",
    "  #sno : 002\n",
    "  \n",
    "  aFileAttributeList=[]\n",
    "  \n",
    "  if aTraining == True:\n",
    "    aFileAttributeList.append(aFile)                                                #filename 0\n",
    "    aFileAttributeList.append(aFile[aFile.find('G')+1:aFile.find('G')+3])           #groupid 1\n",
    "    aFileAttributeList.append(aFile[aFile.find('AC'):aFile.find(')')+1])            #eqpid 2\n",
    "    aFileAttributeList.append(aFile[aFile.find(')')+1 : aFile.find(')')+9 ])        #date 3\n",
    "    aFileAttributeList.append(aFile[aFile.find('_')-3 : aFile.find('_') ])          #sno 4\n",
    "  else:\n",
    "    aFileAttributeList.append(aFile)                                                #filename 0\n",
    "    aFileAttributeList.append('Nan')           #groupid 1\n",
    "    aFileAttributeList.append('Nan')            #eqpid 2\n",
    "    aFileAttributeList.append('Nan')        #date 3\n",
    "    aFileAttributeList.append('Nan')          #sno 4    \n",
    "  \n",
    "  \n",
    "  return aFileAttributeList\n",
    "\n",
    "#\n",
    "# read recipe Group file data function\n",
    "#\n",
    "def readRecipeGroupFile(aFileName):\n",
    "  \n",
    "  fp = pd.read_csv(aFileName,sep=\"\\t\")                                # read file 分隔符號為 tab /t'\n",
    "  fp = fp.drop([0])                                                   # drop defoF\n",
    "  fp = fp.drop(columns=['Unnamed: ' + str(len(fp.columns)-1)])        # drop nonname column\n",
    "  fp = fp.apply(pd.to_numeric, errors='coerce')                       # str to numeric\n",
    "  \n",
    "  return fp\n",
    "\n",
    "#\n",
    "# fix exam file data format function\n",
    "#\n",
    "def fixExamFile():\n",
    "  \n",
    "  aFile ='/content/gdrive/My Drive/thubigdata2019/exam/1.txt'\n",
    "  \n",
    "  fp = pd.read_csv(aFileName,sep=\"\\t\")                                # read file 分隔符號為 tab /t'\n",
    "  fp = fp.drop([0])                                                   # drop defoF\n",
    "  fp = fp.drop(columns=['Unnamed: ' + str(len(fp.columns)-1)])        # drop nonname column\n",
    "  fp = fp.apply(pd.to_numeric, errors='coerce')                       # str to numeric\n",
    "  \n",
    "  return fp\n",
    "\n",
    "#\n",
    "# plot 成化曲線\n",
    "#\n",
    "def plotRecipeGroupFileCurve(aDf, aRG, aFN):\n",
    "  \n",
    "  # Draw Plot    \n",
    "  plt.figure(figsize=(10,8), dpi= 160)\n",
    "  fig, ax = plt.subplots()\n",
    "  \n",
    "  range = np.arange(len(aDf.columns))\n",
    "  \n",
    "  for i in range:\n",
    "    aPTCno = aDf.columns[i].strip()      \n",
    "    aPTCno = aPTCno[aPTCno.find('PTC')+3: len(aPTCno)]\n",
    "    ax.plot(aDf.columns[i], data=aDf, color = PTCcolor[mod(int(aPTCno),10)], label=aDf.columns[i].strip())\n",
    "    ax.axis([0, 400, 0, 400])\n",
    "    ax.set_title('recipe Group :' + aRG + ' ;  File No : ' + aFN, fontsize=12,color='r')\n",
    "    \n",
    "  plt.legend()\n",
    "  #plt.show()\n",
    "  "
   ]
  },
  {
   "cell_type": "markdown",
   "metadata": {
    "colab_type": "text",
    "id": "OQf49F7QcSf6"
   },
   "source": [
    "## (*****) Main() \n"
   ]
  },
  {
   "cell_type": "markdown",
   "metadata": {
    "colab_type": "text",
    "id": "xga0wx9aqc9a"
   },
   "source": [
    "pre-dataprocess Recipe Group File Data"
   ]
  },
  {
   "cell_type": "code",
   "execution_count": 26,
   "metadata": {
    "colab": {
     "base_uri": "https://localhost:8080/",
     "height": 284
    },
    "colab_type": "code",
    "executionInfo": {
     "elapsed": 17548,
     "status": "ok",
     "timestamp": 1563863671030,
     "user": {
      "displayName": "張仁寬@go.thu",
      "photoUrl": "",
      "userId": "00629718865293591950"
     },
     "user_tz": -480
    },
    "id": "HdCe4ZUCcSWi",
    "outputId": "cef86333-650a-402d-a184-455659aa813b"
   },
   "outputs": [
    {
     "data": {
      "text/html": [
       "<div>\n",
       "<style scoped>\n",
       "    .dataframe tbody tr th:only-of-type {\n",
       "        vertical-align: middle;\n",
       "    }\n",
       "\n",
       "    .dataframe tbody tr th {\n",
       "        vertical-align: top;\n",
       "    }\n",
       "\n",
       "    .dataframe thead th {\n",
       "        text-align: right;\n",
       "    }\n",
       "</style>\n",
       "<table border=\"1\" class=\"dataframe\">\n",
       "  <thead>\n",
       "    <tr style=\"text-align: right;\">\n",
       "      <th></th>\n",
       "      <th>mean</th>\n",
       "      <th>std</th>\n",
       "      <th>min</th>\n",
       "      <th>Q1</th>\n",
       "      <th>Q2</th>\n",
       "      <th>Q3</th>\n",
       "      <th>max</th>\n",
       "      <th>median</th>\n",
       "    </tr>\n",
       "  </thead>\n",
       "  <tbody>\n",
       "    <tr>\n",
       "      <th>count</th>\n",
       "      <td>1745.000000</td>\n",
       "      <td>1745.000000</td>\n",
       "      <td>1745.000000</td>\n",
       "      <td>1745.000000</td>\n",
       "      <td>1745.000000</td>\n",
       "      <td>1745.000000</td>\n",
       "      <td>1745.000000</td>\n",
       "      <td>1745.000000</td>\n",
       "    </tr>\n",
       "    <tr>\n",
       "      <th>mean</th>\n",
       "      <td>226.490533</td>\n",
       "      <td>76.151926</td>\n",
       "      <td>74.610659</td>\n",
       "      <td>159.136633</td>\n",
       "      <td>261.295072</td>\n",
       "      <td>294.752493</td>\n",
       "      <td>297.266246</td>\n",
       "      <td>261.295072</td>\n",
       "    </tr>\n",
       "    <tr>\n",
       "      <th>std</th>\n",
       "      <td>32.115011</td>\n",
       "      <td>17.810632</td>\n",
       "      <td>10.009552</td>\n",
       "      <td>20.780343</td>\n",
       "      <td>47.318608</td>\n",
       "      <td>45.591896</td>\n",
       "      <td>44.259811</td>\n",
       "      <td>47.318608</td>\n",
       "    </tr>\n",
       "    <tr>\n",
       "      <th>min</th>\n",
       "      <td>18.282831</td>\n",
       "      <td>39.758527</td>\n",
       "      <td>0.000000</td>\n",
       "      <td>0.000000</td>\n",
       "      <td>0.000000</td>\n",
       "      <td>0.000000</td>\n",
       "      <td>162.000000</td>\n",
       "      <td>0.000000</td>\n",
       "    </tr>\n",
       "    <tr>\n",
       "      <th>25%</th>\n",
       "      <td>203.731024</td>\n",
       "      <td>61.218525</td>\n",
       "      <td>71.600000</td>\n",
       "      <td>156.575000</td>\n",
       "      <td>226.250000</td>\n",
       "      <td>257.625000</td>\n",
       "      <td>263.400000</td>\n",
       "      <td>226.250000</td>\n",
       "    </tr>\n",
       "    <tr>\n",
       "      <th>50%</th>\n",
       "      <td>212.706130</td>\n",
       "      <td>69.254516</td>\n",
       "      <td>74.600000</td>\n",
       "      <td>162.700000</td>\n",
       "      <td>248.300000</td>\n",
       "      <td>266.300000</td>\n",
       "      <td>270.400000</td>\n",
       "      <td>248.300000</td>\n",
       "    </tr>\n",
       "    <tr>\n",
       "      <th>75%</th>\n",
       "      <td>259.797581</td>\n",
       "      <td>96.030889</td>\n",
       "      <td>79.200000</td>\n",
       "      <td>167.775000</td>\n",
       "      <td>313.100000</td>\n",
       "      <td>350.400000</td>\n",
       "      <td>351.800000</td>\n",
       "      <td>313.100000</td>\n",
       "    </tr>\n",
       "    <tr>\n",
       "      <th>max</th>\n",
       "      <td>280.642357</td>\n",
       "      <td>160.490151</td>\n",
       "      <td>97.300000</td>\n",
       "      <td>201.300000</td>\n",
       "      <td>351.050000</td>\n",
       "      <td>357.900000</td>\n",
       "      <td>370.100000</td>\n",
       "      <td>351.050000</td>\n",
       "    </tr>\n",
       "  </tbody>\n",
       "</table>\n",
       "</div>"
      ],
      "text/plain": [
       "              mean          std  ...          max       median\n",
       "count  1745.000000  1745.000000  ...  1745.000000  1745.000000\n",
       "mean    226.490533    76.151926  ...   297.266246   261.295072\n",
       "std      32.115011    17.810632  ...    44.259811    47.318608\n",
       "min      18.282831    39.758527  ...   162.000000     0.000000\n",
       "25%     203.731024    61.218525  ...   263.400000   226.250000\n",
       "50%     212.706130    69.254516  ...   270.400000   248.300000\n",
       "75%     259.797581    96.030889  ...   351.800000   313.100000\n",
       "max     280.642357   160.490151  ...   370.100000   351.050000\n",
       "\n",
       "[8 rows x 8 columns]"
      ]
     },
     "execution_count": 26,
     "metadata": {
      "tags": []
     },
     "output_type": "execute_result"
    }
   ],
   "source": [
    "_logFlag = False\n",
    "_plotFlag = False\n",
    "_plotRecipeGroup = 7\n",
    "\n",
    "rgdf = pd.DataFrame(columns=rgColumns)\n",
    "\n",
    "rangei = np.arange(len(recipeGroup))\n",
    "\n",
    "for i in rangei:\n",
    "  \n",
    "  aRecipeGroupFileList = getRecipeGroupFileList(recipeGroup[i])\n",
    "  \n",
    "  rangej = np.arange(len(aRecipeGroupFileList))\n",
    "                                                \n",
    "  for j in rangej:     \n",
    "  \n",
    "    df = readRecipeGroupFile(aRecipeGroupFileList[j])\n",
    "    \n",
    "    rangek = np.arange(len(df.columns))\n",
    "    \n",
    "    for k in rangek:\n",
    "            \n",
    "      aFileAttributeList = getFileAttributeList(os.path.basename(aRecipeGroupFileList[j]), True)      \n",
    "      \n",
    "      aPTCno = df.columns[k].strip()      \n",
    "      aFileAttributeList.append(aPTCno[aPTCno.find('PTC'): len(aPTCno)])                   #6. PTCno\n",
    "      \n",
    "      aFileAttributeList.append(df.count()[k])                   #7. count\n",
    "      aFileAttributeList.append(df.mean()[k])                    #8. mean\n",
    "      aFileAttributeList.append(df.std()[k])                     #9. std\n",
    "      aFileAttributeList.append(df.min()[k])                     #10. min\n",
    "      aFileAttributeList.append(df.quantile(0.25)[k])            #11. Q1 25%\n",
    "      aFileAttributeList.append(df.quantile(0.5)[k])             #12. Q2 50%\n",
    "      aFileAttributeList.append(df.quantile(0.75)[k])            #13. Q3 75%\n",
    "      aFileAttributeList.append(df.max()[k])                     #14. max\n",
    "      aFileAttributeList.append(df.median()[k])                  #15. median\n",
    "      #aFileAttributeList.append()   #16. start2max_time\n",
    "      #aFileAttributeList.append()   #17. stable_time\n",
    "      #aFileAttributeList.append()   #18. max2end_time\n",
    "      #aFileAttributeList.append()   #19. totaltime\n",
    "\n",
    "      if j == 0 and _logFlag == True:\n",
    "        print(aFileAttributeList)\n",
    "      \n",
    "      rgdf = rgdf.append(pd.DataFrame([aFileAttributeList], columns=rgColumns),ignore_index=True)\n",
    "        \n",
    "    # plot the 1st file curve for each recipe group\n",
    "    #if j == 0:        \n",
    "      #plotRecipeGroupFileCurve(df)    \n",
    "    \n",
    "    # plot the same recipe group all file curve\n",
    "    if i == _plotRecipeGroup and _plotFlag == True:        \n",
    "      plotRecipeGroupFileCurve(df,recipeGroup[i], str(j))\n",
    "      \n",
    "rgdf.describe()"
   ]
  },
  {
   "cell_type": "code",
   "execution_count": 27,
   "metadata": {
    "colab": {
     "base_uri": "https://localhost:8080/",
     "height": 67
    },
    "colab_type": "code",
    "executionInfo": {
     "elapsed": 977,
     "status": "ok",
     "timestamp": 1563863677152,
     "user": {
      "displayName": "張仁寬@go.thu",
      "photoUrl": "",
      "userId": "00629718865293591950"
     },
     "user_tz": -480
    },
    "id": "oLMCKHuEZztH",
    "outputId": "3adb9c4f-6ffa-4c52-a6f2-cff5b3759bd8"
   },
   "outputs": [
    {
     "data": {
      "text/plain": [
       "Index(['filename', 'groupid', 'eqpid', 'date', 'sno', 'PTCno', 'count', 'mean',\n",
       "       'std', 'min', 'Q1', 'Q2', 'Q3', 'max', 'median'],\n",
       "      dtype='object')"
      ]
     },
     "execution_count": 27,
     "metadata": {
      "tags": []
     },
     "output_type": "execute_result"
    }
   ],
   "source": [
    "rgdf.columns"
   ]
  },
  {
   "cell_type": "code",
   "execution_count": 28,
   "metadata": {
    "colab": {
     "base_uri": "https://localhost:8080/",
     "height": 186
    },
    "colab_type": "code",
    "executionInfo": {
     "elapsed": 1065,
     "status": "ok",
     "timestamp": 1563863679802,
     "user": {
      "displayName": "張仁寬@go.thu",
      "photoUrl": "",
      "userId": "00629718865293591950"
     },
     "user_tz": -480
    },
    "id": "2T3RiRolZ3oK",
    "outputId": "be86dc92-c650-496e-fdc7-f8307f237173"
   },
   "outputs": [
    {
     "data": {
      "text/html": [
       "<div>\n",
       "<style scoped>\n",
       "    .dataframe tbody tr th:only-of-type {\n",
       "        vertical-align: middle;\n",
       "    }\n",
       "\n",
       "    .dataframe tbody tr th {\n",
       "        vertical-align: top;\n",
       "    }\n",
       "\n",
       "    .dataframe thead th {\n",
       "        text-align: right;\n",
       "    }\n",
       "</style>\n",
       "<table border=\"1\" class=\"dataframe\">\n",
       "  <thead>\n",
       "    <tr style=\"text-align: right;\">\n",
       "      <th></th>\n",
       "      <th>filename</th>\n",
       "      <th>groupid</th>\n",
       "      <th>eqpid</th>\n",
       "      <th>date</th>\n",
       "      <th>sno</th>\n",
       "      <th>PTCno</th>\n",
       "      <th>count</th>\n",
       "      <th>mean</th>\n",
       "      <th>std</th>\n",
       "      <th>min</th>\n",
       "      <th>Q1</th>\n",
       "      <th>Q2</th>\n",
       "      <th>Q3</th>\n",
       "      <th>max</th>\n",
       "      <th>median</th>\n",
       "    </tr>\n",
       "  </thead>\n",
       "  <tbody>\n",
       "    <tr>\n",
       "      <th>0</th>\n",
       "      <td>G11-1-AC(7X15)20160511-002_Export.txt</td>\n",
       "      <td>11</td>\n",
       "      <td>AC(7X15)</td>\n",
       "      <td>20160511</td>\n",
       "      <td>002</td>\n",
       "      <td>PTC10</td>\n",
       "      <td>258</td>\n",
       "      <td>273.026357</td>\n",
       "      <td>93.075181</td>\n",
       "      <td>77.5</td>\n",
       "      <td>193.850</td>\n",
       "      <td>323.60</td>\n",
       "      <td>352.70</td>\n",
       "      <td>354.0</td>\n",
       "      <td>323.60</td>\n",
       "    </tr>\n",
       "    <tr>\n",
       "      <th>1</th>\n",
       "      <td>G11-1-AC(7X15)20160511-002_Export.txt</td>\n",
       "      <td>11</td>\n",
       "      <td>AC(7X15)</td>\n",
       "      <td>20160511</td>\n",
       "      <td>002</td>\n",
       "      <td>PTC11</td>\n",
       "      <td>258</td>\n",
       "      <td>275.516667</td>\n",
       "      <td>93.810080</td>\n",
       "      <td>77.4</td>\n",
       "      <td>195.175</td>\n",
       "      <td>332.40</td>\n",
       "      <td>353.70</td>\n",
       "      <td>354.3</td>\n",
       "      <td>332.40</td>\n",
       "    </tr>\n",
       "    <tr>\n",
       "      <th>2</th>\n",
       "      <td>G11-1-AC(7X15)20160511-002_Export.txt</td>\n",
       "      <td>11</td>\n",
       "      <td>AC(7X15)</td>\n",
       "      <td>20160511</td>\n",
       "      <td>002</td>\n",
       "      <td>PTC12</td>\n",
       "      <td>258</td>\n",
       "      <td>273.703876</td>\n",
       "      <td>91.688239</td>\n",
       "      <td>77.5</td>\n",
       "      <td>196.925</td>\n",
       "      <td>321.75</td>\n",
       "      <td>352.65</td>\n",
       "      <td>354.3</td>\n",
       "      <td>321.75</td>\n",
       "    </tr>\n",
       "  </tbody>\n",
       "</table>\n",
       "</div>"
      ],
      "text/plain": [
       "                                filename groupid  ...    max  median\n",
       "0  G11-1-AC(7X15)20160511-002_Export.txt      11  ...  354.0  323.60\n",
       "1  G11-1-AC(7X15)20160511-002_Export.txt      11  ...  354.3  332.40\n",
       "2  G11-1-AC(7X15)20160511-002_Export.txt      11  ...  354.3  321.75\n",
       "\n",
       "[3 rows x 15 columns]"
      ]
     },
     "execution_count": 28,
     "metadata": {
      "tags": []
     },
     "output_type": "execute_result"
    }
   ],
   "source": [
    "rgdf.head(3)"
   ]
  },
  {
   "cell_type": "code",
   "execution_count": 29,
   "metadata": {
    "colab": {
     "base_uri": "https://localhost:8080/",
     "height": 136
    },
    "colab_type": "code",
    "executionInfo": {
     "elapsed": 808,
     "status": "ok",
     "timestamp": 1563863733790,
     "user": {
      "displayName": "張仁寬@go.thu",
      "photoUrl": "",
      "userId": "00629718865293591950"
     },
     "user_tz": -480
    },
    "id": "BSMv5SbniqUX",
    "outputId": "c68388e4-1e22-422b-eecf-3cdb014fd21c"
   },
   "outputs": [
    {
     "data": {
      "text/html": [
       "<div>\n",
       "<style scoped>\n",
       "    .dataframe tbody tr th:only-of-type {\n",
       "        vertical-align: middle;\n",
       "    }\n",
       "\n",
       "    .dataframe tbody tr th {\n",
       "        vertical-align: top;\n",
       "    }\n",
       "\n",
       "    .dataframe thead th {\n",
       "        text-align: right;\n",
       "    }\n",
       "</style>\n",
       "<table border=\"1\" class=\"dataframe\">\n",
       "  <thead>\n",
       "    <tr style=\"text-align: right;\">\n",
       "      <th></th>\n",
       "      <th>G49-PTC4</th>\n",
       "      <th>G49-PTC6</th>\n",
       "      <th>G49-PTC14</th>\n",
       "      <th>G49-PTC20</th>\n",
       "      <th>G49-PTC26</th>\n",
       "      <th>G49-PTC30</th>\n",
       "      <th>G49-PTC47</th>\n",
       "      <th>G49-PTC48</th>\n",
       "    </tr>\n",
       "  </thead>\n",
       "  <tbody>\n",
       "    <tr>\n",
       "      <th>1</th>\n",
       "      <td>70.9</td>\n",
       "      <td>71.1</td>\n",
       "      <td>73.5</td>\n",
       "      <td>71.7</td>\n",
       "      <td>70.7</td>\n",
       "      <td>69.5</td>\n",
       "      <td>73.8</td>\n",
       "      <td>73.1</td>\n",
       "    </tr>\n",
       "    <tr>\n",
       "      <th>2</th>\n",
       "      <td>70.9</td>\n",
       "      <td>71.1</td>\n",
       "      <td>73.5</td>\n",
       "      <td>71.7</td>\n",
       "      <td>70.7</td>\n",
       "      <td>69.5</td>\n",
       "      <td>73.8</td>\n",
       "      <td>73.1</td>\n",
       "    </tr>\n",
       "    <tr>\n",
       "      <th>3</th>\n",
       "      <td>70.9</td>\n",
       "      <td>71.1</td>\n",
       "      <td>73.5</td>\n",
       "      <td>71.7</td>\n",
       "      <td>70.7</td>\n",
       "      <td>69.5</td>\n",
       "      <td>73.8</td>\n",
       "      <td>73.1</td>\n",
       "    </tr>\n",
       "  </tbody>\n",
       "</table>\n",
       "</div>"
      ],
      "text/plain": [
       "   G49-PTC4    G49-PTC6    G49-PTC14    ...  G49-PTC30    G49-PTC47    G49-PTC48  \n",
       "1        70.9        71.1         73.5  ...         69.5         73.8         73.1\n",
       "2        70.9        71.1         73.5  ...         69.5         73.8         73.1\n",
       "3        70.9        71.1         73.5  ...         69.5         73.8         73.1\n",
       "\n",
       "[3 rows x 8 columns]"
      ]
     },
     "execution_count": 29,
     "metadata": {
      "tags": []
     },
     "output_type": "execute_result"
    }
   ],
   "source": [
    "df.head(3)"
   ]
  },
  {
   "cell_type": "markdown",
   "metadata": {
    "colab_type": "text",
    "id": "ziYWtzTJXyH1"
   },
   "source": [
    "## Plot File Curve"
   ]
  },
  {
   "cell_type": "code",
   "execution_count": 150,
   "metadata": {
    "colab": {
     "base_uri": "https://localhost:8080/",
     "height": 1000,
     "output_embedded_package_id": "1mn38JBoyCiIXCXWIg0ixf78vfqJv0YWM"
    },
    "colab_type": "code",
    "executionInfo": {
     "elapsed": 72317,
     "status": "ok",
     "timestamp": 1563870961842,
     "user": {
      "displayName": "張仁寬@go.thu",
      "photoUrl": "",
      "userId": "00629718865293591950"
     },
     "user_tz": -480
    },
    "id": "NUcnSNJMdZnx",
    "outputId": "090fa0f5-83de-4fe5-c6b0-58420ce67f01"
   },
   "outputs": [
    {
     "data": {
      "text/plain": [
       "Output hidden; open in https://colab.research.google.com to view."
      ]
     },
     "metadata": {},
     "output_type": "display_data"
    }
   ],
   "source": [
    "rangei = np.arange(len(recipeGroup))\n",
    "\n",
    "for i in rangei:\n",
    "  \n",
    "  aRecipeGroupFileList = getRecipeGroupFileList(recipeGroup[i])\n",
    "                                                \n",
    "  rangej = np.arange(len(aRecipeGroupFileList))\n",
    "  \n",
    "  for j in rangej:     \n",
    "  \n",
    "    df = readRecipeGroupFile(aRecipeGroupFileList[j])\n",
    "    \n",
    "    plotRecipeGroupFileCurve(df,recipeGroup[i], str(j+1))\n",
    "    "
   ]
  },
  {
   "cell_type": "markdown",
   "metadata": {
    "colab_type": "text",
    "id": "kD4XOu7ffpcr"
   },
   "source": [
    "## (*****) Classification Model Build"
   ]
  },
  {
   "cell_type": "code",
   "execution_count": 0,
   "metadata": {
    "colab": {},
    "colab_type": "code",
    "id": "p4P5-2YxgIeM"
   },
   "outputs": [],
   "source": [
    "from sklearn.model_selection import train_test_split\n",
    "from sklearn.neighbors import KNeighborsClassifier\n",
    "from sklearn import tree\n",
    "from sklearn import metrics"
   ]
  },
  {
   "cell_type": "markdown",
   "metadata": {
    "colab_type": "text",
    "id": "0E4NIkQMmdS7"
   },
   "source": [
    "### KNN Model"
   ]
  },
  {
   "cell_type": "code",
   "execution_count": 0,
   "metadata": {
    "colab": {},
    "colab_type": "code",
    "id": "uPeszakaku2N"
   },
   "outputs": [],
   "source": [
    "# df=df.values (dataframe to array)\n",
    "rgdf_data = rgdf.drop(['filename','groupid','eqpid','PTCno','sno', 'date'], axis = 1)\n",
    "rgdf_target = rgdf['groupid'].values"
   ]
  },
  {
   "cell_type": "code",
   "execution_count": 0,
   "metadata": {
    "colab": {},
    "colab_type": "code",
    "id": "OIBIbz-ioU0_"
   },
   "outputs": [],
   "source": [
    "rgdf_data"
   ]
  },
  {
   "cell_type": "code",
   "execution_count": 0,
   "metadata": {
    "colab": {},
    "colab_type": "code",
    "id": "EP9eGMBFgkXv"
   },
   "outputs": [],
   "source": [
    "train_x , test_x , train_y , test_y = train_test_split(rgdf_data,rgdf_target,test_size=0.2)"
   ]
  },
  {
   "cell_type": "code",
   "execution_count": 110,
   "metadata": {
    "colab": {
     "base_uri": "https://localhost:8080/",
     "height": 286
    },
    "colab_type": "code",
    "executionInfo": {
     "elapsed": 2178,
     "status": "ok",
     "timestamp": 1563868305890,
     "user": {
      "displayName": "張仁寬@go.thu",
      "photoUrl": "",
      "userId": "00629718865293591950"
     },
     "user_tz": -480
    },
    "id": "omjMQ_CNdiiB",
    "outputId": "ff714ac3-002d-4ae1-a3e0-cf5f8e3c1e6d"
   },
   "outputs": [
    {
     "data": {
      "image/png": "[encoded data removed]",
      "text/plain": [
       "<Figure size 432x288 with 1 Axes>"
      ]
     },
     "metadata": {
      "tags": []
     },
     "output_type": "display_data"
    },
    {
     "name": "stdout",
     "output_type": "stream",
     "text": [
      "2\n"
     ]
    }
   ],
   "source": [
    "# 選擇 k\n",
    "range = np.arange(1, round(0.05 * train_x.shape[0]) + 1)\n",
    "accuracies = []\n",
    "\n",
    "for i in range:\n",
    "    clf = KNeighborsClassifier(n_neighbors = i)\n",
    "    rg_clf = clf.fit(train_x, train_y)\n",
    "    test_y_predicted = rg_clf.predict(test_x)\n",
    "    accuracy = metrics.accuracy_score(test_y, test_y_predicted)\n",
    "    accuracies.append(accuracy)\n",
    "\n",
    "# 視覺化\n",
    "plt.scatter(range, accuracies)\n",
    "plt.show()\n",
    "appr_k = accuracies.index(max(accuracies)) + 1\n",
    "print(appr_k)"
   ]
  },
  {
   "cell_type": "code",
   "execution_count": 111,
   "metadata": {
    "colab": {
     "base_uri": "https://localhost:8080/",
     "height": 907
    },
    "colab_type": "code",
    "executionInfo": {
     "elapsed": 698,
     "status": "ok",
     "timestamp": 1563868323835,
     "user": {
      "displayName": "張仁寬@go.thu",
      "photoUrl": "",
      "userId": "00629718865293591950"
     },
     "user_tz": -480
    },
    "id": "llgFzomAfyM2",
    "outputId": "fb771108-fa10-4052-b221-b7ca301867d3"
   },
   "outputs": [
    {
     "name": "stdout",
     "output_type": "stream",
     "text": [
      "['32' '48' '34' '19' '34' '48' '32' '15' '49' '34' '11' '32' '34' '48'\n",
      " '11' '32' '34' '15' '19' '32' '11' '32' '17' '32' '34' '34' '19' '32'\n",
      " '34' '19' '48' '11' '17' '32' '49' '32' '49' '19' '49' '49' '34' '34'\n",
      " '15' '34' '17' '15' '15' '32' '15' '19' '19' '48' '15' '34' '11' '48'\n",
      " '34' '49' '32' '48' '34' '15' '49' '19' '49' '34' '19' '48' '48' '19'\n",
      " '49' '34' '34' '34' '19' '32' '15' '19' '19' '17' '48' '17' '48' '17'\n",
      " '32' '32' '32' '49' '49' '11' '17' '15' '32' '34' '34' '34' '34' '11'\n",
      " '34' '49' '34' '48' '34' '11' '48' '11' '32' '48' '49' '48' '34' '49'\n",
      " '34' '32' '15' '15' '34' '49' '19' '34' '17' '34' '17' '48' '48' '32'\n",
      " '15' '19' '11' '32' '17' '32' '48' '19' '15' '15' '15' '48' '17' '19'\n",
      " '34' '49' '49' '32' '17' '11' '15' '49' '19' '19' '11' '48' '11' '34'\n",
      " '48' '15' '32' '49' '49' '32' '48' '34' '34' '32' '32' '49' '48' '49'\n",
      " '34' '49' '49' '15' '19' '19' '15' '15' '11' '19' '11' '19' '11' '19'\n",
      " '34' '49' '15' '48' '32' '19' '48' '49' '19' '15' '32' '17' '19' '15'\n",
      " '15' '11' '34' '32' '17' '48' '34' '15' '49' '19' '17' '34' '19' '32'\n",
      " '17' '32' '48' '19' '34' '48' '19' '19' '11' '19' '49' '32' '49' '17'\n",
      " '19' '19' '49' '49' '19' '17' '32' '34' '49' '49' '34' '19' '48' '32'\n",
      " '19' '19' '32' '19' '34' '32' '48' '32' '15' '49' '49' '34' '19' '32'\n",
      " '19' '34' '15' '15' '15' '19' '17' '32' '11' '19' '34' '32' '48' '19'\n",
      " '11' '34' '48' '32' '11' '49' '34' '48' '34' '15' '32' '34' '34' '34'\n",
      " '48' '48' '32' '11' '48' '49' '32' '17' '15' '48' '17' '49' '48' '48'\n",
      " '11' '11' '32' '15' '15' '48' '32' '34' '49' '49' '49' '49' '11' '32'\n",
      " '48' '49' '15' '34' '34' '49' '32' '15' '34' '32' '49' '17' '19' '48'\n",
      " '49' '11' '32' '32' '11' '32' '34' '19' '17' '17' '49' '48' '32' '32'\n",
      " '11' '49' '19' '49' '32' '32' '49' '48' '48' '15' '15' '11' '15']\n",
      "['32' '48' '34' '19' '34' '48' '32' '15' '49' '34' '11' '32' '34' '48'\n",
      " '11' '32' '34' '15' '19' '32' '11' '32' '17' '32' '34' '34' '19' '32'\n",
      " '34' '19' '48' '11' '17' '32' '49' '32' '49' '19' '49' '49' '34' '34'\n",
      " '15' '34' '17' '15' '15' '32' '15' '19' '19' '48' '15' '34' '11' '48'\n",
      " '34' '49' '32' '48' '34' '15' '49' '19' '49' '34' '19' '48' '48' '19'\n",
      " '49' '34' '34' '34' '19' '32' '15' '19' '19' '17' '48' '17' '48' '17'\n",
      " '32' '32' '32' '49' '49' '11' '17' '15' '32' '34' '34' '34' '34' '11'\n",
      " '34' '49' '34' '48' '34' '11' '48' '11' '32' '48' '49' '48' '34' '49'\n",
      " '34' '32' '15' '15' '34' '49' '19' '34' '17' '34' '17' '48' '48' '32'\n",
      " '15' '19' '11' '32' '17' '32' '48' '19' '15' '15' '15' '48' '17' '19'\n",
      " '34' '49' '49' '32' '17' '11' '15' '49' '19' '19' '11' '48' '11' '34'\n",
      " '48' '15' '32' '49' '49' '32' '48' '34' '34' '32' '32' '49' '48' '49'\n",
      " '34' '49' '49' '15' '19' '19' '15' '15' '11' '19' '11' '19' '11' '19'\n",
      " '34' '49' '15' '48' '32' '19' '48' '49' '19' '15' '32' '17' '19' '15'\n",
      " '15' '11' '34' '32' '17' '48' '34' '15' '49' '19' '17' '34' '19' '32'\n",
      " '17' '32' '48' '19' '34' '48' '19' '19' '11' '19' '49' '32' '49' '17'\n",
      " '19' '19' '49' '49' '19' '17' '32' '34' '49' '49' '34' '19' '48' '32'\n",
      " '19' '19' '32' '19' '34' '32' '48' '32' '15' '49' '49' '34' '19' '32'\n",
      " '19' '34' '15' '15' '15' '19' '17' '32' '11' '19' '34' '32' '48' '19'\n",
      " '11' '34' '48' '32' '11' '49' '34' '48' '34' '15' '32' '34' '34' '34'\n",
      " '48' '48' '32' '11' '48' '49' '32' '17' '15' '48' '17' '49' '48' '48'\n",
      " '11' '11' '32' '15' '15' '48' '32' '34' '49' '49' '49' '49' '11' '32'\n",
      " '48' '49' '15' '34' '34' '49' '32' '15' '34' '32' '49' '17' '19' '48'\n",
      " '49' '11' '32' '32' '11' '32' '34' '19' '17' '17' '49' '48' '32' '32'\n",
      " '11' '49' '19' '49' '32' '32' '49' '48' '48' '15' '15' '11' '15']\n",
      "=======\n",
      "KNN Model, K=1, Accuracy Rate =  100.0\n",
      "=======\n"
     ]
    }
   ],
   "source": [
    "# 建立分類器\n",
    "clf = KNeighborsClassifier(n_neighbors = 2)\n",
    "rg_clf = clf.fit(train_x, train_y)\n",
    "\n",
    "# 預測\n",
    "test_y_predicted = rg_clf.predict(test_x)\n",
    "print(test_y_predicted)\n",
    "\n",
    "# 標準答案\n",
    "print(test_y)\n",
    "\n",
    "accuracy = metrics.accuracy_score(test_y, test_y_predicted)\n",
    "\n",
    "print('=======')\n",
    "print('KNN Model, K=1, Accuracy Rate = ', accuracy * 100)\n",
    "\n",
    "print('=======')\n",
    "range = np.arange(len(test_y))\n",
    "\n",
    "for i in range:\n",
    "  \n",
    "  if test_y[i] != test_y_predicted[i]:\n",
    "    print(i , ' test_y', test_y[i], '; test_y_predicted', test_y_predicted[i], '; test_data_index', test_x.index[i])\n",
    "\n"
   ]
  },
  {
   "cell_type": "markdown",
   "metadata": {
    "colab_type": "text",
    "id": "8c586xF-1Mdu"
   },
   "source": [
    "## (*****) Prediction Exam - 0722 Dataset 36 sample"
   ]
  },
  {
   "cell_type": "code",
   "execution_count": 104,
   "metadata": {
    "colab": {
     "base_uri": "https://localhost:8080/",
     "height": 284
    },
    "colab_type": "code",
    "executionInfo": {
     "elapsed": 2669,
     "status": "ok",
     "timestamp": 1563868071514,
     "user": {
      "displayName": "張仁寬@go.thu",
      "photoUrl": "",
      "userId": "00629718865293591950"
     },
     "user_tz": -480
    },
    "id": "JG1kWP0x1T6A",
    "outputId": "5b32c4d3-7d5e-4210-b347-f4d7bcf43dc0"
   },
   "outputs": [
    {
     "data": {
      "text/html": [
       "<div>\n",
       "<style scoped>\n",
       "    .dataframe tbody tr th:only-of-type {\n",
       "        vertical-align: middle;\n",
       "    }\n",
       "\n",
       "    .dataframe tbody tr th {\n",
       "        vertical-align: top;\n",
       "    }\n",
       "\n",
       "    .dataframe thead th {\n",
       "        text-align: right;\n",
       "    }\n",
       "</style>\n",
       "<table border=\"1\" class=\"dataframe\">\n",
       "  <thead>\n",
       "    <tr style=\"text-align: right;\">\n",
       "      <th></th>\n",
       "      <th>mean</th>\n",
       "      <th>std</th>\n",
       "      <th>min</th>\n",
       "      <th>Q1</th>\n",
       "      <th>Q2</th>\n",
       "      <th>Q3</th>\n",
       "      <th>max</th>\n",
       "      <th>median</th>\n",
       "    </tr>\n",
       "  </thead>\n",
       "  <tbody>\n",
       "    <tr>\n",
       "      <th>count</th>\n",
       "      <td>216.000000</td>\n",
       "      <td>216.000000</td>\n",
       "      <td>216.00000</td>\n",
       "      <td>216.000000</td>\n",
       "      <td>216.000000</td>\n",
       "      <td>216.000000</td>\n",
       "      <td>216.000000</td>\n",
       "      <td>216.000000</td>\n",
       "    </tr>\n",
       "    <tr>\n",
       "      <th>mean</th>\n",
       "      <td>222.823477</td>\n",
       "      <td>77.123835</td>\n",
       "      <td>75.08750</td>\n",
       "      <td>154.027662</td>\n",
       "      <td>253.584259</td>\n",
       "      <td>294.391667</td>\n",
       "      <td>297.270370</td>\n",
       "      <td>253.584259</td>\n",
       "    </tr>\n",
       "    <tr>\n",
       "      <th>std</th>\n",
       "      <td>30.676190</td>\n",
       "      <td>17.008224</td>\n",
       "      <td>8.16835</td>\n",
       "      <td>18.989749</td>\n",
       "      <td>46.966607</td>\n",
       "      <td>43.471259</td>\n",
       "      <td>42.542754</td>\n",
       "      <td>46.966607</td>\n",
       "    </tr>\n",
       "    <tr>\n",
       "      <th>min</th>\n",
       "      <td>182.951232</td>\n",
       "      <td>53.488078</td>\n",
       "      <td>0.00000</td>\n",
       "      <td>111.200000</td>\n",
       "      <td>179.500000</td>\n",
       "      <td>247.975000</td>\n",
       "      <td>249.600000</td>\n",
       "      <td>179.500000</td>\n",
       "    </tr>\n",
       "    <tr>\n",
       "      <th>25%</th>\n",
       "      <td>200.929511</td>\n",
       "      <td>62.526121</td>\n",
       "      <td>72.80000</td>\n",
       "      <td>155.337500</td>\n",
       "      <td>220.950000</td>\n",
       "      <td>259.718750</td>\n",
       "      <td>264.175000</td>\n",
       "      <td>220.950000</td>\n",
       "    </tr>\n",
       "    <tr>\n",
       "      <th>50%</th>\n",
       "      <td>208.430609</td>\n",
       "      <td>69.616042</td>\n",
       "      <td>75.50000</td>\n",
       "      <td>162.300000</td>\n",
       "      <td>240.725000</td>\n",
       "      <td>263.950000</td>\n",
       "      <td>266.750000</td>\n",
       "      <td>240.725000</td>\n",
       "    </tr>\n",
       "    <tr>\n",
       "      <th>75%</th>\n",
       "      <td>256.756347</td>\n",
       "      <td>97.770207</td>\n",
       "      <td>78.20000</td>\n",
       "      <td>165.681250</td>\n",
       "      <td>301.825000</td>\n",
       "      <td>349.700000</td>\n",
       "      <td>350.725000</td>\n",
       "      <td>301.825000</td>\n",
       "    </tr>\n",
       "    <tr>\n",
       "      <th>max</th>\n",
       "      <td>273.367656</td>\n",
       "      <td>102.596601</td>\n",
       "      <td>87.50000</td>\n",
       "      <td>176.600000</td>\n",
       "      <td>334.600000</td>\n",
       "      <td>356.300000</td>\n",
       "      <td>360.500000</td>\n",
       "      <td>334.600000</td>\n",
       "    </tr>\n",
       "  </tbody>\n",
       "</table>\n",
       "</div>"
      ],
      "text/plain": [
       "             mean         std        min  ...          Q3         max      median\n",
       "count  216.000000  216.000000  216.00000  ...  216.000000  216.000000  216.000000\n",
       "mean   222.823477   77.123835   75.08750  ...  294.391667  297.270370  253.584259\n",
       "std     30.676190   17.008224    8.16835  ...   43.471259   42.542754   46.966607\n",
       "min    182.951232   53.488078    0.00000  ...  247.975000  249.600000  179.500000\n",
       "25%    200.929511   62.526121   72.80000  ...  259.718750  264.175000  220.950000\n",
       "50%    208.430609   69.616042   75.50000  ...  263.950000  266.750000  240.725000\n",
       "75%    256.756347   97.770207   78.20000  ...  349.700000  350.725000  301.825000\n",
       "max    273.367656  102.596601   87.50000  ...  356.300000  360.500000  334.600000\n",
       "\n",
       "[8 rows x 8 columns]"
      ]
     },
     "execution_count": 104,
     "metadata": {
      "tags": []
     },
     "output_type": "execute_result"
    }
   ],
   "source": [
    "# exman File \n",
    "\n",
    "import pandas as pd\n",
    "\n",
    "_logFlag = False\n",
    "_plotFlag = False\n",
    "_plotRecipeGroup = 7\n",
    "\n",
    "examdf = pd.DataFrame(columns=rgColumns)\n",
    "\n",
    "aExamFileList = getExamFileList()\n",
    "  \n",
    "rangej = np.arange(len(aExamFileList))\n",
    "  \n",
    "for j in rangej:\n",
    "     \n",
    "  edf = readRecipeGroupFile(aExamFileList[j])\n",
    "  \n",
    "  rangek = np.arange(len(edf.columns))\n",
    "  \n",
    "  for k in rangek:\n",
    "    \n",
    "    aFileAttributeList = getFileAttributeList(os.path.basename(aExamFileList[j]), False)     \n",
    "   \n",
    "    aPTCno = edf.columns[k].strip()      \n",
    "    aFileAttributeList.append(aPTCno[aPTCno.find('PTC'): len(aPTCno)])                   #6. PTCno\n",
    "    aFileAttributeList.append(edf.count()[k])                   #7. count\n",
    "    aFileAttributeList.append(edf.mean()[k])                    #8. mean\n",
    "    aFileAttributeList.append(edf.std()[k])                     #9. std\n",
    "    aFileAttributeList.append(edf.min()[k])                     #10. min\n",
    "    aFileAttributeList.append(edf.quantile(0.25)[k])            #11. Q1 25%\n",
    "    aFileAttributeList.append(edf.quantile(0.5)[k])             #12. Q2 50%\n",
    "    aFileAttributeList.append(edf.quantile(0.75)[k])            #13. Q3 75%\n",
    "    aFileAttributeList.append(edf.max()[k])                     #14. max\n",
    "    aFileAttributeList.append(edf.median()[k])                  #15. median\n",
    "    #aFileAttributeList.append()   #16. start2max_time\n",
    "    #aFileAttributeList.append()   #17. stable_time\n",
    "    #aFileAttributeList.append()   #18. max2end_time\n",
    "    #aFileAttributeList.append()   #19. totaltime\n",
    "\n",
    "    if j == 0 and _logFlag == True:\n",
    "      print(aFileAttributeList)\n",
    "      \n",
    "    examdf = examdf.append(pd.DataFrame([aFileAttributeList], columns=rgColumns),ignore_index=True) \n",
    "    \n",
    "    # plot the same recipe group all file curve\n",
    "    if i == _plotRecipeGroup and _plotFlag == True:        \n",
    "      plotRecipeGroupFileCurve(examdf, ' ', aExamFileList[j])\n",
    "      \n",
    "examdf.describe()"
   ]
  },
  {
   "cell_type": "code",
   "execution_count": 118,
   "metadata": {
    "colab": {
     "base_uri": "https://localhost:8080/",
     "height": 136
    },
    "colab_type": "code",
    "executionInfo": {
     "elapsed": 671,
     "status": "ok",
     "timestamp": 1563868571082,
     "user": {
      "displayName": "張仁寬@go.thu",
      "photoUrl": "",
      "userId": "00629718865293591950"
     },
     "user_tz": -480
    },
    "id": "W2gQeMFVzTew",
    "outputId": "dfe05add-f1e4-4d55-b9c3-1f5a12f250ad"
   },
   "outputs": [
    {
     "data": {
      "text/html": [
       "<div>\n",
       "<style scoped>\n",
       "    .dataframe tbody tr th:only-of-type {\n",
       "        vertical-align: middle;\n",
       "    }\n",
       "\n",
       "    .dataframe tbody tr th {\n",
       "        vertical-align: top;\n",
       "    }\n",
       "\n",
       "    .dataframe thead th {\n",
       "        text-align: right;\n",
       "    }\n",
       "</style>\n",
       "<table border=\"1\" class=\"dataframe\">\n",
       "  <thead>\n",
       "    <tr style=\"text-align: right;\">\n",
       "      <th></th>\n",
       "      <th>filename</th>\n",
       "      <th>groupid</th>\n",
       "      <th>eqpid</th>\n",
       "      <th>date</th>\n",
       "      <th>sno</th>\n",
       "      <th>PTCno</th>\n",
       "      <th>count</th>\n",
       "      <th>mean</th>\n",
       "      <th>std</th>\n",
       "      <th>min</th>\n",
       "      <th>Q1</th>\n",
       "      <th>Q2</th>\n",
       "      <th>Q3</th>\n",
       "      <th>max</th>\n",
       "      <th>median</th>\n",
       "    </tr>\n",
       "  </thead>\n",
       "  <tbody>\n",
       "    <tr>\n",
       "      <th>0</th>\n",
       "      <td>10.txt</td>\n",
       "      <td>Nan</td>\n",
       "      <td>Nan</td>\n",
       "      <td>Nan</td>\n",
       "      <td>Nan</td>\n",
       "      <td>PTC1</td>\n",
       "      <td>308</td>\n",
       "      <td>201.468506</td>\n",
       "      <td>57.475360</td>\n",
       "      <td>71.7</td>\n",
       "      <td>165.525</td>\n",
       "      <td>222.55</td>\n",
       "      <td>250.775</td>\n",
       "      <td>257.2</td>\n",
       "      <td>222.55</td>\n",
       "    </tr>\n",
       "    <tr>\n",
       "      <th>1</th>\n",
       "      <td>10.txt</td>\n",
       "      <td>Nan</td>\n",
       "      <td>Nan</td>\n",
       "      <td>Nan</td>\n",
       "      <td>Nan</td>\n",
       "      <td>PTC2</td>\n",
       "      <td>308</td>\n",
       "      <td>203.058442</td>\n",
       "      <td>57.325846</td>\n",
       "      <td>72.1</td>\n",
       "      <td>164.775</td>\n",
       "      <td>225.30</td>\n",
       "      <td>252.350</td>\n",
       "      <td>257.6</td>\n",
       "      <td>225.30</td>\n",
       "    </tr>\n",
       "    <tr>\n",
       "      <th>2</th>\n",
       "      <td>10.txt</td>\n",
       "      <td>Nan</td>\n",
       "      <td>Nan</td>\n",
       "      <td>Nan</td>\n",
       "      <td>Nan</td>\n",
       "      <td>PTC3</td>\n",
       "      <td>308</td>\n",
       "      <td>205.330519</td>\n",
       "      <td>57.548820</td>\n",
       "      <td>72.3</td>\n",
       "      <td>160.075</td>\n",
       "      <td>229.55</td>\n",
       "      <td>255.225</td>\n",
       "      <td>257.3</td>\n",
       "      <td>229.55</td>\n",
       "    </tr>\n",
       "  </tbody>\n",
       "</table>\n",
       "</div>"
      ],
      "text/plain": [
       "  filename groupid eqpid date  sno  ...       Q1      Q2       Q3    max  median\n",
       "0   10.txt     Nan   Nan  Nan  Nan  ...  165.525  222.55  250.775  257.2  222.55\n",
       "1   10.txt     Nan   Nan  Nan  Nan  ...  164.775  225.30  252.350  257.6  225.30\n",
       "2   10.txt     Nan   Nan  Nan  Nan  ...  160.075  229.55  255.225  257.3  229.55\n",
       "\n",
       "[3 rows x 15 columns]"
      ]
     },
     "execution_count": 118,
     "metadata": {
      "tags": []
     },
     "output_type": "execute_result"
    }
   ],
   "source": [
    "examdf_data = examdf.drop(['filename','groupid','eqpid','PTCno','sno', 'date'], axis = 1)\n",
    "examdf.head(3)"
   ]
  },
  {
   "cell_type": "code",
   "execution_count": 119,
   "metadata": {
    "colab": {
     "base_uri": "https://localhost:8080/",
     "height": 353
    },
    "colab_type": "code",
    "executionInfo": {
     "elapsed": 639,
     "status": "ok",
     "timestamp": 1563868620975,
     "user": {
      "displayName": "張仁寬@go.thu",
      "photoUrl": "",
      "userId": "00629718865293591950"
     },
     "user_tz": -480
    },
    "id": "nLmvtzF7zhZt",
    "outputId": "12f98e4e-8aab-478b-c082-8f93d910055e"
   },
   "outputs": [
    {
     "data": {
      "text/plain": [
       "array(['17', '17', '17', '17', '17', '17', '17', '17', '19', '19', '19',\n",
       "       '19', '19', '19', '19', '19', '32', '32', '32', '32', '32', '32',\n",
       "       '32', '32', '32', '32', '32', '32', '32', '32', '32', '32', '32',\n",
       "       '32', '32', '32', '32', '32', '32', '32', '32', '32', '32', '32',\n",
       "       '32', '32', '32', '32', '34', '34', '34', '34', '34', '34', '34',\n",
       "       '34', '34', '34', '34', '34', '34', '34', '34', '34', '34', '34',\n",
       "       '34', '34', '34', '34', '34', '34', '48', '48', '48', '48', '48',\n",
       "       '48', '48', '48', '48', '48', '48', '48', '48', '48', '48', '48',\n",
       "       '34', '34', '34', '34', '34', '34', '34', '34', '34', '34', '34',\n",
       "       '34', '34', '34', '34', '34', '48', '48', '48', '48', '48', '48',\n",
       "       '48', '48', '34', '34', '34', '34', '34', '34', '34', '34', '48',\n",
       "       '48', '48', '48', '48', '48', '48', '48', '15', '15', '15', '15',\n",
       "       '15', '15', '15', '15', '48', '48', '48', '48', '48', '48', '48',\n",
       "       '48', '49', '49', '49', '49', '49', '49', '49', '49', '49', '49',\n",
       "       '49', '49', '49', '49', '49', '49', '49', '49', '49', '49', '49',\n",
       "       '49', '49', '49', '49', '49', '49', '49', '49', '49', '49', '49',\n",
       "       '48', '48', '48', '48', '48', '48', '48', '48', '49', '49', '49',\n",
       "       '49', '49', '49', '49', '49', '49', '49', '49', '49', '49', '49',\n",
       "       '49', '49', '15', '15', '15', '15', '15', '15', '15', '15', '15',\n",
       "       '15', '15', '15', '15', '15', '15', '15'], dtype=object)"
      ]
     },
     "execution_count": 119,
     "metadata": {
      "tags": []
     },
     "output_type": "execute_result"
    }
   ],
   "source": [
    "# 預測\n",
    "exam_predicted = rg_clf.predict(examdf_data)\n",
    "exam_predicted"
   ]
  },
  {
   "cell_type": "code",
   "execution_count": 151,
   "metadata": {
    "colab": {
     "base_uri": "https://localhost:8080/",
     "height": 1000,
     "output_embedded_package_id": "1VbW6jY3APX3u7aeDSz8WyeCyjr0n17Tc"
    },
    "colab_type": "code",
    "executionInfo": {
     "elapsed": 68285,
     "status": "ok",
     "timestamp": 1563871059250,
     "user": {
      "displayName": "張仁寬@go.thu",
      "photoUrl": "",
      "userId": "00629718865293591950"
     },
     "user_tz": -480
    },
    "id": "A8tDMAR00eLF",
    "outputId": "c6e6d720-f838-45ca-fa02-d73b3d0ec540"
   },
   "outputs": [
    {
     "data": {
      "text/plain": [
       "Output hidden; open in https://colab.research.google.com to view."
      ]
     },
     "metadata": {},
     "output_type": "display_data"
    }
   ],
   "source": [
    "range = np.arange(len(exam_predicted))\n",
    "  \n",
    "for i in range:\n",
    "  \n",
    "  edf = readRecipeGroupFile(examFilePath + examdf.at[i,'filename'])\n",
    "    \n",
    "  plotRecipeGroupFileCurve(edf, exam_predicted[i], examdf.at[i,'filename'])\n",
    "  "
   ]
  },
  {
   "cell_type": "code",
   "execution_count": 0,
   "metadata": {
    "colab": {},
    "colab_type": "code",
    "id": "ED4JXGBi9i_K"
   },
   "outputs": [],
   "source": []
  },
  {
   "cell_type": "markdown",
   "metadata": {
    "colab_type": "text",
    "id": "P--11L61wQYy"
   },
   "source": [
    "#> ====================================<"
   ]
  },
  {
   "cell_type": "markdown",
   "metadata": {
    "colab_type": "text",
    "id": "zFSrEZTJeZ46"
   },
   "source": [
    "(*) other Features\n",
    "\n",
    "(1) slope = (y2-y1) / (x2-x1) = Δy / Δx = tan(θ )\n",
    "\n"
   ]
  },
  {
   "cell_type": "markdown",
   "metadata": {
    "colab_type": "text",
    "id": "D6yGfZOiVHss"
   },
   "source": [
    "## <練習>"
   ]
  },
  {
   "cell_type": "code",
   "execution_count": 65,
   "metadata": {
    "colab": {
     "base_uri": "https://localhost:8080/",
     "height": 458
    },
    "colab_type": "code",
    "executionInfo": {
     "elapsed": 894,
     "status": "error",
     "timestamp": 1563866125451,
     "user": {
      "displayName": "張仁寬@go.thu",
      "photoUrl": "",
      "userId": "00629718865293591950"
     },
     "user_tz": -480
    },
    "id": "V2-jAZGWmlc5",
    "outputId": "8e84c39e-186a-4712-843d-8a9cb4364499"
   },
   "outputs": [
    {
     "ename": "FileNotFoundError",
     "evalue": "ignored",
     "output_type": "error",
     "traceback": [
      "\u001b[0;31m---------------------------------------------------------------------------\u001b[0m",
      "\u001b[0;31mFileNotFoundError\u001b[0m                         Traceback (most recent call last)",
      "\u001b[0;32m<ipython-input-65-cbb152a7c1c5>\u001b[0m in \u001b[0;36m<module>\u001b[0;34m()\u001b[0m\n\u001b[0;32m----> 1\u001b[0;31m \u001b[0mfp\u001b[0m \u001b[0;34m=\u001b[0m \u001b[0mpd\u001b[0m\u001b[0;34m.\u001b[0m\u001b[0mread_csv\u001b[0m\u001b[0;34m(\u001b[0m\u001b[0maExamFileList\u001b[0m\u001b[0;34m[\u001b[0m\u001b[0;36m0\u001b[0m\u001b[0;34m]\u001b[0m\u001b[0;34m)\u001b[0m                                \u001b[0;31m# read file 分隔符號為 tab \\t'\u001b[0m\u001b[0;34m\u001b[0m\u001b[0;34m\u001b[0m\u001b[0m\n\u001b[0m\u001b[1;32m      2\u001b[0m \u001b[0;31m#fp = fp.drop([0])                                                   # drop defoF\u001b[0m\u001b[0;34m\u001b[0m\u001b[0;34m\u001b[0m\u001b[0;34m\u001b[0m\u001b[0m\n\u001b[1;32m      3\u001b[0m \u001b[0;31m#fp = fp.drop(columns=['Unnamed: ' + str(len(fp.columns)-1)])        # drop nonname column\u001b[0m\u001b[0;34m\u001b[0m\u001b[0;34m\u001b[0m\u001b[0;34m\u001b[0m\u001b[0m\n\u001b[1;32m      4\u001b[0m \u001b[0;31m#fp = fp.apply(pd.to_numeric, errors='coerce')                       # str to numeric\u001b[0m\u001b[0;34m\u001b[0m\u001b[0;34m\u001b[0m\u001b[0;34m\u001b[0m\u001b[0m\n\u001b[1;32m      5\u001b[0m \u001b[0;34m\u001b[0m\u001b[0m\n",
      "\u001b[0;32m/usr/local/lib/python3.6/dist-packages/pandas/io/parsers.py\u001b[0m in \u001b[0;36mparser_f\u001b[0;34m(filepath_or_buffer, sep, delimiter, header, names, index_col, usecols, squeeze, prefix, mangle_dupe_cols, dtype, engine, converters, true_values, false_values, skipinitialspace, skiprows, skipfooter, nrows, na_values, keep_default_na, na_filter, verbose, skip_blank_lines, parse_dates, infer_datetime_format, keep_date_col, date_parser, dayfirst, iterator, chunksize, compression, thousands, decimal, lineterminator, quotechar, quoting, doublequote, escapechar, comment, encoding, dialect, tupleize_cols, error_bad_lines, warn_bad_lines, delim_whitespace, low_memory, memory_map, float_precision)\u001b[0m\n\u001b[1;32m    700\u001b[0m                     skip_blank_lines=skip_blank_lines)\n\u001b[1;32m    701\u001b[0m \u001b[0;34m\u001b[0m\u001b[0m\n\u001b[0;32m--> 702\u001b[0;31m         \u001b[0;32mreturn\u001b[0m \u001b[0m_read\u001b[0m\u001b[0;34m(\u001b[0m\u001b[0mfilepath_or_buffer\u001b[0m\u001b[0;34m,\u001b[0m \u001b[0mkwds\u001b[0m\u001b[0;34m)\u001b[0m\u001b[0;34m\u001b[0m\u001b[0;34m\u001b[0m\u001b[0m\n\u001b[0m\u001b[1;32m    703\u001b[0m \u001b[0;34m\u001b[0m\u001b[0m\n\u001b[1;32m    704\u001b[0m     \u001b[0mparser_f\u001b[0m\u001b[0;34m.\u001b[0m\u001b[0m__name__\u001b[0m \u001b[0;34m=\u001b[0m \u001b[0mname\u001b[0m\u001b[0;34m\u001b[0m\u001b[0;34m\u001b[0m\u001b[0m\n",
      "\u001b[0;32m/usr/local/lib/python3.6/dist-packages/pandas/io/parsers.py\u001b[0m in \u001b[0;36m_read\u001b[0;34m(filepath_or_buffer, kwds)\u001b[0m\n\u001b[1;32m    427\u001b[0m \u001b[0;34m\u001b[0m\u001b[0m\n\u001b[1;32m    428\u001b[0m     \u001b[0;31m# Create the parser.\u001b[0m\u001b[0;34m\u001b[0m\u001b[0;34m\u001b[0m\u001b[0;34m\u001b[0m\u001b[0m\n\u001b[0;32m--> 429\u001b[0;31m     \u001b[0mparser\u001b[0m \u001b[0;34m=\u001b[0m \u001b[0mTextFileReader\u001b[0m\u001b[0;34m(\u001b[0m\u001b[0mfilepath_or_buffer\u001b[0m\u001b[0;34m,\u001b[0m \u001b[0;34m**\u001b[0m\u001b[0mkwds\u001b[0m\u001b[0;34m)\u001b[0m\u001b[0;34m\u001b[0m\u001b[0;34m\u001b[0m\u001b[0m\n\u001b[0m\u001b[1;32m    430\u001b[0m \u001b[0;34m\u001b[0m\u001b[0m\n\u001b[1;32m    431\u001b[0m     \u001b[0;32mif\u001b[0m \u001b[0mchunksize\u001b[0m \u001b[0;32mor\u001b[0m \u001b[0miterator\u001b[0m\u001b[0;34m:\u001b[0m\u001b[0;34m\u001b[0m\u001b[0;34m\u001b[0m\u001b[0m\n",
      "\u001b[0;32m/usr/local/lib/python3.6/dist-packages/pandas/io/parsers.py\u001b[0m in \u001b[0;36m__init__\u001b[0;34m(self, f, engine, **kwds)\u001b[0m\n\u001b[1;32m    893\u001b[0m             \u001b[0mself\u001b[0m\u001b[0;34m.\u001b[0m\u001b[0moptions\u001b[0m\u001b[0;34m[\u001b[0m\u001b[0;34m'has_index_names'\u001b[0m\u001b[0;34m]\u001b[0m \u001b[0;34m=\u001b[0m \u001b[0mkwds\u001b[0m\u001b[0;34m[\u001b[0m\u001b[0;34m'has_index_names'\u001b[0m\u001b[0;34m]\u001b[0m\u001b[0;34m\u001b[0m\u001b[0;34m\u001b[0m\u001b[0m\n\u001b[1;32m    894\u001b[0m \u001b[0;34m\u001b[0m\u001b[0m\n\u001b[0;32m--> 895\u001b[0;31m         \u001b[0mself\u001b[0m\u001b[0;34m.\u001b[0m\u001b[0m_make_engine\u001b[0m\u001b[0;34m(\u001b[0m\u001b[0mself\u001b[0m\u001b[0;34m.\u001b[0m\u001b[0mengine\u001b[0m\u001b[0;34m)\u001b[0m\u001b[0;34m\u001b[0m\u001b[0;34m\u001b[0m\u001b[0m\n\u001b[0m\u001b[1;32m    896\u001b[0m \u001b[0;34m\u001b[0m\u001b[0m\n\u001b[1;32m    897\u001b[0m     \u001b[0;32mdef\u001b[0m \u001b[0mclose\u001b[0m\u001b[0;34m(\u001b[0m\u001b[0mself\u001b[0m\u001b[0;34m)\u001b[0m\u001b[0;34m:\u001b[0m\u001b[0;34m\u001b[0m\u001b[0;34m\u001b[0m\u001b[0m\n",
      "\u001b[0;32m/usr/local/lib/python3.6/dist-packages/pandas/io/parsers.py\u001b[0m in \u001b[0;36m_make_engine\u001b[0;34m(self, engine)\u001b[0m\n\u001b[1;32m   1120\u001b[0m     \u001b[0;32mdef\u001b[0m \u001b[0m_make_engine\u001b[0m\u001b[0;34m(\u001b[0m\u001b[0mself\u001b[0m\u001b[0;34m,\u001b[0m \u001b[0mengine\u001b[0m\u001b[0;34m=\u001b[0m\u001b[0;34m'c'\u001b[0m\u001b[0;34m)\u001b[0m\u001b[0;34m:\u001b[0m\u001b[0;34m\u001b[0m\u001b[0;34m\u001b[0m\u001b[0m\n\u001b[1;32m   1121\u001b[0m         \u001b[0;32mif\u001b[0m \u001b[0mengine\u001b[0m \u001b[0;34m==\u001b[0m \u001b[0;34m'c'\u001b[0m\u001b[0;34m:\u001b[0m\u001b[0;34m\u001b[0m\u001b[0;34m\u001b[0m\u001b[0m\n\u001b[0;32m-> 1122\u001b[0;31m             \u001b[0mself\u001b[0m\u001b[0;34m.\u001b[0m\u001b[0m_engine\u001b[0m \u001b[0;34m=\u001b[0m \u001b[0mCParserWrapper\u001b[0m\u001b[0;34m(\u001b[0m\u001b[0mself\u001b[0m\u001b[0;34m.\u001b[0m\u001b[0mf\u001b[0m\u001b[0;34m,\u001b[0m \u001b[0;34m**\u001b[0m\u001b[0mself\u001b[0m\u001b[0;34m.\u001b[0m\u001b[0moptions\u001b[0m\u001b[0;34m)\u001b[0m\u001b[0;34m\u001b[0m\u001b[0;34m\u001b[0m\u001b[0m\n\u001b[0m\u001b[1;32m   1123\u001b[0m         \u001b[0;32melse\u001b[0m\u001b[0;34m:\u001b[0m\u001b[0;34m\u001b[0m\u001b[0;34m\u001b[0m\u001b[0m\n\u001b[1;32m   1124\u001b[0m             \u001b[0;32mif\u001b[0m \u001b[0mengine\u001b[0m \u001b[0;34m==\u001b[0m \u001b[0;34m'python'\u001b[0m\u001b[0;34m:\u001b[0m\u001b[0;34m\u001b[0m\u001b[0;34m\u001b[0m\u001b[0m\n",
      "\u001b[0;32m/usr/local/lib/python3.6/dist-packages/pandas/io/parsers.py\u001b[0m in \u001b[0;36m__init__\u001b[0;34m(self, src, **kwds)\u001b[0m\n\u001b[1;32m   1851\u001b[0m         \u001b[0mkwds\u001b[0m\u001b[0;34m[\u001b[0m\u001b[0;34m'usecols'\u001b[0m\u001b[0;34m]\u001b[0m \u001b[0;34m=\u001b[0m \u001b[0mself\u001b[0m\u001b[0;34m.\u001b[0m\u001b[0musecols\u001b[0m\u001b[0;34m\u001b[0m\u001b[0;34m\u001b[0m\u001b[0m\n\u001b[1;32m   1852\u001b[0m \u001b[0;34m\u001b[0m\u001b[0m\n\u001b[0;32m-> 1853\u001b[0;31m         \u001b[0mself\u001b[0m\u001b[0;34m.\u001b[0m\u001b[0m_reader\u001b[0m \u001b[0;34m=\u001b[0m \u001b[0mparsers\u001b[0m\u001b[0;34m.\u001b[0m\u001b[0mTextReader\u001b[0m\u001b[0;34m(\u001b[0m\u001b[0msrc\u001b[0m\u001b[0;34m,\u001b[0m \u001b[0;34m**\u001b[0m\u001b[0mkwds\u001b[0m\u001b[0;34m)\u001b[0m\u001b[0;34m\u001b[0m\u001b[0;34m\u001b[0m\u001b[0m\n\u001b[0m\u001b[1;32m   1854\u001b[0m         \u001b[0mself\u001b[0m\u001b[0;34m.\u001b[0m\u001b[0munnamed_cols\u001b[0m \u001b[0;34m=\u001b[0m \u001b[0mself\u001b[0m\u001b[0;34m.\u001b[0m\u001b[0m_reader\u001b[0m\u001b[0;34m.\u001b[0m\u001b[0munnamed_cols\u001b[0m\u001b[0;34m\u001b[0m\u001b[0;34m\u001b[0m\u001b[0m\n\u001b[1;32m   1855\u001b[0m \u001b[0;34m\u001b[0m\u001b[0m\n",
      "\u001b[0;32mpandas/_libs/parsers.pyx\u001b[0m in \u001b[0;36mpandas._libs.parsers.TextReader.__cinit__\u001b[0;34m()\u001b[0m\n",
      "\u001b[0;32mpandas/_libs/parsers.pyx\u001b[0m in \u001b[0;36mpandas._libs.parsers.TextReader._setup_parser_source\u001b[0;34m()\u001b[0m\n",
      "\u001b[0;31mFileNotFoundError\u001b[0m: [Errno 2] File b'/content/gdrive/My Drive/thubigdata2019/exam/1.txt' does not exist: b'/content/gdrive/My Drive/thubigdata2019/exam/1.txt'"
     ]
    }
   ],
   "source": [
    "  fp = pd.read_csv(aExamFileList[0])                                # read file 分隔符號為 tab \\t'\n",
    "  #fp = fp.drop([0])                                                   # drop defoF\n",
    "  #fp = fp.drop(columns=['Unnamed: ' + str(len(fp.columns)-1)])        # drop nonname column\n",
    "  #fp = fp.apply(pd.to_numeric, errors='coerce')                       # str to numeric\n",
    "  \n",
    "  fp.shape\n",
    "  fp.head(3)\n",
    "  print(aExamFileList[0])\n",
    "  fp.columns\n",
    "  "
   ]
  },
  {
   "cell_type": "code",
   "execution_count": 0,
   "metadata": {
    "colab": {},
    "colab_type": "code",
    "id": "R3r-41860uG_"
   },
   "outputs": [],
   "source": [
    "range = np.arange(1, len(test_y))\n",
    "\n",
    "for i in range:\n",
    "  \n",
    "  if test_y[i] != test_y_predicted[i]:\n",
    "    print('test_y', test_y[i], '; test_y_predicted', test_y_predicted[i], '; test_data_index', test_x.index[i])\n",
    "    "
   ]
  },
  {
   "cell_type": "code",
   "execution_count": 0,
   "metadata": {
    "colab": {
     "base_uri": "https://localhost:8080/",
     "height": 141
    },
    "colab_type": "code",
    "executionInfo": {
     "elapsed": 778,
     "status": "ok",
     "timestamp": 1563680539467,
     "user": {
      "displayName": "張仁寬@go.thu",
      "photoUrl": "",
      "userId": "00629718865293591950"
     },
     "user_tz": -480
    },
    "id": "LHXopb9GI1kz",
    "outputId": "35c9eed1-2c0d-4397-e111-ed8d3ffad3bd"
   },
   "outputs": [
    {
     "name": "stdout",
     "output_type": "stream",
     "text": [
      "['/content/gdrive/My Drive/thubigdata2019/training230/G15/G15-AC(12X30)20160409-002_Export.txt', '/content/gdrive/My Drive/thubigdata2019/training230/G15/G15-AC(7X15)20160412-002_Export.txt', '/content/gdrive/My Drive/thubigdata2019/training230/G15/G15-AC(12X30)20160628-003_Export.txt', '/content/gdrive/My Drive/thubigdata2019/training230/G15/G15-AC(7X15)20160531-003_Export.txt', '/content/gdrive/My Drive/thubigdata2019/training230/G15/G15-AC(12X30)20161020-002_Export.txt', '/content/gdrive/My Drive/thubigdata2019/training230/G15/G15-AC(7x15)20160419-001_Export.txt', '/content/gdrive/My Drive/thubigdata2019/training230/G15/G15-AC(7X15)20160615-002_Export.txt', '/content/gdrive/My Drive/thubigdata2019/training230/G15/G15-AC(7X15)20160617-004_Export.txt', '/content/gdrive/My Drive/thubigdata2019/training230/G15/G15-AC(7X15)20160622-002_Export.txt', '/content/gdrive/My Drive/thubigdata2019/training230/G15/G15-AC(7X15)20161019-003_Export.txt', '/content/gdrive/My Drive/thubigdata2019/training230/G15/G15-AC(7X15)20160716-001_Export.txt', '/content/gdrive/My Drive/thubigdata2019/training230/G15/G15-AC(7X15)20160714-004_Export.txt', '/content/gdrive/My Drive/thubigdata2019/training230/G15/G15-AC(7X15)20161105-001_Export.txt', '/content/gdrive/My Drive/thubigdata2019/training230/G15/G15-AC(7X15)20160713-004_Export.txt', '/content/gdrive/My Drive/thubigdata2019/training230/G15/G15-AC(7X15)20160922-002_Export.txt', '/content/gdrive/My Drive/thubigdata2019/training230/G15/G15-AC(7X15)20160718-003_Export.txt', '/content/gdrive/My Drive/thubigdata2019/training230/G15/G15-AC(7X15)20161115-001_Export.txt', '/content/gdrive/My Drive/thubigdata2019/training230/G15/G15-AC(7X15)20161125-002_Export.txt', '/content/gdrive/My Drive/thubigdata2019/training230/G15/G15-AC(7X15)20161122-001_Export.txt', '/content/gdrive/My Drive/thubigdata2019/training230/G15/G15-AC(7X15)20161124-001_Export.txt', '/content/gdrive/My Drive/thubigdata2019/training230/G15/G15-AC(7X15)20161212-001_Export.txt', '/content/gdrive/My Drive/thubigdata2019/training230/G15/G15-AC(7X15)20161217-001_Export.txt', '/content/gdrive/My Drive/thubigdata2019/training230/G15/G15-AC(7X15)20161213-002_Export.txt', '/content/gdrive/My Drive/thubigdata2019/training230/G15/G15-AC(7X15)20161224-001_Export.txt', '/content/gdrive/My Drive/thubigdata2019/training230/G15/G15-AC(7X15)20170104-003_Export.txt', '/content/gdrive/My Drive/thubigdata2019/training230/G15/G15-AC(7X15)20161128-001_Export.txt', '/content/gdrive/My Drive/thubigdata2019/training230/G15/G15-AC(7X15)20170113-001_Export.txt', '/content/gdrive/My Drive/thubigdata2019/training230/G15/G15-AC(7X15)20170324-003_Export.txt', '/content/gdrive/My Drive/thubigdata2019/training230/G15/G15-AC(7X15)20170313-002_Export.txt', '/content/gdrive/My Drive/thubigdata2019/training230/G15/G15-AC(7X15)20170414-001_Export.txt', '/content/gdrive/My Drive/thubigdata2019/training230/G15/G15-AC(7X15)20160707-003_Export.txt']\n",
      "/content/gdrive/My Drive/thubigdata2019/training230/G15/G15-AC(12X30)20160409-002_Export.txt\n",
      "G15-AC(12X30)20160409-002_Export.txt\n",
      "G15-AC(12X30)20160409-002_Export.txt\n",
      "G15-AC(12X30)20160409-002_Export.txt\n",
      "['G15-AC(12X30)20160409-002_Export.txt', '15', 'AC(12X30)', '20160409', '002']\n"
     ]
    }
   ],
   "source": [
    "# 練習\n",
    "print(getRecipeGroupFileList(recipeGroup[1]))\n",
    "\n",
    "aFile = getRecipeGroupFileList(recipeGroup[1])[0]\n",
    "\n",
    "print(aFile)\n",
    "print(aFile.split(\"/\")[-1])\n",
    "print(os.path.basename(aFile))\n",
    "\n",
    "aFile= os.path.basename(aFile)\n",
    "\n",
    "print(aFile)\n",
    "\n",
    "print(getFileAttributeList(aFile), True)"
   ]
  },
  {
   "cell_type": "code",
   "execution_count": 0,
   "metadata": {
    "colab": {
     "base_uri": "https://localhost:8080/",
     "height": 34
    },
    "colab_type": "code",
    "executionInfo": {
     "elapsed": 775,
     "status": "ok",
     "timestamp": 1563680546911,
     "user": {
      "displayName": "張仁寬@go.thu",
      "photoUrl": "",
      "userId": "00629718865293591950"
     },
     "user_tz": -480
    },
    "id": "6oRXak_5F_MP",
    "outputId": "4d9910b9-7f0c-4a76-e14c-f65b58e1ef09"
   },
   "outputs": [
    {
     "data": {
      "text/plain": [
       "Index(['G15-PTC1  ', 'G15-PTC2  ', 'G15-PTC3  ', 'G15-PTC6  ', 'G15-PTC7  '], dtype='object')"
      ]
     },
     "execution_count": 26,
     "metadata": {
      "tags": []
     },
     "output_type": "execute_result"
    }
   ],
   "source": [
    "# 練習\n",
    "# preprocess recipe group file data\n",
    "\n",
    "#fp = pd.read_csv('/content/gdrive/My Drive/thubigdata2019/training230/G11/G11-1-AC(7X15)20160706-001_Export.txt',sep=\"\\t\")\n",
    "fp = pd.read_csv(getRecipeGroupFileList(recipeGroup[1])[0],sep=\"\\t\")\n",
    "#print(fp)\n",
    "\n",
    "fp = fp.drop([0])\n",
    "fp = fp.drop(columns=['Unnamed: ' + str(len(fp.columns)-1)])\n",
    "fp = fp.apply(pd.to_numeric, errors='coerce')\n",
    "  \n",
    "fp.columns"
   ]
  },
  {
   "cell_type": "code",
   "execution_count": 0,
   "metadata": {
    "colab": {
     "base_uri": "https://localhost:8080/",
     "height": 444
    },
    "colab_type": "code",
    "executionInfo": {
     "elapsed": 939,
     "status": "ok",
     "timestamp": 1563680553770,
     "user": {
      "displayName": "張仁寬@go.thu",
      "photoUrl": "",
      "userId": "00629718865293591950"
     },
     "user_tz": -480
    },
    "id": "m8bsHuvIVi0R",
    "outputId": "6212cd4c-b9dd-4dee-b154-fbe4ba0f5ce6"
   },
   "outputs": [
    {
     "name": "stdout",
     "output_type": "stream",
     "text": [
      "G15-PTC1  \n",
      "G15-PTC1\n",
      "241.4\n",
      "G15-PTC1      164.800\n",
      "G15-PTC2      164.150\n",
      "G15-PTC3      163.150\n",
      "G15-PTC6      165.875\n",
      "G15-PTC7      159.800\n",
      "Name: 0.25, dtype: float64\n"
     ]
    },
    {
     "data": {
      "text/html": [
       "<div>\n",
       "<style scoped>\n",
       "    .dataframe tbody tr th:only-of-type {\n",
       "        vertical-align: middle;\n",
       "    }\n",
       "\n",
       "    .dataframe tbody tr th {\n",
       "        vertical-align: top;\n",
       "    }\n",
       "\n",
       "    .dataframe thead th {\n",
       "        text-align: right;\n",
       "    }\n",
       "</style>\n",
       "<table border=\"1\" class=\"dataframe\">\n",
       "  <thead>\n",
       "    <tr style=\"text-align: right;\">\n",
       "      <th></th>\n",
       "      <th>G15-PTC1</th>\n",
       "      <th>G15-PTC2</th>\n",
       "      <th>G15-PTC3</th>\n",
       "      <th>G15-PTC6</th>\n",
       "      <th>G15-PTC7</th>\n",
       "    </tr>\n",
       "  </thead>\n",
       "  <tbody>\n",
       "    <tr>\n",
       "      <th>count</th>\n",
       "      <td>212.000000</td>\n",
       "      <td>212.000000</td>\n",
       "      <td>212.000000</td>\n",
       "      <td>212.000000</td>\n",
       "      <td>212.000000</td>\n",
       "    </tr>\n",
       "    <tr>\n",
       "      <th>mean</th>\n",
       "      <td>214.134434</td>\n",
       "      <td>215.362264</td>\n",
       "      <td>216.314151</td>\n",
       "      <td>216.328774</td>\n",
       "      <td>213.241981</td>\n",
       "    </tr>\n",
       "    <tr>\n",
       "      <th>std</th>\n",
       "      <td>64.457751</td>\n",
       "      <td>64.408920</td>\n",
       "      <td>65.117373</td>\n",
       "      <td>63.878222</td>\n",
       "      <td>65.325467</td>\n",
       "    </tr>\n",
       "    <tr>\n",
       "      <th>min</th>\n",
       "      <td>73.100000</td>\n",
       "      <td>73.300000</td>\n",
       "      <td>73.100000</td>\n",
       "      <td>75.000000</td>\n",
       "      <td>73.300000</td>\n",
       "    </tr>\n",
       "    <tr>\n",
       "      <th>25%</th>\n",
       "      <td>164.800000</td>\n",
       "      <td>164.150000</td>\n",
       "      <td>163.150000</td>\n",
       "      <td>165.875000</td>\n",
       "      <td>159.800000</td>\n",
       "    </tr>\n",
       "    <tr>\n",
       "      <th>50%</th>\n",
       "      <td>241.400000</td>\n",
       "      <td>244.350000</td>\n",
       "      <td>246.700000</td>\n",
       "      <td>243.800000</td>\n",
       "      <td>241.700000</td>\n",
       "    </tr>\n",
       "    <tr>\n",
       "      <th>75%</th>\n",
       "      <td>271.475000</td>\n",
       "      <td>272.025000</td>\n",
       "      <td>273.925000</td>\n",
       "      <td>273.525000</td>\n",
       "      <td>272.125000</td>\n",
       "    </tr>\n",
       "    <tr>\n",
       "      <th>max</th>\n",
       "      <td>273.800000</td>\n",
       "      <td>273.900000</td>\n",
       "      <td>274.800000</td>\n",
       "      <td>275.300000</td>\n",
       "      <td>273.800000</td>\n",
       "    </tr>\n",
       "  </tbody>\n",
       "</table>\n",
       "</div>"
      ],
      "text/plain": [
       "       G15-PTC1    G15-PTC2    G15-PTC3    G15-PTC6    G15-PTC7  \n",
       "count  212.000000  212.000000  212.000000  212.000000  212.000000\n",
       "mean   214.134434  215.362264  216.314151  216.328774  213.241981\n",
       "std     64.457751   64.408920   65.117373   63.878222   65.325467\n",
       "min     73.100000   73.300000   73.100000   75.000000   73.300000\n",
       "25%    164.800000  164.150000  163.150000  165.875000  159.800000\n",
       "50%    241.400000  244.350000  246.700000  243.800000  241.700000\n",
       "75%    271.475000  272.025000  273.925000  273.525000  272.125000\n",
       "max    273.800000  273.900000  274.800000  275.300000  273.800000"
      ]
     },
     "execution_count": 27,
     "metadata": {
      "tags": []
     },
     "output_type": "execute_result"
    }
   ],
   "source": [
    "# 練習\n",
    "df = readRecipeGroupFile(getRecipeGroupFileList(recipeGroup[1])[0])\n",
    "\n",
    "print(df.columns[0])\n",
    "\n",
    "print(df.columns[0].strip())\n",
    "\n",
    "print(df.median()[0])\n",
    "\n",
    "print(df.quantile(0.25, 0))\n",
    "\n",
    "df.describe()"
   ]
  },
  {
   "cell_type": "code",
   "execution_count": 0,
   "metadata": {
    "colab": {
     "base_uri": "https://localhost:8080/",
     "height": 321
    },
    "colab_type": "code",
    "executionInfo": {
     "elapsed": 1159,
     "status": "ok",
     "timestamp": 1563681452521,
     "user": {
      "displayName": "張仁寬@go.thu",
      "photoUrl": "",
      "userId": "00629718865293591950"
     },
     "user_tz": -480
    },
    "id": "D93r3UUDiKAF",
    "outputId": "32bb5614-52b8-494e-8543-743e5985145a"
   },
   "outputs": [
    {
     "name": "stdout",
     "output_type": "stream",
     "text": [
      "G15-PTC3\n",
      "3 3\n"
     ]
    },
    {
     "data": {
      "text/plain": [
       "<Figure size 1600x1280 with 0 Axes>"
      ]
     },
     "metadata": {
      "tags": []
     },
     "output_type": "display_data"
    },
    {
     "data": {
      "image/png": "[encoded data removed]",
      "text/plain": [
       "<Figure size 432x288 with 1 Axes>"
      ]
     },
     "metadata": {
      "tags": []
     },
     "output_type": "display_data"
    }
   ],
   "source": [
    "from operator import mod\n",
    "\n",
    "aPTCno = df.columns[2].strip()      \n",
    "print(aPTCno)\n",
    "aPTCno = aPTCno[aPTCno.find('PTC')+3 : len(aPTCno)]\n",
    "print(aPTCno, mod(int(aPTCno),10))\n",
    "\n",
    "plotRecipeGroupFileCurve(df)"
   ]
  }
 ],
 "metadata": {
  "colab": {
   "collapsed_sections": [
    "m7ccFr3o_bTX",
    "nqNezzCj_nGP",
    "PGCr9gUKFKSt",
    "OQf49F7QcSf6",
    "kD4XOu7ffpcr",
    "0E4NIkQMmdS7"
   ],
   "name": "164_CFmodel_05.ipynb",
   "provenance": [],
   "version": "0.3.2"
  },
  "kernelspec": {
   "display_name": "Python [default]",
   "language": "python",
   "name": "python3"
  },
  "language_info": {
   "codemirror_mode": {
    "name": "ipython",
    "version": 3
   },
   "file_extension": ".py",
   "mimetype": "text/x-python",
   "name": "python",
   "nbconvert_exporter": "python",
   "pygments_lexer": "ipython3",
   "version": "3.6.6"
  }
 },
 "nbformat": 4,
 "nbformat_minor": 1
}
