{
 "cells": [
  {
   "cell_type": "code",
   "execution_count": 1,
   "metadata": {},
   "outputs": [],
   "source": [
    "import numpy as np\n",
    "import pandas as pd\n",
    "import os\n",
    "import re\n",
    "from glob import glob"
   ]
  },
  {
   "cell_type": "code",
   "execution_count": 2,
   "metadata": {},
   "outputs": [],
   "source": [
    "G48_raw_data = sorted(glob('./raw_data/G48/G*.txt'))"
   ]
  },
  {
   "cell_type": "code",
   "execution_count": 3,
   "metadata": {},
   "outputs": [],
   "source": [
    "G48_raw_data_name = list(map(lambda x:x[15:],G48_raw_data))"
   ]
  },
  {
   "cell_type": "code",
   "execution_count": 5,
   "metadata": {},
   "outputs": [
    {
     "name": "stderr",
     "output_type": "stream",
     "text": [
      "C:\\Users\\AutoUser\\Anaconda3\\lib\\site-packages\\ipykernel\\__main__.py:9: FutureWarning: Sorting because non-concatenation axis is not aligned. A future version\n",
      "of pandas will change to not sort by default.\n",
      "\n",
      "To accept the future behavior, pass 'sort=False'.\n",
      "\n",
      "To retain the current behavior and silence the warning, pass 'sort=True'.\n",
      "\n"
     ]
    }
   ],
   "source": [
    "i = 0\n",
    "all_data = pd.DataFrame()\n",
    "for file in G48_raw_data:\n",
    "    data = pd.read_csv(file, sep = '\\t')\n",
    "    data['data_name'] = G48_raw_data_name[i]\n",
    "    data.columns = data.columns.str.replace('  ','')\n",
    "    data.columns = data.columns.str.replace('G48 -','G48-') #有些奇怪的間隔\n",
    "    data['data_point'] = data.index\n",
    "    all_data = pd.concat([data,all_data])\n",
    "    all_data = all_data.drop([0]) #消除單位Deg.\n",
    "    all_data.reset_index(drop = True)\n",
    "    i = i + 1"
   ]
  },
  {
   "cell_type": "code",
   "execution_count": 6,
   "metadata": {},
   "outputs": [
    {
     "data": {
      "text/plain": [
       "Index(['G48-PTC1', 'G48-PTC10', 'G48-PTC11', 'G48-PTC12', 'G48-PTC13',\n",
       "       'G48-PTC14', 'G48-PTC2', 'G48-PTC25', 'G48-PTC26', 'G48-PTC27',\n",
       "       'G48-PTC28', 'G48-PTC29', 'G48-PTC3', 'G48-PTC31', 'G48-PTC32',\n",
       "       'G48-PTC33', 'G48-PTC34', 'G48-PTC35', 'G48-PTC36', 'G48-PTC37',\n",
       "       'G48-PTC4', 'G48-PTC5', 'G48-PTC6', 'G48-PTC7', 'G48-PTC8', 'G48-PTC9',\n",
       "       'Unnamed: 4', 'Unnamed: 8', 'data_name', 'data_point'],\n",
       "      dtype='object')"
      ]
     },
     "execution_count": 6,
     "metadata": {},
     "output_type": "execute_result"
    }
   ],
   "source": [
    "all_data.columns"
   ]
  },
  {
   "cell_type": "code",
   "execution_count": 7,
   "metadata": {},
   "outputs": [],
   "source": [
    "#drop 'Unnamed: 5', 'Unnamed: 6', 'Unnamed: 8' 的columns\n",
    "#rows出現 Deg的資料 欄位\n",
    "for column in all_data.columns:\n",
    "    if column[0] == 'U':\n",
    "        all_data.drop([column],axis = 1,inplace = True)"
   ]
  },
  {
   "cell_type": "code",
   "execution_count": 8,
   "metadata": {},
   "outputs": [],
   "source": [
    "all_data['data_name'] = all_data['data_name'].apply(lambda x:x[:-11]) #去掉 _Export.txt"
   ]
  },
  {
   "cell_type": "code",
   "execution_count": 9,
   "metadata": {},
   "outputs": [
    {
     "data": {
      "text/plain": [
       "376    G48-AC(12X30)20160413-003\n",
       "377    G48-AC(12X30)20160413-003\n",
       "378    G48-AC(12X30)20160413-003\n",
       "379    G48-AC(12X30)20160413-003\n",
       "380    G48-AC(12X30)20160413-003\n",
       "Name: data_name, dtype: object"
      ]
     },
     "execution_count": 9,
     "metadata": {},
     "output_type": "execute_result"
    }
   ],
   "source": [
    "all_data['data_name'].tail()"
   ]
  },
  {
   "cell_type": "code",
   "execution_count": 10,
   "metadata": {},
   "outputs": [],
   "source": [
    "all_data['recipes'] = all_data['data_name'].str.extract(r'(G\\d+)',expand = False) #抓出所屬的Recipes\n",
    "all_data['autoclave'] = all_data['data_name'].str.extract(r'(AC\\(\\d+x\\d+\\))',expand = False,flags=re.IGNORECASE) #用正則抓出 所屬的熱壓爐\n",
    "all_data['date'] = all_data['data_name'].str.extract(r'(\\d{7,8})',expand = False) #抓出日期\n",
    "all_data['number'] = all_data['data_name'].str.extract(r'(00\\d{1,3})',expand = False)#抓出所屬編號\n",
    "all_data.drop(['data_name'],axis = 1,inplace = True)"
   ]
  },
  {
   "cell_type": "code",
   "execution_count": 11,
   "metadata": {},
   "outputs": [],
   "source": [
    "all_data.columns = all_data.columns.str.replace('G48-','')"
   ]
  },
  {
   "cell_type": "code",
   "execution_count": 12,
   "metadata": {},
   "outputs": [],
   "source": [
    "PTC_list = []\n",
    "for column in all_data.columns:\n",
    "    if column[0] == 'P' and column[-1] != 't':\n",
    "        PTC_list.append(column)"
   ]
  },
  {
   "cell_type": "code",
   "execution_count": 13,
   "metadata": {},
   "outputs": [],
   "source": [
    "all_data['PTC_count'] = len(PTC_list) - (all_data.shape[1] - all_data.count(axis = 1)) \n",
    "#每筆資料所收集溫度參數的個數"
   ]
  },
  {
   "cell_type": "code",
   "execution_count": 14,
   "metadata": {},
   "outputs": [
    {
     "data": {
      "text/plain": [
       "Index(['PTC1', 'PTC10', 'PTC11', 'PTC12', 'PTC13', 'PTC14', 'PTC2', 'PTC25',\n",
       "       'PTC26', 'PTC27', 'PTC28', 'PTC29', 'PTC3', 'PTC31', 'PTC32', 'PTC33',\n",
       "       'PTC34', 'PTC35', 'PTC36', 'PTC37', 'PTC4', 'PTC5', 'PTC6', 'PTC7',\n",
       "       'PTC8', 'PTC9', 'data_point', 'recipes', 'autoclave', 'date', 'number',\n",
       "       'PTC_count'],\n",
       "      dtype='object')"
      ]
     },
     "execution_count": 14,
     "metadata": {},
     "output_type": "execute_result"
    }
   ],
   "source": [
    "all_data.columns"
   ]
  },
  {
   "cell_type": "code",
   "execution_count": 15,
   "metadata": {},
   "outputs": [],
   "source": [
    "G48_data = pd.DataFrame()"
   ]
  },
  {
   "cell_type": "code",
   "execution_count": 16,
   "metadata": {},
   "outputs": [
    {
     "name": "stderr",
     "output_type": "stream",
     "text": [
      "C:\\Users\\AutoUser\\Anaconda3\\lib\\site-packages\\pandas\\core\\indexing.py:1472: FutureWarning: \n",
      "Passing list-likes to .loc or [] with any missing label will raise\n",
      "KeyError in the future, you can use .reindex() as an alternative.\n",
      "\n",
      "See the documentation here:\n",
      "https://pandas.pydata.org/pandas-docs/stable/indexing.html#deprecate-loc-reindex-listlike\n",
      "  return self._getitem_tuple(key)\n"
     ]
    }
   ],
   "source": [
    "for PTC in PTC_list:\n",
    "    data = all_data.loc[~all_data[PTC].isnull(),\n",
    "             ['number', 'date', 'autoclave', 'recipes'\n",
    "              ,'TemParameter', 'PTC_count','data_point',PTC]] #將各別 PTC 非0的數據挑出\n",
    "    data['TemParameter'] = PTC  #建立 TemParameter 對應所屬來的PTC\n",
    "    data['value'] = data[PTC]  # 賦予value值 統一\n",
    "    data.drop([PTC],inplace=True,axis = 1)\n",
    "    G48_data = pd.concat([G48_data,data])"
   ]
  },
  {
   "cell_type": "code",
   "execution_count": 17,
   "metadata": {},
   "outputs": [],
   "source": [
    "G48_data.reset_index(drop=True, inplace=True)"
   ]
  },
  {
   "cell_type": "code",
   "execution_count": 18,
   "metadata": {},
   "outputs": [
    {
     "data": {
      "text/plain": [
       "PTC28    6642\n",
       "PTC26    6224\n",
       "PTC32    5838\n",
       "PTC3     5504\n",
       "PTC8     5212\n",
       "PTC2     4883\n",
       "PTC11    4869\n",
       "PTC34    4821\n",
       "PTC27    4418\n",
       "PTC5     4382\n",
       "PTC33    3779\n",
       "PTC4     3676\n",
       "PTC12    3457\n",
       "PTC9     3390\n",
       "PTC29    3095\n",
       "PTC36    2788\n",
       "PTC31    2715\n",
       "PTC10    2480\n",
       "PTC35    1423\n",
       "PTC6     1405\n",
       "PTC7      766\n",
       "PTC25     765\n",
       "PTC1      759\n",
       "PTC37     379\n",
       "PTC14     341\n",
       "PTC13     341\n",
       "Name: TemParameter, dtype: int64"
      ]
     },
     "execution_count": 18,
     "metadata": {},
     "output_type": "execute_result"
    }
   ],
   "source": [
    "G48_data['TemParameter'].value_counts()"
   ]
  },
  {
   "cell_type": "code",
   "execution_count": 19,
   "metadata": {},
   "outputs": [],
   "source": [
    "G48_data.to_csv('./training_data/G48_data.csv')"
   ]
  },
  {
   "cell_type": "code",
   "execution_count": null,
   "metadata": {},
   "outputs": [],
   "source": []
  }
 ],
 "metadata": {
  "kernelspec": {
   "display_name": "Python [conda env:Anaconda3]",
   "language": "python",
   "name": "conda-env-Anaconda3-py"
  },
  "language_info": {
   "codemirror_mode": {
    "name": "ipython",
    "version": 3
   },
   "file_extension": ".py",
   "mimetype": "text/x-python",
   "name": "python",
   "nbconvert_exporter": "python",
   "pygments_lexer": "ipython3",
   "version": "3.6.6"
  }
 },
 "nbformat": 4,
 "nbformat_minor": 2
}
