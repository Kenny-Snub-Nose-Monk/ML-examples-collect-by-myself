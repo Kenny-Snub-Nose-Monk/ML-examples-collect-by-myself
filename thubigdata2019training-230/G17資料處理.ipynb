{
 "cells": [
  {
   "cell_type": "code",
   "execution_count": 5,
   "metadata": {},
   "outputs": [],
   "source": [
    "import numpy as np\n",
    "import pandas as pd\n",
    "import os\n",
    "import re\n",
    "from glob import glob"
   ]
  },
  {
   "cell_type": "code",
   "execution_count": 6,
   "metadata": {},
   "outputs": [],
   "source": [
    "G17_raw_data = sorted(glob('./raw_data/G17/G*.txt'))"
   ]
  },
  {
   "cell_type": "code",
   "execution_count": 7,
   "metadata": {},
   "outputs": [],
   "source": [
    "G17_raw_data_name = list(map(lambda x:x[15:],G17_raw_data))"
   ]
  },
  {
   "cell_type": "code",
   "execution_count": 8,
   "metadata": {},
   "outputs": [
    {
     "name": "stderr",
     "output_type": "stream",
     "text": [
      "C:\\Users\\AutoUser\\Anaconda3\\lib\\site-packages\\ipykernel\\__main__.py:9: FutureWarning: Sorting because non-concatenation axis is not aligned. A future version\n",
      "of pandas will change to not sort by default.\n",
      "\n",
      "To accept the future behavior, pass 'sort=False'.\n",
      "\n",
      "To retain the current behavior and silence the warning, pass 'sort=True'.\n",
      "\n"
     ]
    }
   ],
   "source": [
    "i = 0\n",
    "all_data = pd.DataFrame()\n",
    "for file in G17_raw_data:\n",
    "    data = pd.read_csv(file, sep = '\\t')\n",
    "    data['data_name'] = G17_raw_data_name[i]\n",
    "    data.columns = data.columns.str.replace('  ','')\n",
    "    data.columns = data.columns.str.replace('G17 -','G17-') #有些奇怪的間隔\n",
    "    data['data_point'] = data.index\n",
    "    all_data = pd.concat([data,all_data])\n",
    "    all_data = all_data.drop([0]) #消除單位Deg.\n",
    "    all_data.reset_index(drop = True)\n",
    "    i = i + 1"
   ]
  },
  {
   "cell_type": "code",
   "execution_count": 9,
   "metadata": {},
   "outputs": [
    {
     "data": {
      "text/plain": [
       "Index(['G17-PTC10', 'G17-PTC11', 'G17-PTC12', 'G17-PTC13', 'G17-PTC14',\n",
       "       'G17-PTC15', 'G17-PTC16', 'G17-PTC17', 'G17-PTC18', 'G17-PTC5',\n",
       "       'G17-PTC7', 'G17-PTC8', 'G17-PTC9', 'Unnamed: 5', 'Unnamed: 8',\n",
       "       'data_name', 'data_point'],\n",
       "      dtype='object')"
      ]
     },
     "execution_count": 9,
     "metadata": {},
     "output_type": "execute_result"
    }
   ],
   "source": [
    "all_data.columns"
   ]
  },
  {
   "cell_type": "code",
   "execution_count": 10,
   "metadata": {},
   "outputs": [],
   "source": [
    "#drop 'Unnamed: 5', 'Unnamed: 6', 'Unnamed: 8' 的columns\n",
    "#rows出現 Deg的資料 欄位\n",
    "for column in all_data.columns:\n",
    "    if column[0] == 'U':\n",
    "        all_data.drop([column],axis = 1,inplace = True)"
   ]
  },
  {
   "cell_type": "code",
   "execution_count": 11,
   "metadata": {},
   "outputs": [],
   "source": [
    "all_data['data_name'] = all_data['data_name'].apply(lambda x:x[:-11]) #去掉 _Export.txt"
   ]
  },
  {
   "cell_type": "code",
   "execution_count": 12,
   "metadata": {},
   "outputs": [
    {
     "data": {
      "text/plain": [
       "314    G17-AC(7X15)20160114-001\n",
       "315    G17-AC(7X15)20160114-001\n",
       "316    G17-AC(7X15)20160114-001\n",
       "317    G17-AC(7X15)20160114-001\n",
       "318    G17-AC(7X15)20160114-001\n",
       "Name: data_name, dtype: object"
      ]
     },
     "execution_count": 12,
     "metadata": {},
     "output_type": "execute_result"
    }
   ],
   "source": [
    "all_data['data_name'].tail()"
   ]
  },
  {
   "cell_type": "code",
   "execution_count": 13,
   "metadata": {},
   "outputs": [],
   "source": [
    "all_data['recipes'] = all_data['data_name'].str.extract(r'(G\\d+)',expand = False) #抓出所屬的Recipes\n",
    "all_data['autoclave'] = all_data['data_name'].str.extract(r'(AC\\(\\d+x\\d+\\))',expand = False,flags=re.IGNORECASE) #用正則抓出 所屬的熱壓爐\n",
    "all_data['date'] = all_data['data_name'].str.extract(r'(\\d{7,8})',expand = False) #抓出日期\n",
    "all_data['number'] = all_data['data_name'].str.extract(r'(00\\d{1,3})',expand = False)#抓出所屬編號\n",
    "all_data.drop(['data_name'],axis = 1,inplace = True)"
   ]
  },
  {
   "cell_type": "code",
   "execution_count": 14,
   "metadata": {},
   "outputs": [],
   "source": [
    "all_data.columns = all_data.columns.str.replace('G17-','')"
   ]
  },
  {
   "cell_type": "code",
   "execution_count": 15,
   "metadata": {},
   "outputs": [],
   "source": [
    "PTC_list = []\n",
    "for column in all_data.columns:\n",
    "    if column[0] == 'P' and column[-1] != 't':\n",
    "        PTC_list.append(column)"
   ]
  },
  {
   "cell_type": "code",
   "execution_count": 16,
   "metadata": {},
   "outputs": [],
   "source": [
    "all_data['PTC_count'] = len(PTC_list) - (all_data.shape[1] - all_data.count(axis = 1)) \n",
    "#每筆資料所收集溫度參數的個數"
   ]
  },
  {
   "cell_type": "code",
   "execution_count": 17,
   "metadata": {},
   "outputs": [
    {
     "data": {
      "text/plain": [
       "Index(['PTC10', 'PTC11', 'PTC12', 'PTC13', 'PTC14', 'PTC15', 'PTC16', 'PTC17',\n",
       "       'PTC18', 'PTC5', 'PTC7', 'PTC8', 'PTC9', 'data_point', 'recipes',\n",
       "       'autoclave', 'date', 'number', 'PTC_count'],\n",
       "      dtype='object')"
      ]
     },
     "execution_count": 17,
     "metadata": {},
     "output_type": "execute_result"
    }
   ],
   "source": [
    "all_data.columns"
   ]
  },
  {
   "cell_type": "code",
   "execution_count": 18,
   "metadata": {},
   "outputs": [],
   "source": [
    "all_data['TemParameter'] = 0"
   ]
  },
  {
   "cell_type": "code",
   "execution_count": 19,
   "metadata": {},
   "outputs": [],
   "source": [
    "G17_data = pd.DataFrame()"
   ]
  },
  {
   "cell_type": "code",
   "execution_count": 24,
   "metadata": {},
   "outputs": [],
   "source": [
    "for PTC in PTC_list:\n",
    "    data = all_data.loc[~all_data[PTC].isnull(),\n",
    "             ['number', 'date', 'autoclave', 'recipes'\n",
    "              ,'TemParameter', 'PTC_count','data_point',PTC]] #將各別 PTC 非0的數據挑出\n",
    "    data['TemParameter'] = PTC  #建立 TemParameter 對應所屬來的PTC\n",
    "    data['value'] = data[PTC]  # 賦予value值 統一\n",
    "    data.drop([PTC],inplace=True,axis = 1)\n",
    "    G17_data = pd.concat([G17_data,data])"
   ]
  },
  {
   "cell_type": "code",
   "execution_count": 25,
   "metadata": {},
   "outputs": [],
   "source": [
    "G17_data.reset_index(drop=True, inplace=True)"
   ]
  },
  {
   "cell_type": "code",
   "execution_count": 28,
   "metadata": {},
   "outputs": [
    {
     "data": {
      "text/plain": [
       "PTC15    4023\n",
       "PTC16    4012\n",
       "PTC10    4011\n",
       "PTC14    3998\n",
       "PTC13    3690\n",
       "PTC9     3382\n",
       "PTC11    3092\n",
       "PTC17    3078\n",
       "PTC12    2771\n",
       "PTC7     2420\n",
       "PTC8      953\n",
       "PTC18     947\n",
       "PTC5      305\n",
       "Name: TemParameter, dtype: int64"
      ]
     },
     "execution_count": 28,
     "metadata": {},
     "output_type": "execute_result"
    }
   ],
   "source": [
    "G17_data['TemParameter'].value_counts()"
   ]
  },
  {
   "cell_type": "code",
   "execution_count": 29,
   "metadata": {},
   "outputs": [],
   "source": [
    "G17_data.to_csv('./training_data/G17_data.csv')"
   ]
  },
  {
   "cell_type": "code",
   "execution_count": null,
   "metadata": {},
   "outputs": [],
   "source": []
  }
 ],
 "metadata": {
  "kernelspec": {
   "display_name": "Python [conda env:Anaconda3]",
   "language": "python",
   "name": "conda-env-Anaconda3-py"
  },
  "language_info": {
   "codemirror_mode": {
    "name": "ipython",
    "version": 3
   },
   "file_extension": ".py",
   "mimetype": "text/x-python",
   "name": "python",
   "nbconvert_exporter": "python",
   "pygments_lexer": "ipython3",
   "version": "3.6.6"
  }
 },
 "nbformat": 4,
 "nbformat_minor": 2
}
