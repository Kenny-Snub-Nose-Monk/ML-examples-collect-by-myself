{
 "cells": [
  {
   "cell_type": "markdown",
   "metadata": {},
   "source": [
    "## 使用SVM 對PM25做預測\n",
    "\n",
    "透過當天的PM2.5數值與溫度、濕度，來預測隔天的空氣品質好壞<br>\n",
    "好壞定義:<br>\n",
    "台灣參考世界衛生組織建議，訂定PM2.5空氣品質標準，24小時平均值為35微克/每立方公尺，所以超過35微克就算不好\n",
    "\n",
    "## 匯入所需套件\n",
    "\n",
    "1. numpy - 矩陣處理的套件\n",
    "2. seaborn - 資料視覺化套件，是 matplotlib 在封裝而成，目的是方便呼叫特殊的圖表\n",
    "3. pandas - 資料處理套件，在 numpy 基礎上加入許多常用的資料處理方法\n",
    "4. sklearn - 科學運算套件\n",
    "    - model_selection train_test_split：方便資料分割的方法\n",
    "    - svm：svm實現方法\n",
    "    - metrics：量測運算結果的方法\n",
    "\n",
    "   "
   ]
  },
  {
   "cell_type": "code",
   "execution_count": 2,
   "metadata": {},
   "outputs": [],
   "source": [
    "import pandas as pd\n",
    "import numpy as np\n",
    "import seaborn as sns\n",
    "from sklearn.model_selection import train_test_split\n",
    "from sklearn import svm\n",
    "from sklearn import metrics\n",
    "%matplotlib inline"
   ]
  },
  {
   "cell_type": "markdown",
   "metadata": {},
   "source": [
    "## 讀取資料\n",
    "\n",
    "利用 pandas 一行將 csv 料讀取進來\n",
    "\n",
    "並呈現前 5 筆資料"
   ]
  },
  {
   "cell_type": "code",
   "execution_count": 3,
   "metadata": {},
   "outputs": [],
   "source": [
    "data = pd.read_csv(\"PM25_train.csv\",encoding = \"utf8\")\n",
    "# data = _data"
   ]
  },
  {
   "cell_type": "markdown",
   "metadata": {},
   "source": [
    "資料:由許多不同感測器取得的一月份空氣品質資料\n",
    "![](https://i.imgur.com/NeDwRVt.png)"
   ]
  },
  {
   "cell_type": "markdown",
   "metadata": {},
   "source": [
    "## data clean\n",
    "查看資料有無空值及型態"
   ]
  },
  {
   "cell_type": "code",
   "execution_count": 4,
   "metadata": {},
   "outputs": [
    {
     "data": {
      "text/plain": [
       "device_id      0\n",
       "Date           0\n",
       "Time           0\n",
       "PM2.5          0\n",
       "PM10           0\n",
       "PM1            0\n",
       "Temperature    0\n",
       "Humidity       0\n",
       "lat            0\n",
       "lon            0\n",
       "dtype: int64"
      ]
     },
     "execution_count": 4,
     "metadata": {},
     "output_type": "execute_result"
    }
   ],
   "source": [
    "data.isnull().sum()"
   ]
  },
  {
   "cell_type": "markdown",
   "metadata": {},
   "source": [
    "刪除lat、lon、PM10、PM1欄位"
   ]
  },
  {
   "cell_type": "code",
   "execution_count": 5,
   "metadata": {
    "scrolled": false
   },
   "outputs": [
    {
     "data": {
      "text/html": [
       "<div>\n",
       "<style scoped>\n",
       "    .dataframe tbody tr th:only-of-type {\n",
       "        vertical-align: middle;\n",
       "    }\n",
       "\n",
       "    .dataframe tbody tr th {\n",
       "        vertical-align: top;\n",
       "    }\n",
       "\n",
       "    .dataframe thead th {\n",
       "        text-align: right;\n",
       "    }\n",
       "</style>\n",
       "<table border=\"1\" class=\"dataframe\">\n",
       "  <thead>\n",
       "    <tr style=\"text-align: right;\">\n",
       "      <th></th>\n",
       "      <th>device_id</th>\n",
       "      <th>Date</th>\n",
       "      <th>Time</th>\n",
       "      <th>PM2.5</th>\n",
       "      <th>Temperature</th>\n",
       "      <th>Humidity</th>\n",
       "    </tr>\n",
       "  </thead>\n",
       "  <tbody>\n",
       "    <tr>\n",
       "      <th>0</th>\n",
       "      <td>28C2DDDD415C</td>\n",
       "      <td>2017-01-01</td>\n",
       "      <td>08:03:09</td>\n",
       "      <td>21.0</td>\n",
       "      <td>24.12</td>\n",
       "      <td>83.0</td>\n",
       "    </tr>\n",
       "    <tr>\n",
       "      <th>1</th>\n",
       "      <td>28C2DDDD415C</td>\n",
       "      <td>2017-01-01</td>\n",
       "      <td>08:03:09</td>\n",
       "      <td>21.0</td>\n",
       "      <td>24.12</td>\n",
       "      <td>83.0</td>\n",
       "    </tr>\n",
       "    <tr>\n",
       "      <th>2</th>\n",
       "      <td>28C2DDDD415C</td>\n",
       "      <td>2017-01-01</td>\n",
       "      <td>08:03:09</td>\n",
       "      <td>21.0</td>\n",
       "      <td>24.12</td>\n",
       "      <td>83.0</td>\n",
       "    </tr>\n",
       "    <tr>\n",
       "      <th>3</th>\n",
       "      <td>28C2DDDD415C</td>\n",
       "      <td>2017-01-01</td>\n",
       "      <td>08:09:04</td>\n",
       "      <td>20.0</td>\n",
       "      <td>24.12</td>\n",
       "      <td>82.0</td>\n",
       "    </tr>\n",
       "    <tr>\n",
       "      <th>4</th>\n",
       "      <td>28C2DDDD415C</td>\n",
       "      <td>2017-01-01</td>\n",
       "      <td>08:09:04</td>\n",
       "      <td>20.0</td>\n",
       "      <td>24.12</td>\n",
       "      <td>82.0</td>\n",
       "    </tr>\n",
       "  </tbody>\n",
       "</table>\n",
       "</div>"
      ],
      "text/plain": [
       "      device_id        Date      Time  PM2.5  Temperature  Humidity\n",
       "0  28C2DDDD415C  2017-01-01  08:03:09   21.0        24.12      83.0\n",
       "1  28C2DDDD415C  2017-01-01  08:03:09   21.0        24.12      83.0\n",
       "2  28C2DDDD415C  2017-01-01  08:03:09   21.0        24.12      83.0\n",
       "3  28C2DDDD415C  2017-01-01  08:09:04   20.0        24.12      82.0\n",
       "4  28C2DDDD415C  2017-01-01  08:09:04   20.0        24.12      82.0"
      ]
     },
     "execution_count": 5,
     "metadata": {},
     "output_type": "execute_result"
    }
   ],
   "source": [
    "data = data.drop(['PM10','PM1','lat','lon'],axis=1)\n",
    "data.head()"
   ]
  },
  {
   "cell_type": "markdown",
   "metadata": {},
   "source": [
    "當天有多筆感測器資料，將所有感測器資料以id與日期為基準做平均"
   ]
  },
  {
   "cell_type": "code",
   "execution_count": 6,
   "metadata": {},
   "outputs": [
    {
     "data": {
      "text/html": [
       "<div>\n",
       "<style scoped>\n",
       "    .dataframe tbody tr th:only-of-type {\n",
       "        vertical-align: middle;\n",
       "    }\n",
       "\n",
       "    .dataframe tbody tr th {\n",
       "        vertical-align: top;\n",
       "    }\n",
       "\n",
       "    .dataframe thead th {\n",
       "        text-align: right;\n",
       "    }\n",
       "</style>\n",
       "<table border=\"1\" class=\"dataframe\">\n",
       "  <thead>\n",
       "    <tr style=\"text-align: right;\">\n",
       "      <th></th>\n",
       "      <th></th>\n",
       "      <th>PM2.5</th>\n",
       "      <th>Temperature</th>\n",
       "      <th>Humidity</th>\n",
       "    </tr>\n",
       "    <tr>\n",
       "      <th>device_id</th>\n",
       "      <th>Date</th>\n",
       "      <th></th>\n",
       "      <th></th>\n",
       "      <th></th>\n",
       "    </tr>\n",
       "  </thead>\n",
       "  <tbody>\n",
       "    <tr>\n",
       "      <th rowspan=\"3\" valign=\"top\">28C2DDDD415C</th>\n",
       "      <th>2017-01-01</th>\n",
       "      <td>17.197279</td>\n",
       "      <td>26.624762</td>\n",
       "      <td>73.476190</td>\n",
       "    </tr>\n",
       "    <tr>\n",
       "      <th>2017-01-02</th>\n",
       "      <td>33.263158</td>\n",
       "      <td>25.061421</td>\n",
       "      <td>81.178947</td>\n",
       "    </tr>\n",
       "    <tr>\n",
       "      <th>2017-01-03</th>\n",
       "      <td>27.547945</td>\n",
       "      <td>24.579315</td>\n",
       "      <td>93.993151</td>\n",
       "    </tr>\n",
       "  </tbody>\n",
       "</table>\n",
       "</div>"
      ],
      "text/plain": [
       "                             PM2.5  Temperature   Humidity\n",
       "device_id    Date                                         \n",
       "28C2DDDD415C 2017-01-01  17.197279    26.624762  73.476190\n",
       "             2017-01-02  33.263158    25.061421  81.178947\n",
       "             2017-01-03  27.547945    24.579315  93.993151"
      ]
     },
     "execution_count": 6,
     "metadata": {},
     "output_type": "execute_result"
    }
   ],
   "source": [
    "mean_data = data.groupby(['device_id','Date']).mean()\n",
    "mean_data.head(3)"
   ]
  },
  {
   "cell_type": "markdown",
   "metadata": {},
   "source": [
    "增加quality 欄位，以隔天PM2.5數值是否超過為基準分為兩類"
   ]
  },
  {
   "cell_type": "code",
   "execution_count": 15,
   "metadata": {},
   "outputs": [
    {
     "data": {
      "text/html": [
       "<div>\n",
       "<style scoped>\n",
       "    .dataframe tbody tr th:only-of-type {\n",
       "        vertical-align: middle;\n",
       "    }\n",
       "\n",
       "    .dataframe tbody tr th {\n",
       "        vertical-align: top;\n",
       "    }\n",
       "\n",
       "    .dataframe thead th {\n",
       "        text-align: right;\n",
       "    }\n",
       "</style>\n",
       "<table border=\"1\" class=\"dataframe\">\n",
       "  <thead>\n",
       "    <tr style=\"text-align: right;\">\n",
       "      <th></th>\n",
       "      <th></th>\n",
       "      <th>PM2.5</th>\n",
       "      <th>Temperature</th>\n",
       "      <th>Humidity</th>\n",
       "      <th>quality</th>\n",
       "    </tr>\n",
       "    <tr>\n",
       "      <th>device_id</th>\n",
       "      <th>Date</th>\n",
       "      <th></th>\n",
       "      <th></th>\n",
       "      <th></th>\n",
       "      <th></th>\n",
       "    </tr>\n",
       "  </thead>\n",
       "  <tbody>\n",
       "    <tr>\n",
       "      <th rowspan=\"5\" valign=\"top\">28C2DDDD415C</th>\n",
       "      <th>2017-01-01</th>\n",
       "      <td>17.197279</td>\n",
       "      <td>26.624762</td>\n",
       "      <td>73.476190</td>\n",
       "      <td>0.0</td>\n",
       "    </tr>\n",
       "    <tr>\n",
       "      <th>2017-01-02</th>\n",
       "      <td>33.263158</td>\n",
       "      <td>25.061421</td>\n",
       "      <td>81.178947</td>\n",
       "      <td>0.0</td>\n",
       "    </tr>\n",
       "    <tr>\n",
       "      <th>2017-01-03</th>\n",
       "      <td>27.547945</td>\n",
       "      <td>24.579315</td>\n",
       "      <td>93.993151</td>\n",
       "      <td>0.0</td>\n",
       "    </tr>\n",
       "    <tr>\n",
       "      <th>2017-01-04</th>\n",
       "      <td>17.487310</td>\n",
       "      <td>26.476548</td>\n",
       "      <td>85.685279</td>\n",
       "      <td>1.0</td>\n",
       "    </tr>\n",
       "    <tr>\n",
       "      <th>2017-01-05</th>\n",
       "      <td>53.893401</td>\n",
       "      <td>26.106142</td>\n",
       "      <td>83.796954</td>\n",
       "      <td>1.0</td>\n",
       "    </tr>\n",
       "  </tbody>\n",
       "</table>\n",
       "</div>"
      ],
      "text/plain": [
       "                             PM2.5  Temperature   Humidity  quality\n",
       "device_id    Date                                                  \n",
       "28C2DDDD415C 2017-01-01  17.197279    26.624762  73.476190      0.0\n",
       "             2017-01-02  33.263158    25.061421  81.178947      0.0\n",
       "             2017-01-03  27.547945    24.579315  93.993151      0.0\n",
       "             2017-01-04  17.487310    26.476548  85.685279      1.0\n",
       "             2017-01-05  53.893401    26.106142  83.796954      1.0"
      ]
     },
     "execution_count": 15,
     "metadata": {},
     "output_type": "execute_result"
    }
   ],
   "source": [
    "def is_bad(x):\n",
    "    if x >= 35:\n",
    "        return 1\n",
    "    else:\n",
    "        return 0\n",
    "mean_data['quality']= mean_data['PM2.5'].apply(is_bad)\n",
    "\n",
    "'''\n",
    "上面的 code 可以拆解以下 3 個步驟\n",
    "\n",
    "1. mean_data['PM2.5'].apply(func)\n",
    "\n",
    "針對 mean_data 中 PM2.5 的欄位的每個值，apply 一個 function\n",
    "\n",
    "2. 定義好一個檢查帶進去的參數是否 >= 35 的 function\n",
    "\n",
    "3. 把 1+2 的結果，在 mean_data 中新增新的欄位 quality 放入\n",
    "\n",
    "理論上，利用 for 迴圈 + IF 判斷式 一個一個跑，也是有一樣的結果\n",
    "\n",
    "'''\n",
    "\n",
    "mean_data['quality'] = mean_data[\"quality\"].shift(-1) # quality 的值上移一格\n",
    "\n",
    "'''\n",
    "因為目標是要預測 \"明天\" 的空氣品質，所以把剛剛計算完的值往前移一天\n",
    "'''\n",
    "\n",
    "mean_data.head()"
   ]
  },
  {
   "cell_type": "markdown",
   "metadata": {},
   "source": [
    "上一步操作中，會將索引(index)變成文字型態(因為把資料 group 過了)\n",
    "\n",
    "為了方便之後操作，將索引還原回去數字型態"
   ]
  },
  {
   "cell_type": "code",
   "execution_count": 9,
   "metadata": {},
   "outputs": [
    {
     "data": {
      "text/html": [
       "<div>\n",
       "<style scoped>\n",
       "    .dataframe tbody tr th:only-of-type {\n",
       "        vertical-align: middle;\n",
       "    }\n",
       "\n",
       "    .dataframe tbody tr th {\n",
       "        vertical-align: top;\n",
       "    }\n",
       "\n",
       "    .dataframe thead th {\n",
       "        text-align: right;\n",
       "    }\n",
       "</style>\n",
       "<table border=\"1\" class=\"dataframe\">\n",
       "  <thead>\n",
       "    <tr style=\"text-align: right;\">\n",
       "      <th></th>\n",
       "      <th>device_id</th>\n",
       "      <th>Date</th>\n",
       "      <th>PM2.5</th>\n",
       "      <th>Temperature</th>\n",
       "      <th>Humidity</th>\n",
       "      <th>quality</th>\n",
       "    </tr>\n",
       "  </thead>\n",
       "  <tbody>\n",
       "    <tr>\n",
       "      <th>0</th>\n",
       "      <td>28C2DDDD415C</td>\n",
       "      <td>2017-01-01</td>\n",
       "      <td>17.197279</td>\n",
       "      <td>26.624762</td>\n",
       "      <td>73.476190</td>\n",
       "      <td>0.0</td>\n",
       "    </tr>\n",
       "    <tr>\n",
       "      <th>1</th>\n",
       "      <td>28C2DDDD415C</td>\n",
       "      <td>2017-01-02</td>\n",
       "      <td>33.263158</td>\n",
       "      <td>25.061421</td>\n",
       "      <td>81.178947</td>\n",
       "      <td>0.0</td>\n",
       "    </tr>\n",
       "    <tr>\n",
       "      <th>2</th>\n",
       "      <td>28C2DDDD415C</td>\n",
       "      <td>2017-01-03</td>\n",
       "      <td>27.547945</td>\n",
       "      <td>24.579315</td>\n",
       "      <td>93.993151</td>\n",
       "      <td>0.0</td>\n",
       "    </tr>\n",
       "    <tr>\n",
       "      <th>3</th>\n",
       "      <td>28C2DDDD415C</td>\n",
       "      <td>2017-01-04</td>\n",
       "      <td>17.487310</td>\n",
       "      <td>26.476548</td>\n",
       "      <td>85.685279</td>\n",
       "      <td>1.0</td>\n",
       "    </tr>\n",
       "    <tr>\n",
       "      <th>4</th>\n",
       "      <td>28C2DDDD415C</td>\n",
       "      <td>2017-01-05</td>\n",
       "      <td>53.893401</td>\n",
       "      <td>26.106142</td>\n",
       "      <td>83.796954</td>\n",
       "      <td>1.0</td>\n",
       "    </tr>\n",
       "  </tbody>\n",
       "</table>\n",
       "</div>"
      ],
      "text/plain": [
       "      device_id        Date      PM2.5  Temperature   Humidity  quality\n",
       "0  28C2DDDD415C  2017-01-01  17.197279    26.624762  73.476190      0.0\n",
       "1  28C2DDDD415C  2017-01-02  33.263158    25.061421  81.178947      0.0\n",
       "2  28C2DDDD415C  2017-01-03  27.547945    24.579315  93.993151      0.0\n",
       "3  28C2DDDD415C  2017-01-04  17.487310    26.476548  85.685279      1.0\n",
       "4  28C2DDDD415C  2017-01-05  53.893401    26.106142  83.796954      1.0"
      ]
     },
     "execution_count": 9,
     "metadata": {},
     "output_type": "execute_result"
    }
   ],
   "source": [
    "data=mean_data.reset_index(inplace=False)\n",
    "data.head()"
   ]
  },
  {
   "cell_type": "markdown",
   "metadata": {},
   "source": [
    "刪除1/30的資料，因為沒有31號的結果"
   ]
  },
  {
   "cell_type": "code",
   "execution_count": 10,
   "metadata": {},
   "outputs": [],
   "source": [
    "data= data[data.Date != \"2017-01-30\"]"
   ]
  },
  {
   "cell_type": "code",
   "execution_count": 12,
   "metadata": {},
   "outputs": [
    {
     "data": {
      "text/html": [
       "<div>\n",
       "<style scoped>\n",
       "    .dataframe tbody tr th:only-of-type {\n",
       "        vertical-align: middle;\n",
       "    }\n",
       "\n",
       "    .dataframe tbody tr th {\n",
       "        vertical-align: top;\n",
       "    }\n",
       "\n",
       "    .dataframe thead th {\n",
       "        text-align: right;\n",
       "    }\n",
       "</style>\n",
       "<table border=\"1\" class=\"dataframe\">\n",
       "  <thead>\n",
       "    <tr style=\"text-align: right;\">\n",
       "      <th></th>\n",
       "      <th>device_id</th>\n",
       "      <th>Date</th>\n",
       "      <th>PM2.5</th>\n",
       "      <th>Temperature</th>\n",
       "      <th>Humidity</th>\n",
       "      <th>quality</th>\n",
       "    </tr>\n",
       "  </thead>\n",
       "  <tbody>\n",
       "    <tr>\n",
       "      <th>0</th>\n",
       "      <td>28C2DDDD415C</td>\n",
       "      <td>2017-01-01</td>\n",
       "      <td>17.197279</td>\n",
       "      <td>26.624762</td>\n",
       "      <td>73.476190</td>\n",
       "      <td>0.0</td>\n",
       "    </tr>\n",
       "    <tr>\n",
       "      <th>1</th>\n",
       "      <td>28C2DDDD415C</td>\n",
       "      <td>2017-01-02</td>\n",
       "      <td>33.263158</td>\n",
       "      <td>25.061421</td>\n",
       "      <td>81.178947</td>\n",
       "      <td>0.0</td>\n",
       "    </tr>\n",
       "    <tr>\n",
       "      <th>2</th>\n",
       "      <td>28C2DDDD415C</td>\n",
       "      <td>2017-01-03</td>\n",
       "      <td>27.547945</td>\n",
       "      <td>24.579315</td>\n",
       "      <td>93.993151</td>\n",
       "      <td>0.0</td>\n",
       "    </tr>\n",
       "    <tr>\n",
       "      <th>3</th>\n",
       "      <td>28C2DDDD415C</td>\n",
       "      <td>2017-01-04</td>\n",
       "      <td>17.487310</td>\n",
       "      <td>26.476548</td>\n",
       "      <td>85.685279</td>\n",
       "      <td>1.0</td>\n",
       "    </tr>\n",
       "    <tr>\n",
       "      <th>4</th>\n",
       "      <td>28C2DDDD415C</td>\n",
       "      <td>2017-01-05</td>\n",
       "      <td>53.893401</td>\n",
       "      <td>26.106142</td>\n",
       "      <td>83.796954</td>\n",
       "      <td>1.0</td>\n",
       "    </tr>\n",
       "    <tr>\n",
       "      <th>5</th>\n",
       "      <td>28C2DDDD415C</td>\n",
       "      <td>2017-01-06</td>\n",
       "      <td>55.308989</td>\n",
       "      <td>26.390674</td>\n",
       "      <td>87.320225</td>\n",
       "      <td>1.0</td>\n",
       "    </tr>\n",
       "    <tr>\n",
       "      <th>6</th>\n",
       "      <td>28C2DDDD415C</td>\n",
       "      <td>2017-01-07</td>\n",
       "      <td>46.329843</td>\n",
       "      <td>26.400733</td>\n",
       "      <td>90.366492</td>\n",
       "      <td>0.0</td>\n",
       "    </tr>\n",
       "    <tr>\n",
       "      <th>7</th>\n",
       "      <td>28C2DDDD415C</td>\n",
       "      <td>2017-01-08</td>\n",
       "      <td>31.641975</td>\n",
       "      <td>23.772346</td>\n",
       "      <td>85.283951</td>\n",
       "      <td>1.0</td>\n",
       "    </tr>\n",
       "    <tr>\n",
       "      <th>8</th>\n",
       "      <td>28C2DDDD415C</td>\n",
       "      <td>2017-01-09</td>\n",
       "      <td>42.386935</td>\n",
       "      <td>22.189397</td>\n",
       "      <td>76.391960</td>\n",
       "      <td>1.0</td>\n",
       "    </tr>\n",
       "    <tr>\n",
       "      <th>9</th>\n",
       "      <td>28C2DDDD415C</td>\n",
       "      <td>2017-01-10</td>\n",
       "      <td>46.429319</td>\n",
       "      <td>22.862408</td>\n",
       "      <td>70.109948</td>\n",
       "      <td>1.0</td>\n",
       "    </tr>\n",
       "    <tr>\n",
       "      <th>10</th>\n",
       "      <td>28C2DDDD415C</td>\n",
       "      <td>2017-01-11</td>\n",
       "      <td>44.338624</td>\n",
       "      <td>23.358148</td>\n",
       "      <td>81.264550</td>\n",
       "      <td>0.0</td>\n",
       "    </tr>\n",
       "    <tr>\n",
       "      <th>11</th>\n",
       "      <td>28C2DDDD415C</td>\n",
       "      <td>2017-01-12</td>\n",
       "      <td>28.870056</td>\n",
       "      <td>23.908249</td>\n",
       "      <td>90.768362</td>\n",
       "      <td>0.0</td>\n",
       "    </tr>\n",
       "    <tr>\n",
       "      <th>12</th>\n",
       "      <td>28C2DDDD415C</td>\n",
       "      <td>2017-01-13</td>\n",
       "      <td>25.604396</td>\n",
       "      <td>20.482857</td>\n",
       "      <td>91.538462</td>\n",
       "      <td>1.0</td>\n",
       "    </tr>\n",
       "    <tr>\n",
       "      <th>13</th>\n",
       "      <td>28C2DDDD415C</td>\n",
       "      <td>2017-01-14</td>\n",
       "      <td>55.438776</td>\n",
       "      <td>18.279643</td>\n",
       "      <td>89.392857</td>\n",
       "      <td>0.0</td>\n",
       "    </tr>\n",
       "    <tr>\n",
       "      <th>14</th>\n",
       "      <td>28C2DDDD415C</td>\n",
       "      <td>2017-01-15</td>\n",
       "      <td>20.508197</td>\n",
       "      <td>18.327541</td>\n",
       "      <td>87.956284</td>\n",
       "      <td>0.0</td>\n",
       "    </tr>\n",
       "    <tr>\n",
       "      <th>15</th>\n",
       "      <td>28C2DDDD415C</td>\n",
       "      <td>2017-01-16</td>\n",
       "      <td>19.450549</td>\n",
       "      <td>19.060055</td>\n",
       "      <td>86.038462</td>\n",
       "      <td>0.0</td>\n",
       "    </tr>\n",
       "    <tr>\n",
       "      <th>16</th>\n",
       "      <td>28C2DDDD415C</td>\n",
       "      <td>2017-01-17</td>\n",
       "      <td>17.203980</td>\n",
       "      <td>22.414876</td>\n",
       "      <td>80.661692</td>\n",
       "      <td>0.0</td>\n",
       "    </tr>\n",
       "    <tr>\n",
       "      <th>17</th>\n",
       "      <td>28C2DDDD415C</td>\n",
       "      <td>2017-01-18</td>\n",
       "      <td>34.139175</td>\n",
       "      <td>23.606392</td>\n",
       "      <td>88.541237</td>\n",
       "      <td>0.0</td>\n",
       "    </tr>\n",
       "    <tr>\n",
       "      <th>18</th>\n",
       "      <td>28C2DDDD415C</td>\n",
       "      <td>2017-01-19</td>\n",
       "      <td>24.348259</td>\n",
       "      <td>23.164627</td>\n",
       "      <td>90.472637</td>\n",
       "      <td>0.0</td>\n",
       "    </tr>\n",
       "    <tr>\n",
       "      <th>19</th>\n",
       "      <td>28C2DDDD415C</td>\n",
       "      <td>2017-01-20</td>\n",
       "      <td>33.497297</td>\n",
       "      <td>18.844757</td>\n",
       "      <td>78.897297</td>\n",
       "      <td>0.0</td>\n",
       "    </tr>\n",
       "    <tr>\n",
       "      <th>20</th>\n",
       "      <td>28C2DDDD415C</td>\n",
       "      <td>2017-01-21</td>\n",
       "      <td>31.108911</td>\n",
       "      <td>18.556238</td>\n",
       "      <td>72.257426</td>\n",
       "      <td>1.0</td>\n",
       "    </tr>\n",
       "    <tr>\n",
       "      <th>21</th>\n",
       "      <td>28C2DDDD415C</td>\n",
       "      <td>2017-01-22</td>\n",
       "      <td>36.850467</td>\n",
       "      <td>18.977336</td>\n",
       "      <td>62.546729</td>\n",
       "      <td>1.0</td>\n",
       "    </tr>\n",
       "    <tr>\n",
       "      <th>22</th>\n",
       "      <td>28C2DDDD415C</td>\n",
       "      <td>2017-01-23</td>\n",
       "      <td>40.260000</td>\n",
       "      <td>18.541950</td>\n",
       "      <td>64.275000</td>\n",
       "      <td>0.0</td>\n",
       "    </tr>\n",
       "    <tr>\n",
       "      <th>23</th>\n",
       "      <td>28C2DDDD415C</td>\n",
       "      <td>2017-01-24</td>\n",
       "      <td>27.327189</td>\n",
       "      <td>18.432673</td>\n",
       "      <td>80.520737</td>\n",
       "      <td>0.0</td>\n",
       "    </tr>\n",
       "    <tr>\n",
       "      <th>24</th>\n",
       "      <td>28C2DDDD415C</td>\n",
       "      <td>2017-01-25</td>\n",
       "      <td>28.875598</td>\n",
       "      <td>19.180287</td>\n",
       "      <td>83.966507</td>\n",
       "      <td>0.0</td>\n",
       "    </tr>\n",
       "    <tr>\n",
       "      <th>25</th>\n",
       "      <td>28C2DDDD415C</td>\n",
       "      <td>2017-01-26</td>\n",
       "      <td>33.240741</td>\n",
       "      <td>20.011157</td>\n",
       "      <td>74.282407</td>\n",
       "      <td>0.0</td>\n",
       "    </tr>\n",
       "    <tr>\n",
       "      <th>26</th>\n",
       "      <td>28C2DDDD415C</td>\n",
       "      <td>2017-01-27</td>\n",
       "      <td>27.185520</td>\n",
       "      <td>21.839864</td>\n",
       "      <td>78.737557</td>\n",
       "      <td>0.0</td>\n",
       "    </tr>\n",
       "    <tr>\n",
       "      <th>27</th>\n",
       "      <td>28C2DDDD415C</td>\n",
       "      <td>2017-01-28</td>\n",
       "      <td>25.802691</td>\n",
       "      <td>23.388834</td>\n",
       "      <td>86.394619</td>\n",
       "      <td>1.0</td>\n",
       "    </tr>\n",
       "    <tr>\n",
       "      <th>28</th>\n",
       "      <td>28C2DDDD415C</td>\n",
       "      <td>2017-01-29</td>\n",
       "      <td>52.902655</td>\n",
       "      <td>24.250310</td>\n",
       "      <td>84.292035</td>\n",
       "      <td>1.0</td>\n",
       "    </tr>\n",
       "    <tr>\n",
       "      <th>30</th>\n",
       "      <td>28C2DDDD47BC</td>\n",
       "      <td>2017-01-01</td>\n",
       "      <td>49.162791</td>\n",
       "      <td>23.214574</td>\n",
       "      <td>94.658915</td>\n",
       "      <td>1.0</td>\n",
       "    </tr>\n",
       "  </tbody>\n",
       "</table>\n",
       "</div>"
      ],
      "text/plain": [
       "       device_id        Date      PM2.5  Temperature   Humidity  quality\n",
       "0   28C2DDDD415C  2017-01-01  17.197279    26.624762  73.476190      0.0\n",
       "1   28C2DDDD415C  2017-01-02  33.263158    25.061421  81.178947      0.0\n",
       "2   28C2DDDD415C  2017-01-03  27.547945    24.579315  93.993151      0.0\n",
       "3   28C2DDDD415C  2017-01-04  17.487310    26.476548  85.685279      1.0\n",
       "4   28C2DDDD415C  2017-01-05  53.893401    26.106142  83.796954      1.0\n",
       "5   28C2DDDD415C  2017-01-06  55.308989    26.390674  87.320225      1.0\n",
       "6   28C2DDDD415C  2017-01-07  46.329843    26.400733  90.366492      0.0\n",
       "7   28C2DDDD415C  2017-01-08  31.641975    23.772346  85.283951      1.0\n",
       "8   28C2DDDD415C  2017-01-09  42.386935    22.189397  76.391960      1.0\n",
       "9   28C2DDDD415C  2017-01-10  46.429319    22.862408  70.109948      1.0\n",
       "10  28C2DDDD415C  2017-01-11  44.338624    23.358148  81.264550      0.0\n",
       "11  28C2DDDD415C  2017-01-12  28.870056    23.908249  90.768362      0.0\n",
       "12  28C2DDDD415C  2017-01-13  25.604396    20.482857  91.538462      1.0\n",
       "13  28C2DDDD415C  2017-01-14  55.438776    18.279643  89.392857      0.0\n",
       "14  28C2DDDD415C  2017-01-15  20.508197    18.327541  87.956284      0.0\n",
       "15  28C2DDDD415C  2017-01-16  19.450549    19.060055  86.038462      0.0\n",
       "16  28C2DDDD415C  2017-01-17  17.203980    22.414876  80.661692      0.0\n",
       "17  28C2DDDD415C  2017-01-18  34.139175    23.606392  88.541237      0.0\n",
       "18  28C2DDDD415C  2017-01-19  24.348259    23.164627  90.472637      0.0\n",
       "19  28C2DDDD415C  2017-01-20  33.497297    18.844757  78.897297      0.0\n",
       "20  28C2DDDD415C  2017-01-21  31.108911    18.556238  72.257426      1.0\n",
       "21  28C2DDDD415C  2017-01-22  36.850467    18.977336  62.546729      1.0\n",
       "22  28C2DDDD415C  2017-01-23  40.260000    18.541950  64.275000      0.0\n",
       "23  28C2DDDD415C  2017-01-24  27.327189    18.432673  80.520737      0.0\n",
       "24  28C2DDDD415C  2017-01-25  28.875598    19.180287  83.966507      0.0\n",
       "25  28C2DDDD415C  2017-01-26  33.240741    20.011157  74.282407      0.0\n",
       "26  28C2DDDD415C  2017-01-27  27.185520    21.839864  78.737557      0.0\n",
       "27  28C2DDDD415C  2017-01-28  25.802691    23.388834  86.394619      1.0\n",
       "28  28C2DDDD415C  2017-01-29  52.902655    24.250310  84.292035      1.0\n",
       "30  28C2DDDD47BC  2017-01-01  49.162791    23.214574  94.658915      1.0"
      ]
     },
     "execution_count": 12,
     "metadata": {},
     "output_type": "execute_result"
    }
   ],
   "source": [
    "data.head(30)"
   ]
  },
  {
   "cell_type": "markdown",
   "metadata": {},
   "source": [
    "確認目標分布均勻"
   ]
  },
  {
   "cell_type": "code",
   "execution_count": 13,
   "metadata": {},
   "outputs": [
    {
     "data": {
      "text/plain": [
       "<matplotlib.axes._subplots.AxesSubplot at 0x1eb545c32e8>"
      ]
     },
     "execution_count": 13,
     "metadata": {},
     "output_type": "execute_result"
    },
    {
     "data": {
      "image/png": "[encoded data removed]",
      "text/plain": [
       "<Figure size 432x288 with 1 Axes>"
      ]
     },
     "metadata": {
      "needs_background": "light"
     },
     "output_type": "display_data"
    }
   ],
   "source": [
    "sns.distplot(data['quality'],kde=False)\n"
   ]
  },
  {
   "cell_type": "markdown",
   "metadata": {},
   "source": [
    "## 訓練/測試資料分群\n",
    "\n",
    "\n",
    "以8:2分訓練與測試資料<br>\n",
    "\n",
    "訓練資料為PM2.5、Temperature、Humidity<br>\n",
    "\n",
    "目標為預測隔天PM2.5是好是壞"
   ]
  },
  {
   "cell_type": "code",
   "execution_count": 16,
   "metadata": {},
   "outputs": [],
   "source": [
    "\n",
    "X = data[['PM2.5','Temperature','Humidity']]\n",
    "Y = data[['quality']]\n",
    "\n",
    "X_train, X_test, y_train, y_test = train_test_split(X, \n",
    "                                                    Y, \n",
    "                                                    test_size = 0.2, \n",
    "                                                    random_state = 0)"
   ]
  },
  {
   "cell_type": "markdown",
   "metadata": {},
   "source": [
    "## 創建 model\n",
    "訓練 SVM模型\n"
   ]
  },
  {
   "cell_type": "code",
   "execution_count": 17,
   "metadata": {
    "scrolled": false
   },
   "outputs": [
    {
     "name": "stderr",
     "output_type": "stream",
     "text": [
      "c:\\users\\admin\\appdata\\local\\programs\\python\\python36\\lib\\site-packages\\sklearn\\utils\\validation.py:761: DataConversionWarning: A column-vector y was passed when a 1d array was expected. Please change the shape of y to (n_samples, ), for example using ravel().\n",
      "  y = column_or_1d(y, warn=True)\n",
      "c:\\users\\admin\\appdata\\local\\programs\\python\\python36\\lib\\site-packages\\sklearn\\svm\\base.py:196: FutureWarning: The default value of gamma will change from 'auto' to 'scale' in version 0.22 to account better for unscaled features. Set gamma explicitly to 'auto' or 'scale' to avoid this warning.\n",
      "  \"avoid this warning.\", FutureWarning)\n"
     ]
    },
    {
     "data": {
      "text/plain": [
       "SVC(C=1.0, cache_size=200, class_weight=None, coef0=0.0,\n",
       "  decision_function_shape='ovr', degree=3, gamma='auto_deprecated',\n",
       "  kernel='rbf', max_iter=-1, probability=False, random_state=None,\n",
       "  shrinking=True, tol=0.001, verbose=False)"
      ]
     },
     "execution_count": 17,
     "metadata": {},
     "output_type": "execute_result"
    }
   ],
   "source": [
    "svm_model = svm.SVC()\n",
    "svm_model.fit(X_train, y_train)"
   ]
  },
  {
   "cell_type": "markdown",
   "metadata": {},
   "source": [
    "## 測試資料進行預測"
   ]
  },
  {
   "cell_type": "code",
   "execution_count": 18,
   "metadata": {},
   "outputs": [],
   "source": [
    "pred = svm_model.predict(X_test)"
   ]
  },
  {
   "cell_type": "markdown",
   "metadata": {},
   "source": [
    "模型準確率"
   ]
  },
  {
   "cell_type": "code",
   "execution_count": 19,
   "metadata": {},
   "outputs": [
    {
     "name": "stdout",
     "output_type": "stream",
     "text": [
      "accuracy:0.72\n"
     ]
    }
   ],
   "source": [
    "print(\"accuracy:%.2f\"% metrics.accuracy_score(y_test, pred))"
   ]
  },
  {
   "cell_type": "markdown",
   "metadata": {},
   "source": [
    "統計出混淆矩陣\n",
    "\n",
    "混淆矩陣可以讓我們知道預測的結果中誤判的情形\n",
    "\n",
    "套回 pandas 增加資料可讀性"
   ]
  },
  {
   "cell_type": "code",
   "execution_count": 20,
   "metadata": {},
   "outputs": [
    {
     "data": {
      "text/plain": [
       "<matplotlib.axes._subplots.AxesSubplot at 0x1eb546967b8>"
      ]
     },
     "execution_count": 20,
     "metadata": {},
     "output_type": "execute_result"
    },
    {
     "data": {
      "image/png": "[encoded data removed]",
      "text/plain": [
       "<Figure size 432x288 with 2 Axes>"
      ]
     },
     "metadata": {
      "needs_background": "light"
     },
     "output_type": "display_data"
    }
   ],
   "source": [
    "SVM_confusion_matrix = metrics.confusion_matrix(np.asarray(y_test), pred)\n",
    "cm =pd.DataFrame(SVM_confusion_matrix , index = ['0', '1',], columns = ['0', '1'])\n",
    "sns.heatmap(cm, annot = True ,cmap=\"RdBu_r\")  "
   ]
  },
  {
   "cell_type": "markdown",
   "metadata": {},
   "source": [
    "## 選擇不同的特徵做訓練\n",
    "上面只簡單取PM2.5與溫溼度做訓練，如果再增加其他的特徵可能會讓模型有更好的效果"
   ]
  },
  {
   "cell_type": "markdown",
   "metadata": {},
   "source": [
    "## 增加經緯度資料訓練"
   ]
  },
  {
   "cell_type": "code",
   "execution_count": 21,
   "metadata": {},
   "outputs": [
    {
     "ename": "NameError",
     "evalue": "name 'fun' is not defined",
     "output_type": "error",
     "traceback": [
      "\u001b[1;31m---------------------------------------------------------------------------\u001b[0m",
      "\u001b[1;31mNameError\u001b[0m                                 Traceback (most recent call last)",
      "\u001b[1;32m<ipython-input-21-2149cc9a7c21>\u001b[0m in \u001b[0;36m<module>\u001b[1;34m\u001b[0m\n\u001b[0;32m      1\u001b[0m \u001b[0mdata\u001b[0m \u001b[1;33m=\u001b[0m \u001b[0mpd\u001b[0m\u001b[1;33m.\u001b[0m\u001b[0mread_csv\u001b[0m\u001b[1;33m(\u001b[0m\u001b[1;34m\"PM25_train.csv\"\u001b[0m\u001b[1;33m,\u001b[0m\u001b[0mencoding\u001b[0m \u001b[1;33m=\u001b[0m \u001b[1;34m\"utf8\"\u001b[0m\u001b[1;33m)\u001b[0m\u001b[1;33m\u001b[0m\u001b[1;33m\u001b[0m\u001b[0m\n\u001b[0;32m      2\u001b[0m \u001b[0mmean_data\u001b[0m \u001b[1;33m=\u001b[0m \u001b[0mdata\u001b[0m\u001b[1;33m.\u001b[0m\u001b[0mgroupby\u001b[0m\u001b[1;33m(\u001b[0m\u001b[1;33m[\u001b[0m\u001b[1;34m'device_id'\u001b[0m\u001b[1;33m,\u001b[0m\u001b[1;34m'Date'\u001b[0m\u001b[1;33m]\u001b[0m\u001b[1;33m)\u001b[0m\u001b[1;33m.\u001b[0m\u001b[0mmean\u001b[0m\u001b[1;33m(\u001b[0m\u001b[1;33m)\u001b[0m\u001b[1;33m\u001b[0m\u001b[1;33m\u001b[0m\u001b[0m\n\u001b[1;32m----> 3\u001b[1;33m \u001b[0mmean_data\u001b[0m\u001b[1;33m[\u001b[0m\u001b[1;34m'quality'\u001b[0m\u001b[1;33m]\u001b[0m\u001b[1;33m=\u001b[0m \u001b[0mmean_data\u001b[0m\u001b[1;33m[\u001b[0m\u001b[1;34m'PM2.5'\u001b[0m\u001b[1;33m]\u001b[0m\u001b[1;33m.\u001b[0m\u001b[0mapply\u001b[0m\u001b[1;33m(\u001b[0m\u001b[1;32mlambda\u001b[0m \u001b[0mx\u001b[0m\u001b[1;33m:\u001b[0m \u001b[0mfun\u001b[0m\u001b[1;33m(\u001b[0m\u001b[0mx\u001b[0m\u001b[1;33m)\u001b[0m\u001b[1;33m)\u001b[0m\u001b[1;33m\u001b[0m\u001b[1;33m\u001b[0m\u001b[0m\n\u001b[0m\u001b[0;32m      4\u001b[0m \u001b[0mmean_data\u001b[0m\u001b[1;33m[\u001b[0m\u001b[1;34m'quality'\u001b[0m\u001b[1;33m]\u001b[0m \u001b[1;33m=\u001b[0m \u001b[0mmean_data\u001b[0m\u001b[1;33m[\u001b[0m\u001b[1;34m\"quality\"\u001b[0m\u001b[1;33m]\u001b[0m\u001b[1;33m.\u001b[0m\u001b[0mshift\u001b[0m\u001b[1;33m(\u001b[0m\u001b[1;33m-\u001b[0m\u001b[1;36m1\u001b[0m\u001b[1;33m)\u001b[0m\u001b[1;33m\u001b[0m\u001b[1;33m\u001b[0m\u001b[0m\n\u001b[0;32m      5\u001b[0m \u001b[0mdata\u001b[0m\u001b[1;33m=\u001b[0m\u001b[0mmean_data\u001b[0m\u001b[1;33m.\u001b[0m\u001b[0mreset_index\u001b[0m\u001b[1;33m(\u001b[0m\u001b[0minplace\u001b[0m\u001b[1;33m=\u001b[0m\u001b[1;32mFalse\u001b[0m\u001b[1;33m)\u001b[0m\u001b[1;33m\u001b[0m\u001b[1;33m\u001b[0m\u001b[0m\n",
      "\u001b[1;32mc:\\users\\admin\\appdata\\local\\programs\\python\\python36\\lib\\site-packages\\pandas\\core\\series.py\u001b[0m in \u001b[0;36mapply\u001b[1;34m(self, func, convert_dtype, args, **kwds)\u001b[0m\n\u001b[0;32m   3192\u001b[0m             \u001b[1;32melse\u001b[0m\u001b[1;33m:\u001b[0m\u001b[1;33m\u001b[0m\u001b[1;33m\u001b[0m\u001b[0m\n\u001b[0;32m   3193\u001b[0m                 \u001b[0mvalues\u001b[0m \u001b[1;33m=\u001b[0m \u001b[0mself\u001b[0m\u001b[1;33m.\u001b[0m\u001b[0mastype\u001b[0m\u001b[1;33m(\u001b[0m\u001b[0mobject\u001b[0m\u001b[1;33m)\u001b[0m\u001b[1;33m.\u001b[0m\u001b[0mvalues\u001b[0m\u001b[1;33m\u001b[0m\u001b[1;33m\u001b[0m\u001b[0m\n\u001b[1;32m-> 3194\u001b[1;33m                 \u001b[0mmapped\u001b[0m \u001b[1;33m=\u001b[0m \u001b[0mlib\u001b[0m\u001b[1;33m.\u001b[0m\u001b[0mmap_infer\u001b[0m\u001b[1;33m(\u001b[0m\u001b[0mvalues\u001b[0m\u001b[1;33m,\u001b[0m \u001b[0mf\u001b[0m\u001b[1;33m,\u001b[0m \u001b[0mconvert\u001b[0m\u001b[1;33m=\u001b[0m\u001b[0mconvert_dtype\u001b[0m\u001b[1;33m)\u001b[0m\u001b[1;33m\u001b[0m\u001b[1;33m\u001b[0m\u001b[0m\n\u001b[0m\u001b[0;32m   3195\u001b[0m \u001b[1;33m\u001b[0m\u001b[0m\n\u001b[0;32m   3196\u001b[0m         \u001b[1;32mif\u001b[0m \u001b[0mlen\u001b[0m\u001b[1;33m(\u001b[0m\u001b[0mmapped\u001b[0m\u001b[1;33m)\u001b[0m \u001b[1;32mand\u001b[0m \u001b[0misinstance\u001b[0m\u001b[1;33m(\u001b[0m\u001b[0mmapped\u001b[0m\u001b[1;33m[\u001b[0m\u001b[1;36m0\u001b[0m\u001b[1;33m]\u001b[0m\u001b[1;33m,\u001b[0m \u001b[0mSeries\u001b[0m\u001b[1;33m)\u001b[0m\u001b[1;33m:\u001b[0m\u001b[1;33m\u001b[0m\u001b[1;33m\u001b[0m\u001b[0m\n",
      "\u001b[1;32mpandas/_libs/src\\inference.pyx\u001b[0m in \u001b[0;36mpandas._libs.lib.map_infer\u001b[1;34m()\u001b[0m\n",
      "\u001b[1;32m<ipython-input-21-2149cc9a7c21>\u001b[0m in \u001b[0;36m<lambda>\u001b[1;34m(x)\u001b[0m\n\u001b[0;32m      1\u001b[0m \u001b[0mdata\u001b[0m \u001b[1;33m=\u001b[0m \u001b[0mpd\u001b[0m\u001b[1;33m.\u001b[0m\u001b[0mread_csv\u001b[0m\u001b[1;33m(\u001b[0m\u001b[1;34m\"PM25_train.csv\"\u001b[0m\u001b[1;33m,\u001b[0m\u001b[0mencoding\u001b[0m \u001b[1;33m=\u001b[0m \u001b[1;34m\"utf8\"\u001b[0m\u001b[1;33m)\u001b[0m\u001b[1;33m\u001b[0m\u001b[1;33m\u001b[0m\u001b[0m\n\u001b[0;32m      2\u001b[0m \u001b[0mmean_data\u001b[0m \u001b[1;33m=\u001b[0m \u001b[0mdata\u001b[0m\u001b[1;33m.\u001b[0m\u001b[0mgroupby\u001b[0m\u001b[1;33m(\u001b[0m\u001b[1;33m[\u001b[0m\u001b[1;34m'device_id'\u001b[0m\u001b[1;33m,\u001b[0m\u001b[1;34m'Date'\u001b[0m\u001b[1;33m]\u001b[0m\u001b[1;33m)\u001b[0m\u001b[1;33m.\u001b[0m\u001b[0mmean\u001b[0m\u001b[1;33m(\u001b[0m\u001b[1;33m)\u001b[0m\u001b[1;33m\u001b[0m\u001b[1;33m\u001b[0m\u001b[0m\n\u001b[1;32m----> 3\u001b[1;33m \u001b[0mmean_data\u001b[0m\u001b[1;33m[\u001b[0m\u001b[1;34m'quality'\u001b[0m\u001b[1;33m]\u001b[0m\u001b[1;33m=\u001b[0m \u001b[0mmean_data\u001b[0m\u001b[1;33m[\u001b[0m\u001b[1;34m'PM2.5'\u001b[0m\u001b[1;33m]\u001b[0m\u001b[1;33m.\u001b[0m\u001b[0mapply\u001b[0m\u001b[1;33m(\u001b[0m\u001b[1;32mlambda\u001b[0m \u001b[0mx\u001b[0m\u001b[1;33m:\u001b[0m \u001b[0mfun\u001b[0m\u001b[1;33m(\u001b[0m\u001b[0mx\u001b[0m\u001b[1;33m)\u001b[0m\u001b[1;33m)\u001b[0m\u001b[1;33m\u001b[0m\u001b[1;33m\u001b[0m\u001b[0m\n\u001b[0m\u001b[0;32m      4\u001b[0m \u001b[0mmean_data\u001b[0m\u001b[1;33m[\u001b[0m\u001b[1;34m'quality'\u001b[0m\u001b[1;33m]\u001b[0m \u001b[1;33m=\u001b[0m \u001b[0mmean_data\u001b[0m\u001b[1;33m[\u001b[0m\u001b[1;34m\"quality\"\u001b[0m\u001b[1;33m]\u001b[0m\u001b[1;33m.\u001b[0m\u001b[0mshift\u001b[0m\u001b[1;33m(\u001b[0m\u001b[1;33m-\u001b[0m\u001b[1;36m1\u001b[0m\u001b[1;33m)\u001b[0m\u001b[1;33m\u001b[0m\u001b[1;33m\u001b[0m\u001b[0m\n\u001b[0;32m      5\u001b[0m \u001b[0mdata\u001b[0m\u001b[1;33m=\u001b[0m\u001b[0mmean_data\u001b[0m\u001b[1;33m.\u001b[0m\u001b[0mreset_index\u001b[0m\u001b[1;33m(\u001b[0m\u001b[0minplace\u001b[0m\u001b[1;33m=\u001b[0m\u001b[1;32mFalse\u001b[0m\u001b[1;33m)\u001b[0m\u001b[1;33m\u001b[0m\u001b[1;33m\u001b[0m\u001b[0m\n",
      "\u001b[1;31mNameError\u001b[0m: name 'fun' is not defined"
     ]
    }
   ],
   "source": [
    "data = pd.read_csv(\"PM25_train.csv\",encoding = \"utf8\")\n",
    "mean_data = data.groupby(['device_id','Date']).mean()\n",
    "mean_data['quality']= mean_data['PM2.5'].apply(lambda x: fun(x))\n",
    "mean_data['quality'] = mean_data[\"quality\"].shift(-1)\n",
    "data=mean_data.reset_index(inplace=False)\n",
    "data= data[data.Date != \"2017-01-30\"]\n",
    "\n",
    "X = data[['PM2.5','Temperature','Humidity','lat','lon']]\n",
    "Y = data[['quality']]\n",
    "\n",
    "X_train, X_test, y_train, y_test = train_test_split(X, \n",
    "                                                    Y, \n",
    "                                                    test_size = 0.2, \n",
    "                                                    random_state = 0)\n",
    "svm_model = svm.SVC()\n",
    "svm_model.fit(X_train, y_train)\n",
    "pred = svm_model.predict(X_test)\n",
    "print(\"accuracy:%.2f\"% metrics.accuracy_score(y_test, pred))"
   ]
  },
  {
   "cell_type": "markdown",
   "metadata": {},
   "source": [
    "## 增加PM10、PM1的資訊做訓練\n",
    "\n",
    "因為感測器不同，有些資訊料沒有PM10或PM1的數值\n",
    "沒數值的資料直接丟棄"
   ]
  },
  {
   "cell_type": "code",
   "execution_count": null,
   "metadata": {},
   "outputs": [],
   "source": [
    "data = pd.read_csv(\"PM25_train.csv\",encoding = \"utf8\")\n",
    "data =data[data[\"PM10\"] > 0] #取有PM10數值的資料\n",
    "data =data[data[\"PM1\"] > 0] #取有PM1數值的資料\n",
    "mean_data = data.groupby(['device_id','Date']).mean()\n",
    "mean_data['quality']= mean_data['PM2.5'].apply(lambda x: fun(x))\n",
    "mean_data['quality'] = mean_data[\"quality\"].shift(-1)\n",
    "data=mean_data.reset_index(inplace=False)\n",
    "data= data[data.Date != \"2017-01-30\"]\n",
    "\n",
    "X = data[['PM2.5','Temperature','Humidity','lat','lon','PM10','PM1']]\n",
    "Y = data[['quality']]\n",
    "\n",
    "X_train, X_test, y_train, y_test = train_test_split(X, \n",
    "                                                    Y, \n",
    "                                                    test_size = 0.2, \n",
    "                                                    random_state = 0)\n",
    "svm_model = svm.SVC()\n",
    "svm_model.fit(X_train, y_train)\n",
    "pred = svm_model.predict(X_test)\n",
    "print(\"accuracy:%.2f\"% metrics.accuracy_score(y_test, pred))"
   ]
  },
  {
   "cell_type": "markdown",
   "metadata": {},
   "source": [
    "| 資料     | accuracy | \n",
    "| -------- | -------- |\n",
    "| 只取PM2.5與溫溼度    | 0.72     | \n",
    "| 增加經緯度資訊 | 0.74     |\n",
    "| 增加PM1與PM10資訊     | 0.73     | "
   ]
  }
 ],
 "metadata": {
  "kernelspec": {
   "display_name": "Python 3",
   "language": "python",
   "name": "python3"
  },
  "language_info": {
   "codemirror_mode": {
    "name": "ipython",
    "version": 3
   },
   "file_extension": ".py",
   "mimetype": "text/x-python",
   "name": "python",
   "nbconvert_exporter": "python",
   "pygments_lexer": "ipython3",
   "version": "3.6.7"
  }
 },
 "nbformat": 4,
 "nbformat_minor": 2
}
